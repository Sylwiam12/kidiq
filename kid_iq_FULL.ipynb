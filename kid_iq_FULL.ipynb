{
 "cells": [
  {
   "cell_type": "code",
   "execution_count": 843,
   "metadata": {
    "metadata": {}
   },
   "outputs": [],
   "source": [
    "import pandas as pd\n",
    "import matplotlib.pyplot as plt\n",
    "import numpy as np\n",
    "import warnings\n",
    "warnings.filterwarnings(\"ignore\")"
   ]
  },
  {
   "cell_type": "code",
   "execution_count": 844,
   "metadata": {
    "metadata": {}
   },
   "outputs": [],
   "source": [
    "df = pd.read_csv(\"kidiq.csv\", sep=\";\")"
   ]
  },
  {
   "cell_type": "markdown",
   "metadata": {},
   "source": [
    "Data description\n",
    "\n",
    "```\n",
    "kid_score Child's IQ score\n",
    "        mom_hs Indicator for whether the mother has a high school degree\n",
    "        mom_iq Mother's IQ score\n",
    "        mom_work 1 = did not work in first three years of child's life\n",
    "                 2 = worked in 2nd or 3rd year of child's life\n",
    "                 3 = worked part-time in first year of child's life\n",
    "                 4 = worked full-time in first year of child's life\n",
    "        mom_age Mother's age\n",
    "\n",
    "```\n"
   ]
  },
  {
   "cell_type": "code",
   "execution_count": 845,
   "metadata": {
    "metadata": {}
   },
   "outputs": [
    {
     "data": {
      "text/html": [
       "<div>\n",
       "<style scoped>\n",
       "    .dataframe tbody tr th:only-of-type {\n",
       "        vertical-align: middle;\n",
       "    }\n",
       "\n",
       "    .dataframe tbody tr th {\n",
       "        vertical-align: top;\n",
       "    }\n",
       "\n",
       "    .dataframe thead th {\n",
       "        text-align: right;\n",
       "    }\n",
       "</style>\n",
       "<table border=\"1\" class=\"dataframe\">\n",
       "  <thead>\n",
       "    <tr style=\"text-align: right;\">\n",
       "      <th></th>\n",
       "      <th>kid_score</th>\n",
       "      <th>mom_hs</th>\n",
       "      <th>mom_iq</th>\n",
       "      <th>mom_work</th>\n",
       "      <th>mom_age</th>\n",
       "    </tr>\n",
       "  </thead>\n",
       "  <tbody>\n",
       "    <tr>\n",
       "      <th>0</th>\n",
       "      <td>65</td>\n",
       "      <td>1</td>\n",
       "      <td>121.117529</td>\n",
       "      <td>4</td>\n",
       "      <td>27</td>\n",
       "    </tr>\n",
       "    <tr>\n",
       "      <th>1</th>\n",
       "      <td>98</td>\n",
       "      <td>1</td>\n",
       "      <td>89.361882</td>\n",
       "      <td>4</td>\n",
       "      <td>25</td>\n",
       "    </tr>\n",
       "    <tr>\n",
       "      <th>2</th>\n",
       "      <td>85</td>\n",
       "      <td>1</td>\n",
       "      <td>115.443165</td>\n",
       "      <td>4</td>\n",
       "      <td>27</td>\n",
       "    </tr>\n",
       "    <tr>\n",
       "      <th>3</th>\n",
       "      <td>83</td>\n",
       "      <td>1</td>\n",
       "      <td>99.449639</td>\n",
       "      <td>3</td>\n",
       "      <td>25</td>\n",
       "    </tr>\n",
       "    <tr>\n",
       "      <th>4</th>\n",
       "      <td>115</td>\n",
       "      <td>1</td>\n",
       "      <td>92.745710</td>\n",
       "      <td>4</td>\n",
       "      <td>27</td>\n",
       "    </tr>\n",
       "  </tbody>\n",
       "</table>\n",
       "</div>"
      ],
      "text/plain": [
       "   kid_score  mom_hs      mom_iq  mom_work  mom_age\n",
       "0         65       1  121.117529         4       27\n",
       "1         98       1   89.361882         4       25\n",
       "2         85       1  115.443165         4       27\n",
       "3         83       1   99.449639         3       25\n",
       "4        115       1   92.745710         4       27"
      ]
     },
     "execution_count": 845,
     "metadata": {},
     "output_type": "execute_result"
    }
   ],
   "source": [
    "df.head()"
   ]
  },
  {
   "cell_type": "code",
   "execution_count": 846,
   "metadata": {
    "metadata": {}
   },
   "outputs": [
    {
     "data": {
      "text/html": [
       "<div>\n",
       "<style scoped>\n",
       "    .dataframe tbody tr th:only-of-type {\n",
       "        vertical-align: middle;\n",
       "    }\n",
       "\n",
       "    .dataframe tbody tr th {\n",
       "        vertical-align: top;\n",
       "    }\n",
       "\n",
       "    .dataframe thead th {\n",
       "        text-align: right;\n",
       "    }\n",
       "</style>\n",
       "<table border=\"1\" class=\"dataframe\">\n",
       "  <thead>\n",
       "    <tr style=\"text-align: right;\">\n",
       "      <th></th>\n",
       "      <th>kid_score</th>\n",
       "      <th>mom_hs</th>\n",
       "      <th>mom_iq</th>\n",
       "      <th>mom_work</th>\n",
       "      <th>mom_age</th>\n",
       "    </tr>\n",
       "  </thead>\n",
       "  <tbody>\n",
       "    <tr>\n",
       "      <th>kid_score</th>\n",
       "      <td>1.000000</td>\n",
       "      <td>0.035672</td>\n",
       "      <td>0.301510</td>\n",
       "      <td>-0.024535</td>\n",
       "      <td>0.095566</td>\n",
       "    </tr>\n",
       "    <tr>\n",
       "      <th>mom_hs</th>\n",
       "      <td>0.035672</td>\n",
       "      <td>1.000000</td>\n",
       "      <td>0.206142</td>\n",
       "      <td>0.045817</td>\n",
       "      <td>0.244039</td>\n",
       "    </tr>\n",
       "    <tr>\n",
       "      <th>mom_iq</th>\n",
       "      <td>0.301510</td>\n",
       "      <td>0.206142</td>\n",
       "      <td>1.000000</td>\n",
       "      <td>0.010575</td>\n",
       "      <td>-0.012764</td>\n",
       "    </tr>\n",
       "    <tr>\n",
       "      <th>mom_work</th>\n",
       "      <td>-0.024535</td>\n",
       "      <td>0.045817</td>\n",
       "      <td>0.010575</td>\n",
       "      <td>1.000000</td>\n",
       "      <td>0.152207</td>\n",
       "    </tr>\n",
       "    <tr>\n",
       "      <th>mom_age</th>\n",
       "      <td>0.095566</td>\n",
       "      <td>0.244039</td>\n",
       "      <td>-0.012764</td>\n",
       "      <td>0.152207</td>\n",
       "      <td>1.000000</td>\n",
       "    </tr>\n",
       "  </tbody>\n",
       "</table>\n",
       "</div>"
      ],
      "text/plain": [
       "           kid_score    mom_hs    mom_iq  mom_work   mom_age\n",
       "kid_score   1.000000  0.035672  0.301510 -0.024535  0.095566\n",
       "mom_hs      0.035672  1.000000  0.206142  0.045817  0.244039\n",
       "mom_iq      0.301510  0.206142  1.000000  0.010575 -0.012764\n",
       "mom_work   -0.024535  0.045817  0.010575  1.000000  0.152207\n",
       "mom_age     0.095566  0.244039 -0.012764  0.152207  1.000000"
      ]
     },
     "execution_count": 846,
     "metadata": {},
     "output_type": "execute_result"
    }
   ],
   "source": [
    "df.corr()"
   ]
  },
  {
   "cell_type": "code",
   "execution_count": 847,
   "metadata": {
    "metadata": {}
   },
   "outputs": [
    {
     "data": {
      "image/png": "[encoded data removed]",
      "text/plain": [
       "<Figure size 432x288 with 1 Axes>"
      ]
     },
     "metadata": {
      "needs_background": "light"
     },
     "output_type": "display_data"
    }
   ],
   "source": [
    "plt.scatter(df.mom_iq.values, df.kid_score.values)\n",
    "plt.title(\"Dependenct beewteen the kid and mother IQ\")\n",
    "plt.ylabel(\"Kid IQ\")\n",
    "plt.xlabel(\"Mom IQ\")\n",
    "plt.show()"
   ]
  },
  {
   "cell_type": "code",
   "execution_count": 848,
   "metadata": {
    "metadata": {}
   },
   "outputs": [
    {
     "data": {
      "image/png": "[encoded data removed]",
      "text/plain": [
       "<Figure size 432x288 with 1 Axes>"
      ]
     },
     "metadata": {
      "needs_background": "light"
     },
     "output_type": "display_data"
    }
   ],
   "source": [
    "plt.scatter( df.mom_hs.values, df.kid_score.values)\n",
    "plt.title('Dependency beetween the kid IQ and the indicator HS')\n",
    "plt.ylabel(\"Kid IQ\")\n",
    "plt.xlabel(\"Mom HS\")\n",
    "plt.show()"
   ]
  },
  {
   "cell_type": "code",
   "execution_count": 849,
   "metadata": {
    "metadata": {}
   },
   "outputs": [
    {
     "data": {
      "image/png": "[encoded data removed]",
      "text/plain": [
       "<Figure size 432x288 with 1 Axes>"
      ]
     },
     "metadata": {
      "needs_background": "light"
     },
     "output_type": "display_data"
    }
   ],
   "source": [
    "plt.hist(df.kid_score.values, bins=30, color='skyblue', edgecolor='black')\n",
    "plt.title('Kid IQ - histogram')\n",
    "plt.show()"
   ]
  },
  {
   "cell_type": "code",
   "execution_count": 850,
   "metadata": {
    "metadata": {}
   },
   "outputs": [
    {
     "data": {
      "image/png": "[encoded data removed]",
      "text/plain": [
       "<Figure size 432x288 with 1 Axes>"
      ]
     },
     "metadata": {
      "needs_background": "light"
     },
     "output_type": "display_data"
    }
   ],
   "source": [
    "plt.hist(df.mom_iq.values, bins=30, color='violet', edgecolor='black')\n",
    "plt.title('Mom IQ - histogram')\n",
    "plt.show()"
   ]
  },
  {
   "cell_type": "code",
   "execution_count": 851,
   "metadata": {
    "metadata": {}
   },
   "outputs": [
    {
     "data": {
      "image/png": "[encoded data removed]",
      "text/plain": [
       "<Figure size 432x288 with 1 Axes>"
      ]
     },
     "metadata": {
      "needs_background": "light"
     },
     "output_type": "display_data"
    }
   ],
   "source": [
    "plt.hist(df.mom_hs.values, color='lightgreen', edgecolor='black')\n",
    "plt.title('Mom HS - histogram')\n",
    "plt.show()"
   ]
  },
  {
   "cell_type": "code",
   "execution_count": 852,
   "metadata": {
    "metadata": {}
   },
   "outputs": [
    {
     "name": "stderr",
     "output_type": "stream",
     "text": [
      "INFO:cmdstanpy:found newer exe file, not recompiling\n",
      "INFO:cmdstanpy:CmdStan start processing\n",
      "chain 1 |\u001b[34m██████████\u001b[0m| 00:00 Sampling completed                      "
     ]
    },
    {
     "name": "stdout",
     "output_type": "stream",
     "text": [
      "                                                                                "
     ]
    },
    {
     "name": "stderr",
     "output_type": "stream",
     "text": [
      "\n",
      "INFO:cmdstanpy:CmdStan done processing.\n"
     ]
    },
    {
     "name": "stdout",
     "output_type": "stream",
     "text": [
      "\n"
     ]
    }
   ],
   "source": [
    "from cmdstanpy import CmdStanModel\n",
    "R = 1000\n",
    "model_1=CmdStanModel(stan_file='prior1.stan')\n",
    "\n",
    "model_1_samp = model_1.sample(data = {'N': df.shape[0], 'mom_iq': df[\"mom_iq\"].values},\n",
    "                     iter_sampling=R,\n",
    "                     iter_warmup=1,\n",
    "                     chains=1,\n",
    "                     fixed_param=True,\n",
    "                     seed=2904)"
   ]
  },
  {
   "cell_type": "code",
   "execution_count": 853,
   "metadata": {
    "metadata": {}
   },
   "outputs": [
    {
     "name": "stdout",
     "output_type": "stream",
     "text": [
      "[  0.       79.7463  -18.5757    0.        0.       77.8399  112.173\n",
      "   0.        0.        0.        0.       43.4574    0.        0.\n",
      " 118.031     0.        0.        0.       68.1511    0.        0.\n",
      "   0.       76.6392  113.394     0.        0.      104.831   130.637\n",
      "  74.0567    0.      114.038   116.375    62.9061  129.03     96.9963\n",
      " 119.906     0.        0.        0.        0.      136.412    50.5082\n",
      "   0.      117.258    95.3211    0.        0.      111.887    63.7219\n",
      " 111.176   131.05    103.707     0.       52.7431   93.8794    0.\n",
      "   0.        0.        0.        0.        0.      124.234     0.\n",
      "   0.      172.89      0.        0.        0.       90.7233    0.\n",
      "   0.        0.       66.3122  189.552     0.        0.        0.\n",
      "  55.6722    0.      103.833     0.       86.5541    0.        0.\n",
      "  39.6946    0.      148.997     0.        0.       84.8571   49.4567\n",
      "   0.      104.701     0.      171.402   132.047     0.        0.\n",
      "   0.        0.       47.7735  123.543   144.858   189.244    97.0774\n",
      "   5.31497  75.4109  143.895   125.854    92.6926   59.9689    0.\n",
      "  44.2814   89.1303    0.      137.626   169.029    56.589   121.799\n",
      "  94.9645    0.        0.      173.755    37.8007    0.        0.\n",
      "  82.654     0.       70.2462  146.672    97.4432    3.86499  97.9425\n",
      "   0.      134.641   170.577    84.3336    0.        0.        0.\n",
      " 185.285   121.586     0.        0.        0.        0.        0.\n",
      "   0.        0.        0.      120.448     0.       97.4837    0.\n",
      " 126.479   119.306     0.      102.375     0.      135.322     0.\n",
      " 127.826     0.        0.       97.6985   68.3292  119.876     0.\n",
      "   0.       65.7095   95.6782    0.        0.        0.       53.2376\n",
      "  65.3468    0.        0.      133.708     0.       76.1847    0.\n",
      "  44.222    87.0499    0.        0.        0.       90.1766  124.946\n",
      "   0.        0.        0.      102.791     0.       76.705    98.9064\n",
      "   0.        0.       32.3497    0.       60.9562    0.        0.\n",
      "   0.      100.468   138.092   177.596     0.       61.4318    0.\n",
      "   0.        0.      132.34      0.        0.        0.        0.\n",
      "   0.       70.9033   66.651   151.12      0.        0.       57.821\n",
      "   0.      102.031     0.        0.        0.       92.0005    0.\n",
      "   0.        0.      135.331   148.854   193.722     0.        0.\n",
      " 129.113     0.       75.4068   32.5448    0.      137.588     0.\n",
      " 141.488   140.853   172.827     0.        0.       70.1394    0.\n",
      "   0.      125.495     0.        0.      139.463    45.2483  111.035\n",
      "  85.21      0.        0.        0.      179.602    89.5176  115.885\n",
      "   0.       47.913     0.        0.       89.7972  136.966     0.\n",
      "  15.7454  117.278     0.       15.5808    0.      133.373   106.797\n",
      "   0.      133.854     0.        0.       65.4956  119.329   155.299\n",
      "   0.      184.367     0.        0.        0.      115.006   186.171\n",
      " 135.367     0.        0.        0.      141.6       0.      132.282\n",
      "  79.2298  129.999   155.629     0.      114.65      0.       99.2418\n",
      "  65.2451    0.        0.        0.        0.      136.142     0.\n",
      "   0.       97.0618  127.974     0.      146.914     0.       12.375\n",
      "   0.        0.        0.        0.      116.041     0.       71.5992\n",
      "  74.7946    0.       81.8837  116.615    52.1169    0.        0.\n",
      "  71.3254    0.        0.      101.994   190.982    68.58      0.\n",
      "   0.        0.      133.785   107.205    83.2825   77.2837  137.834\n",
      " 126.923     0.        0.      103.98    103.797     0.        0.\n",
      " 176.097     0.       51.541   136.101     0.       44.6494   88.9539\n",
      " 128.116     0.       92.5612   89.747     0.        0.       79.3142\n",
      "  44.4395   73.4428    0.        0.        0.       70.964     0.\n",
      " 126.247     0.        0.        0.       84.9814    0.       27.9689\n",
      " 100.526   127.546    81.1224  134.272     0.        0.        0.\n",
      "  95.5691    0.        0.        0.       81.6767  160.386    87.8388\n",
      "  94.1333   65.6149  127.55      0.        0.      113.689    57.9121\n",
      " 103.992    61.0003  106.551     0.       67.6852    0.       82.3378\n",
      "   0.        0.        0.       25.6025   77.4636    0.        0.\n",
      "  80.8534    0.       57.0472    0.       56.814     0.       39.817\n",
      "   0.        0.        0.        0.        0.        0.        0.\n",
      "   0.      168.536    93.4253   89.7521   20.7051   93.645    85.5153\n",
      " 123.569   103.88      0.       91.7512  177.384    78.604     0.\n",
      "  64.1793  139.881     0.       50.5468    0.        0.        0.\n",
      " 111.836     0.        0.        0.       63.2479    0.      120.054\n",
      "   0.      123.322    47.6556    0.        0.        0.       93.3993\n",
      " 146.814     0.        0.        0.        0.      140.75    204.526\n",
      " 111.549    78.5975   79.1074    0.       43.7803   56.8414  136.009\n",
      " 118.947   175.044     0.       51.5979    0.       58.1238    0.\n",
      "   0.        0.        0.        0.      152.797     0.      127.507\n",
      "   0.      131.205     0.        0.        0.        0.       -6.9877\n",
      "   0.        0.        0.       68.5625    0.        0.        0.\n",
      "   0.       69.9473    0.       64.5691  147.599     0.      100.78\n",
      "   0.        0.        0.       50.7635  123.887     0.      100.081\n",
      "   0.        0.        0.        0.        0.        0.       93.704\n",
      "   0.        0.        0.        0.        0.        0.       75.6318\n",
      "   0.       73.5845   93.6093   95.5974    0.       90.4713   62.1102\n",
      "  65.4048   86.5527    0.      157.31    105.185    93.9706    0.\n",
      "  46.6143  105.443     0.      -11.8142  111.625   119.433   111.812\n",
      "   0.        0.       22.1264    0.       92.3182   40.3804   57.9643\n",
      "  75.2481  107.949   133.951     0.        0.      113.616     0.\n",
      "   0.      128.939    45.741   157.145     0.        0.        0.\n",
      "   0.      111.075   150.908   132.204     0.       47.3218    0.\n",
      "   0.        0.       98.3181  122.867    64.0398  144.135     0.\n",
      "   0.        0.        0.        0.        0.        0.        0.\n",
      "   0.      123.483    68.7287    0.        0.      159.629    59.4901\n",
      "   0.        0.       77.2119  142.013     0.       27.1396  139.074\n",
      "  90.281     0.        0.      134.56      0.       95.9724    0.\n",
      " 117.268    67.328     0.        0.        0.        0.       75.7852\n",
      "   0.        0.        0.       96.6961    0.      134.879     0.\n",
      "   0.      129.724   176.132    61.3826    0.        0.       93.9695\n",
      " 145.614   150.631    60.5955   66.9448    0.       42.9966  147.608\n",
      "  85.5273    0.        0.      122.83     95.2954  122.165   158.836\n",
      "   0.        0.       59.2281    0.        0.      117.146     0.\n",
      "  21.6315    0.       60.9164    0.        0.      111.897   122.538\n",
      " 113.163     0.      156.846     0.       78.7326    0.      123.807\n",
      "   0.       83.275     0.        0.       59.6385  115.481     0.\n",
      "   0.        0.       94.826   151.186    54.7967   55.1437  165.119\n",
      "  94.459    42.5917    0.        0.      126.85      0.        0.\n",
      "   0.        0.      197.434   160.11      0.        0.        0.\n",
      " 119.836   153.713     0.        0.      124.913    59.2018    0.\n",
      "   0.        0.        0.        0.        0.        0.        0.\n",
      "   0.        0.      109.359    65.0164   60.7585    0.        0.\n",
      "   0.        0.       99.3391   96.0461   80.4215  115.151     0.\n",
      "   6.84439   0.        0.       83.077     0.       72.0459  173.726\n",
      "   0.        0.      116.04      0.       98.0665   75.0225  107.175\n",
      " 108.582     0.       54.0681    0.       82.758     0.      156.605\n",
      "  83.6806    0.       23.907   128.372    79.2491    0.        0.\n",
      "   0.        0.      148.811     0.        0.        0.      117.464\n",
      "   0.       78.7867    0.        0.      142.611    79.2949   74.1969\n",
      " 122.933   158.666     0.       77.2152    0.        0.        0.\n",
      " 108.952    30.8187   31.1524   77.6021    0.        0.        0.\n",
      " 120.366    39.2906    0.      148.743   124.549     0.        0.\n",
      "   0.       81.9171   78.8915  137.382     0.        0.       97.0674\n",
      "  90.745     0.        0.        0.       71.2796  140.52      0.\n",
      " 130.78      0.       15.1052  162.133    95.0197    0.        0.\n",
      "   0.        0.        0.      125.699     0.        0.      174.217\n",
      "  91.9263    0.      108.561     0.      106.327     0.        0.\n",
      "  70.6516  107.17     98.706     0.      185.563    68.5916    0.\n",
      " 137.509     0.       98.1369    0.      126.87    148.369   128.609\n",
      "   0.      147.615     0.       27.8461   75.4796    0.      126.451\n",
      "  67.8747    0.      122.975    69.1541  115.36     76.3361    0.\n",
      "  71.6456    0.        0.       57.4401    0.        0.        0.\n",
      "   0.      124.925   104.911     0.        0.        0.        0.\n",
      " 101.781     0.      168.577    85.9403    0.      114.035   101.835\n",
      "  55.1979   74.4514  140.224    50.8204   67.0491    0.      196.551\n",
      "   0.       44.6034   54.536     0.       75.2897   61.0222    0.\n",
      "   0.        0.      104.979     0.      109.812   130.172     0.\n",
      "  57.4801  130.192   163.55    161.079     0.      164.295   103.498\n",
      "  83.4583    0.        0.        0.        0.        0.        0.\n",
      "  87.8717    0.      108.257     0.        0.        0.        0.\n",
      "  50.0833    0.        0.       83.8996    0.        0.      129.92\n",
      "  71.1738   87.4981   67.7259    0.      157.168    78.4498  110.777\n",
      " 187.631     0.        0.        0.       78.3623  109.155     0.\n",
      "   0.        0.        0.       96.1361    0.      130.098   103.985\n",
      "   0.        0.       51.9409    0.        0.      145.542     0.\n",
      "   0.       90.0996   11.4704   66.2477    0.       70.2432    0.\n",
      "   0.        0.      132.833     0.       23.7082    0.      115.892\n",
      "   0.        0.       71.7408   94.918    58.0583    0.       64.7021\n",
      " 126.971    61.9842  127.748   154.111    56.515     0.       84.4319\n",
      " 135.358     0.      184.273   163.655     0.        0.        0.\n",
      "  63.911   132.171     0.      162.803     0.       90.7622 ]\n"
     ]
    }
   ],
   "source": [
    "print(model_1_samp.stan_variable(\"beta0\"))"
   ]
  },
  {
   "cell_type": "code",
   "execution_count": 854,
   "metadata": {
    "metadata": {}
   },
   "outputs": [
    {
     "name": "stdout",
     "output_type": "stream",
     "text": [
      "[ 0.00000e+00  2.11598e+00  9.83194e-01  0.00000e+00  0.00000e+00\n",
      "  1.88169e-01 -2.35982e-01  0.00000e+00  0.00000e+00  0.00000e+00\n",
      "  0.00000e+00 -1.21036e-01  0.00000e+00  0.00000e+00  2.73636e+00\n",
      "  0.00000e+00  0.00000e+00  0.00000e+00 -2.61543e-01  0.00000e+00\n",
      "  0.00000e+00  0.00000e+00  7.44192e-01  1.34955e+00  0.00000e+00\n",
      "  0.00000e+00  1.03876e+00 -5.56921e-02  1.91485e+00  0.00000e+00\n",
      " -4.00329e-01  8.68341e-01 -1.01311e-01  2.61592e-01  1.12962e+00\n",
      " -7.52490e-01  0.00000e+00  0.00000e+00  0.00000e+00  0.00000e+00\n",
      "  9.22906e-03  5.47236e-01  0.00000e+00 -1.20645e+00  8.56725e-01\n",
      "  0.00000e+00  0.00000e+00  2.50607e+00  1.63213e+00  9.80364e-01\n",
      "  1.74184e+00  1.10434e+00  0.00000e+00  3.01486e-01  2.10780e+00\n",
      "  0.00000e+00  0.00000e+00  0.00000e+00  0.00000e+00  0.00000e+00\n",
      "  0.00000e+00 -2.17778e+00  0.00000e+00  0.00000e+00  1.10573e+00\n",
      "  0.00000e+00  0.00000e+00  0.00000e+00  1.78313e+00  0.00000e+00\n",
      "  0.00000e+00  0.00000e+00  7.40257e-01 -7.76805e-01  0.00000e+00\n",
      "  0.00000e+00  0.00000e+00 -2.19501e-01  0.00000e+00  2.39300e+00\n",
      "  0.00000e+00 -7.46005e-01  0.00000e+00  0.00000e+00 -9.63895e-01\n",
      "  0.00000e+00  1.44870e+00  0.00000e+00  0.00000e+00  3.30647e-01\n",
      " -9.36471e-01  0.00000e+00 -5.37111e-01  0.00000e+00  1.12659e+00\n",
      " -5.44694e-02  0.00000e+00  0.00000e+00  0.00000e+00  0.00000e+00\n",
      "  1.71842e+00 -4.69779e-01  1.16000e+00  1.02374e+00  5.19443e-01\n",
      " -9.69202e-01  4.67024e-01 -1.65724e-01  1.32639e+00  5.01123e-01\n",
      "  1.77039e+00  0.00000e+00 -7.11873e-01  1.11949e+00  0.00000e+00\n",
      "  1.06591e+00  1.57563e+00  2.06843e-01  1.54967e+00  2.01345e+00\n",
      "  0.00000e+00  0.00000e+00 -8.54104e-01 -4.09983e-01  0.00000e+00\n",
      "  0.00000e+00  3.47239e-01  0.00000e+00 -7.88347e-01  4.58143e-01\n",
      "  6.95870e-01  5.84170e-01  8.12947e-01  0.00000e+00  1.25717e+00\n",
      " -2.81109e-01  9.22623e-01  0.00000e+00  0.00000e+00  0.00000e+00\n",
      "  1.04270e+00 -1.95130e-01  0.00000e+00  0.00000e+00  0.00000e+00\n",
      "  0.00000e+00  0.00000e+00  0.00000e+00  0.00000e+00  0.00000e+00\n",
      " -1.23516e-01  0.00000e+00 -1.60678e-01  0.00000e+00  6.55403e-01\n",
      "  2.32845e+00  0.00000e+00  1.12243e+00  0.00000e+00  1.28523e+00\n",
      "  0.00000e+00 -1.53950e+00  0.00000e+00  0.00000e+00  2.29022e-01\n",
      " -1.00447e+00  6.56132e-01  0.00000e+00  0.00000e+00  1.88426e+00\n",
      "  4.61959e-01  0.00000e+00  0.00000e+00  0.00000e+00  1.02664e+00\n",
      " -2.35540e-01  0.00000e+00  0.00000e+00  6.58239e-01  0.00000e+00\n",
      "  3.66919e-01  0.00000e+00  2.15823e-02 -3.01764e-01  0.00000e+00\n",
      "  0.00000e+00  0.00000e+00  1.87056e-01 -7.40746e-01  0.00000e+00\n",
      "  0.00000e+00  0.00000e+00 -1.61232e-01  0.00000e+00  1.22668e+00\n",
      "  8.63169e-01  0.00000e+00  0.00000e+00 -9.33532e-02  0.00000e+00\n",
      "  6.74326e-01  0.00000e+00  0.00000e+00  0.00000e+00 -1.31957e+00\n",
      "  7.35244e-01 -5.71275e-01  0.00000e+00  6.81059e-01  0.00000e+00\n",
      "  0.00000e+00  0.00000e+00  9.41296e-02  0.00000e+00  0.00000e+00\n",
      "  0.00000e+00  0.00000e+00  0.00000e+00 -5.28139e-01  5.18673e-01\n",
      "  6.86746e-01  0.00000e+00  0.00000e+00  8.52755e-01  0.00000e+00\n",
      "  2.57988e+00  0.00000e+00  0.00000e+00  0.00000e+00 -7.27658e-01\n",
      "  0.00000e+00  0.00000e+00  0.00000e+00  2.55529e-02  6.93414e-01\n",
      "  2.06943e+00  0.00000e+00  0.00000e+00  6.10978e-01  0.00000e+00\n",
      "  7.05121e-01  2.42951e+00  0.00000e+00  1.19687e+00  0.00000e+00\n",
      "  9.81167e-01 -2.23766e-01  1.71942e-01  0.00000e+00  0.00000e+00\n",
      "  1.99852e-01  0.00000e+00  0.00000e+00  3.90161e-01  0.00000e+00\n",
      "  0.00000e+00  2.41109e+00 -5.35023e-01  1.70038e-01 -1.74976e-01\n",
      "  0.00000e+00  0.00000e+00  0.00000e+00  1.75631e-01  1.85522e+00\n",
      " -1.01325e+00  0.00000e+00  1.80993e+00  0.00000e+00  0.00000e+00\n",
      "  6.37656e-01  2.01499e+00  0.00000e+00  1.02774e+00 -7.81902e-01\n",
      "  0.00000e+00 -7.33009e-01  0.00000e+00  6.81457e-02  1.31849e+00\n",
      "  0.00000e+00 -1.21587e-01  0.00000e+00  0.00000e+00  4.18541e-01\n",
      "  1.32735e+00  8.34338e-01  0.00000e+00  1.43504e+00  0.00000e+00\n",
      "  0.00000e+00  0.00000e+00  1.87195e+00  1.42418e+00  1.01469e+00\n",
      "  0.00000e+00  0.00000e+00  0.00000e+00  2.87795e-03  0.00000e+00\n",
      "  2.02619e+00  6.47060e-01  3.19709e-01  2.21896e+00  0.00000e+00\n",
      " -2.68231e-02  0.00000e+00  8.78347e-01  7.26698e-01  0.00000e+00\n",
      "  0.00000e+00  0.00000e+00  0.00000e+00  3.32152e-01  0.00000e+00\n",
      "  0.00000e+00 -1.26711e-01 -1.14756e+00  0.00000e+00 -1.55980e+00\n",
      "  0.00000e+00 -8.21582e-01  0.00000e+00  0.00000e+00  0.00000e+00\n",
      "  0.00000e+00  1.19164e+00  0.00000e+00  9.35031e-01  2.57463e+00\n",
      "  0.00000e+00 -5.00226e-01  7.84872e-01 -1.18174e+00  0.00000e+00\n",
      "  0.00000e+00  1.23526e+00  0.00000e+00  0.00000e+00 -1.37117e+00\n",
      "  2.02735e+00  3.27360e-01  0.00000e+00  0.00000e+00  0.00000e+00\n",
      "  1.16541e+00 -2.64914e-01  1.06758e+00  9.70096e-01  2.25456e+00\n",
      " -9.27917e-01  0.00000e+00  0.00000e+00 -6.38815e-02 -1.22832e+00\n",
      "  0.00000e+00  0.00000e+00 -5.79250e-01  0.00000e+00 -6.21355e-01\n",
      "  2.37911e-01  0.00000e+00  2.19047e+00 -6.76814e-01  1.40190e+00\n",
      "  0.00000e+00  6.51935e-01  1.01287e+00  0.00000e+00  0.00000e+00\n",
      "  1.82200e+00  2.25080e+00  6.80846e-01  0.00000e+00  0.00000e+00\n",
      "  0.00000e+00  8.31820e-01  0.00000e+00 -7.46887e-01  0.00000e+00\n",
      "  0.00000e+00  0.00000e+00  2.19614e-01  0.00000e+00  1.42560e+00\n",
      " -4.40340e-01 -1.13639e+00  1.02184e+00 -5.57992e-01  0.00000e+00\n",
      "  0.00000e+00  0.00000e+00 -1.10696e+00  0.00000e+00  0.00000e+00\n",
      "  0.00000e+00 -3.28095e-01  1.16053e+00  4.72298e-02  1.57960e+00\n",
      "  1.10819e+00 -8.89599e-01  0.00000e+00  0.00000e+00  1.59459e+00\n",
      "  3.74513e+00  1.51761e-02 -1.52894e+00  2.76404e+00  0.00000e+00\n",
      "  6.84123e-01  0.00000e+00  3.19505e-01  0.00000e+00  0.00000e+00\n",
      "  0.00000e+00  2.50191e-01  1.63841e+00  0.00000e+00  0.00000e+00\n",
      " -1.27027e+00  0.00000e+00  1.06548e+00  0.00000e+00 -4.03503e-01\n",
      "  0.00000e+00  1.07524e+00  0.00000e+00  0.00000e+00  0.00000e+00\n",
      "  0.00000e+00  0.00000e+00  0.00000e+00  0.00000e+00  0.00000e+00\n",
      "  1.13616e+00  5.09541e-01  5.55420e-01  6.59247e-01 -4.15007e-01\n",
      "  1.18979e-01 -7.30129e-01  4.23273e-01  0.00000e+00  2.39374e-01\n",
      "  7.78749e-01  1.53247e+00  0.00000e+00  4.35420e-01 -6.78162e-01\n",
      "  0.00000e+00  1.96437e+00  0.00000e+00  0.00000e+00  0.00000e+00\n",
      " -2.98653e-01  0.00000e+00  0.00000e+00  0.00000e+00  1.31066e+00\n",
      "  0.00000e+00  2.40737e+00  0.00000e+00 -2.88749e-01 -1.26888e-01\n",
      "  0.00000e+00  0.00000e+00  0.00000e+00 -7.37983e-01  4.29650e-01\n",
      "  0.00000e+00  0.00000e+00  0.00000e+00  0.00000e+00  6.36587e-01\n",
      "  1.79166e-01  1.98337e-01 -1.51851e-01  5.15386e-01  0.00000e+00\n",
      "  5.07425e-01  4.94331e-01 -1.76629e+00  2.23080e+00  2.41228e+00\n",
      "  0.00000e+00  1.42630e+00  0.00000e+00  1.06909e+00  0.00000e+00\n",
      "  0.00000e+00  0.00000e+00  0.00000e+00  0.00000e+00 -1.64227e-02\n",
      "  0.00000e+00  1.92257e+00  0.00000e+00  7.72784e-01  0.00000e+00\n",
      "  0.00000e+00  0.00000e+00  0.00000e+00  5.54301e-01  0.00000e+00\n",
      "  0.00000e+00  0.00000e+00 -3.49844e-01  0.00000e+00  0.00000e+00\n",
      "  0.00000e+00  0.00000e+00  2.79535e-01  0.00000e+00  6.40705e-03\n",
      "  1.81772e-01  0.00000e+00 -8.56567e-01  0.00000e+00  0.00000e+00\n",
      "  0.00000e+00  1.44952e+00  3.33438e+00  0.00000e+00  1.32796e+00\n",
      "  0.00000e+00  0.00000e+00  0.00000e+00  0.00000e+00  0.00000e+00\n",
      "  0.00000e+00  1.90935e+00  0.00000e+00  0.00000e+00  0.00000e+00\n",
      "  0.00000e+00  0.00000e+00  0.00000e+00  1.27791e+00  0.00000e+00\n",
      " -1.53786e-01 -8.60441e-01  7.56295e-01  0.00000e+00  8.36716e-01\n",
      "  1.25697e+00  1.27831e+00 -7.47809e-01  0.00000e+00  1.45524e-01\n",
      " -1.41807e+00  7.23900e-01  0.00000e+00  4.18617e-01  2.11842e+00\n",
      "  0.00000e+00  1.05055e+00  2.27242e+00 -2.18025e-01 -2.91738e-01\n",
      "  0.00000e+00  0.00000e+00  3.11015e+00  0.00000e+00  1.61468e-01\n",
      "  8.82696e-01  3.93717e-01  4.27803e+00  1.31396e+00  1.37250e+00\n",
      "  0.00000e+00  0.00000e+00  3.73026e-01  0.00000e+00  0.00000e+00\n",
      " -6.65518e-02  1.34519e+00 -1.41589e-01  0.00000e+00  0.00000e+00\n",
      "  0.00000e+00  0.00000e+00  5.00051e-01  1.00294e+00  1.46022e+00\n",
      "  0.00000e+00  8.64676e-01  0.00000e+00  0.00000e+00  0.00000e+00\n",
      "  1.59657e+00 -1.45369e+00  2.74420e+00  7.37860e-01  0.00000e+00\n",
      "  0.00000e+00  0.00000e+00  0.00000e+00  0.00000e+00  0.00000e+00\n",
      "  0.00000e+00  0.00000e+00  0.00000e+00  3.50145e-01 -4.76883e-01\n",
      "  0.00000e+00  0.00000e+00 -5.22783e-01  3.48711e-01  0.00000e+00\n",
      "  0.00000e+00 -2.94193e-01 -9.67601e-01  0.00000e+00 -1.22312e+00\n",
      "  6.75523e-01  1.14074e+00  0.00000e+00  0.00000e+00  8.85644e-01\n",
      "  0.00000e+00  1.11366e+00  0.00000e+00  3.13745e-01 -4.52234e-01\n",
      "  0.00000e+00  0.00000e+00  0.00000e+00  0.00000e+00  6.05421e-02\n",
      "  0.00000e+00  0.00000e+00  0.00000e+00  5.40406e-01  0.00000e+00\n",
      "  6.34246e-01  0.00000e+00  0.00000e+00  8.16415e-01  1.44125e+00\n",
      "  8.91231e-01  0.00000e+00  0.00000e+00  1.96466e+00 -9.88767e-01\n",
      "  2.52062e-01  1.25181e+00 -1.52431e-02  0.00000e+00 -8.30227e-02\n",
      "  2.57850e+00  1.40242e+00  0.00000e+00  0.00000e+00  4.12563e-01\n",
      "  3.05709e-01  1.09191e+00  3.96245e-01  0.00000e+00  0.00000e+00\n",
      "  6.75091e-02  0.00000e+00  0.00000e+00  8.80675e-01  0.00000e+00\n",
      " -1.38103e-01  0.00000e+00 -2.49367e-01  0.00000e+00  0.00000e+00\n",
      " -2.36418e-02  8.91632e-01 -1.03658e+00  0.00000e+00  1.21214e+00\n",
      "  0.00000e+00  1.21360e+00  0.00000e+00  1.12341e+00  0.00000e+00\n",
      " -1.12389e+00  0.00000e+00  0.00000e+00  4.20100e-01  3.59193e+00\n",
      "  0.00000e+00  0.00000e+00  0.00000e+00  5.77841e-01  2.25703e+00\n",
      "  7.96311e-01 -1.02847e-01  1.17363e+00  3.91806e-01 -9.74748e-01\n",
      "  0.00000e+00  0.00000e+00  6.19309e-02  0.00000e+00  0.00000e+00\n",
      "  0.00000e+00  0.00000e+00  8.81390e-01 -3.91686e-01  0.00000e+00\n",
      "  0.00000e+00  0.00000e+00 -7.67464e-01 -1.08590e+00  0.00000e+00\n",
      "  0.00000e+00  1.42127e+00  1.19770e+00  0.00000e+00  0.00000e+00\n",
      "  0.00000e+00  0.00000e+00  0.00000e+00  0.00000e+00  0.00000e+00\n",
      "  0.00000e+00  0.00000e+00  0.00000e+00  4.52597e-01  8.76499e-01\n",
      "  2.14383e-01  0.00000e+00  0.00000e+00  0.00000e+00  0.00000e+00\n",
      " -6.50474e-01  6.65922e-01 -1.02197e+00  3.29927e-02  0.00000e+00\n",
      "  7.26756e-01  0.00000e+00  0.00000e+00  1.71488e+00  0.00000e+00\n",
      "  4.81144e-02 -1.35005e+00  0.00000e+00  0.00000e+00  2.28331e-01\n",
      "  0.00000e+00  1.34191e+00  1.34554e-01  8.88971e-01  1.33584e+00\n",
      "  0.00000e+00 -1.19568e-01  0.00000e+00 -1.03140e+00  0.00000e+00\n",
      "  2.89293e-01 -9.29574e-01  0.00000e+00 -7.69859e-01 -3.92243e-01\n",
      "  1.33973e+00  0.00000e+00  0.00000e+00  0.00000e+00  0.00000e+00\n",
      "  3.27869e-01  0.00000e+00  0.00000e+00  0.00000e+00  9.22723e-01\n",
      "  0.00000e+00 -1.65585e-01  0.00000e+00  0.00000e+00  3.92085e-01\n",
      "  6.87076e-01 -1.52628e-01 -7.38052e-01 -1.58244e-01  0.00000e+00\n",
      "  9.40959e-01  0.00000e+00  0.00000e+00  0.00000e+00  5.31182e-01\n",
      " -1.11160e+00 -5.70519e-01  1.90516e+00  0.00000e+00  0.00000e+00\n",
      "  0.00000e+00  2.91076e-01  1.78062e+00  0.00000e+00  1.08765e+00\n",
      "  5.62078e-01  0.00000e+00  0.00000e+00  0.00000e+00  2.68775e+00\n",
      "  1.10279e-01 -7.43227e-01  0.00000e+00  0.00000e+00  4.11186e-01\n",
      "  9.94314e-01  0.00000e+00  0.00000e+00  0.00000e+00 -1.29013e+00\n",
      " -7.80256e-02  0.00000e+00  5.14862e-01  0.00000e+00  1.69551e+00\n",
      " -2.63371e-01  2.07590e+00  0.00000e+00  0.00000e+00  0.00000e+00\n",
      "  0.00000e+00  0.00000e+00  8.06459e-01  0.00000e+00  0.00000e+00\n",
      "  1.68848e+00 -1.76737e+00  0.00000e+00  1.39774e+00  0.00000e+00\n",
      "  4.53124e-01  0.00000e+00  0.00000e+00  9.19125e-01  7.65863e-01\n",
      " -3.27639e-01  0.00000e+00  2.73113e-01  3.21530e-01  0.00000e+00\n",
      "  1.82341e+00  0.00000e+00  1.95975e+00  0.00000e+00  7.53243e-01\n",
      "  9.26702e-01  1.79054e+00  0.00000e+00 -1.01070e+00  0.00000e+00\n",
      "  7.70844e-01  6.00633e-01  0.00000e+00  2.81471e+00  1.38255e+00\n",
      "  0.00000e+00 -1.77078e+00  1.32085e+00  2.50965e-01  7.59625e-01\n",
      "  0.00000e+00 -3.18143e-02  0.00000e+00  0.00000e+00  1.12843e+00\n",
      "  0.00000e+00  0.00000e+00  0.00000e+00  0.00000e+00 -4.91384e-01\n",
      " -1.75744e-01  0.00000e+00  0.00000e+00  0.00000e+00  0.00000e+00\n",
      "  1.26283e+00  0.00000e+00  9.60434e-01  1.94983e-01  0.00000e+00\n",
      "  5.81674e-01  1.11534e+00 -9.70407e-01  2.09615e-01  2.15465e+00\n",
      " -8.26897e-01  1.53490e+00  0.00000e+00  5.22952e-01  0.00000e+00\n",
      " -1.48508e-01 -7.63267e-01  0.00000e+00  1.73567e+00 -2.34697e-01\n",
      "  0.00000e+00  0.00000e+00  0.00000e+00  7.29721e-01  0.00000e+00\n",
      " -1.18152e+00  1.87597e+00  0.00000e+00  2.58184e+00  9.96487e-01\n",
      "  8.10383e-01 -6.14977e-01  0.00000e+00 -3.15479e-02  4.05927e-01\n",
      "  6.14388e-01  0.00000e+00  0.00000e+00  0.00000e+00  0.00000e+00\n",
      "  0.00000e+00  0.00000e+00  1.24192e+00  0.00000e+00  7.99128e-01\n",
      "  0.00000e+00  0.00000e+00  0.00000e+00  0.00000e+00 -3.31092e-01\n",
      "  0.00000e+00  0.00000e+00  2.11712e+00  0.00000e+00  0.00000e+00\n",
      " -1.51330e-01 -2.47882e-01  2.21620e+00  2.63681e+00  0.00000e+00\n",
      "  1.37189e+00 -1.21959e+00  1.18702e+00 -1.06957e-01  0.00000e+00\n",
      "  0.00000e+00  0.00000e+00  1.09301e+00 -8.45504e-01  0.00000e+00\n",
      "  0.00000e+00  0.00000e+00  0.00000e+00  3.66107e+00  0.00000e+00\n",
      "  1.96769e+00  2.70133e+00  0.00000e+00  0.00000e+00  1.91552e+00\n",
      "  0.00000e+00  0.00000e+00  2.71159e-02  0.00000e+00  0.00000e+00\n",
      "  1.64081e-01  2.01263e-01 -6.16176e-01  0.00000e+00  1.72080e+00\n",
      "  0.00000e+00  0.00000e+00  0.00000e+00  7.91907e-01  0.00000e+00\n",
      "  7.20018e-01  0.00000e+00  9.53674e-01  0.00000e+00  0.00000e+00\n",
      "  1.86701e+00  6.54414e-01 -1.13789e+00  0.00000e+00 -8.18819e-01\n",
      "  1.86391e+00  1.78841e+00 -5.17695e-01  1.40722e+00  2.59855e+00\n",
      "  0.00000e+00  5.19636e-01  8.78568e-01  0.00000e+00  1.90850e+00\n",
      " -5.18553e-01  0.00000e+00  0.00000e+00  0.00000e+00  1.11557e+00\n",
      "  5.32388e-01  0.00000e+00  9.35412e-01  0.00000e+00  1.01052e+00]\n"
     ]
    }
   ],
   "source": [
    "print(model_1_samp.stan_variable(\"beta1\"))"
   ]
  },
  {
   "cell_type": "code",
   "execution_count": 855,
   "metadata": {
    "metadata": {}
   },
   "outputs": [],
   "source": [
    "yields_pred_prior = model_1_samp.stan_variable(\"kid_score\")\n",
    "yields_pred_prior_means = np.mean(yields_pred_prior, axis=0)"
   ]
  },
  {
   "cell_type": "code",
   "execution_count": 856,
   "metadata": {
    "metadata": {}
   },
   "outputs": [
    {
     "name": "stdout",
     "output_type": "stream",
     "text": [
      "[0.00000e+00 1.52000e+00 4.93010e+00 0.00000e+00 0.00000e+00 1.47060e+00\n",
      " 3.86705e+00 0.00000e+00 0.00000e+00 0.00000e+00 0.00000e+00 1.03927e+01\n",
      " 0.00000e+00 0.00000e+00 7.59872e+00 0.00000e+00 0.00000e+00 0.00000e+00\n",
      " 3.48538e+00 0.00000e+00 0.00000e+00 0.00000e+00 3.75848e+01 1.25517e+01\n",
      " 0.00000e+00 0.00000e+00 1.10797e+01 1.59482e+01 2.49382e+00 0.00000e+00\n",
      " 7.55569e+00 1.90069e+01 8.13237e+00 2.81300e+00 2.01322e+01 9.45914e-02\n",
      " 0.00000e+00 0.00000e+00 0.00000e+00 0.00000e+00 6.02418e+00 3.38117e-01\n",
      " 0.00000e+00 2.12638e+01 5.64226e+00 0.00000e+00 0.00000e+00 3.29036e+00\n",
      " 3.82657e+00 4.36310e+01 1.25447e+00 4.61455e+00 0.00000e+00 7.98901e+00\n",
      " 1.39590e+00 0.00000e+00 0.00000e+00 0.00000e+00 0.00000e+00 0.00000e+00\n",
      " 0.00000e+00 3.70202e+00 0.00000e+00 0.00000e+00 6.30403e+00 0.00000e+00\n",
      " 0.00000e+00 0.00000e+00 1.25029e+00 0.00000e+00 0.00000e+00 0.00000e+00\n",
      " 4.90288e+00 3.85067e+00 0.00000e+00 0.00000e+00 0.00000e+00 2.46364e+01\n",
      " 0.00000e+00 1.58755e+00 0.00000e+00 1.08508e+01 0.00000e+00 0.00000e+00\n",
      " 1.16807e+00 0.00000e+00 8.62692e+00 0.00000e+00 0.00000e+00 7.68628e+00\n",
      " 1.71392e+01 0.00000e+00 3.88343e+00 0.00000e+00 4.15107e+00 7.69933e+00\n",
      " 0.00000e+00 0.00000e+00 0.00000e+00 0.00000e+00 1.05584e+01 7.43505e+00\n",
      " 7.24846e+01 3.24814e+01 8.61995e+00 1.77166e+00 1.34291e+01 1.48540e+01\n",
      " 6.13523e+00 9.02917e+00 1.74040e+01 0.00000e+00 1.06078e+01 5.88390e+00\n",
      " 0.00000e+00 1.18101e+01 2.19281e+01 7.98781e+00 1.52195e+01 1.67895e+01\n",
      " 0.00000e+00 0.00000e+00 4.55736e+00 1.32307e+01 0.00000e+00 0.00000e+00\n",
      " 2.64178e+01 0.00000e+00 1.59698e+01 1.17099e+01 2.28519e+00 2.10857e+01\n",
      " 2.62536e-02 0.00000e+00 9.47207e+00 6.07195e+00 6.73014e+00 0.00000e+00\n",
      " 0.00000e+00 0.00000e+00 1.29566e+01 2.28697e+01 0.00000e+00 0.00000e+00\n",
      " 0.00000e+00 0.00000e+00 0.00000e+00 0.00000e+00 0.00000e+00 0.00000e+00\n",
      " 5.66038e+00 0.00000e+00 2.30546e+01 0.00000e+00 4.64988e-01 1.08795e+01\n",
      " 0.00000e+00 3.04106e+01 0.00000e+00 8.13736e+00 0.00000e+00 6.81734e+00\n",
      " 0.00000e+00 0.00000e+00 5.95907e+00 2.86112e+00 5.66808e+00 0.00000e+00\n",
      " 0.00000e+00 1.37288e+01 6.47790e+00 0.00000e+00 0.00000e+00 0.00000e+00\n",
      " 1.53522e+01 1.30335e+01 0.00000e+00 0.00000e+00 4.24515e+01 0.00000e+00\n",
      " 1.10996e+00 0.00000e+00 2.10807e+01 1.31966e+00 0.00000e+00 0.00000e+00\n",
      " 0.00000e+00 2.33873e+00 4.47481e+00 0.00000e+00 0.00000e+00 0.00000e+00\n",
      " 3.39755e+00 0.00000e+00 8.93104e+00 1.72113e+00 0.00000e+00 0.00000e+00\n",
      " 2.48223e+01 0.00000e+00 1.88525e+01 0.00000e+00 0.00000e+00 0.00000e+00\n",
      " 2.28924e+00 1.59897e+01 2.31389e+00 0.00000e+00 4.50729e+01 0.00000e+00\n",
      " 0.00000e+00 0.00000e+00 1.13087e+01 0.00000e+00 0.00000e+00 0.00000e+00\n",
      " 0.00000e+00 0.00000e+00 4.04638e+00 3.61990e+01 1.96935e+01 0.00000e+00\n",
      " 0.00000e+00 8.68937e+00 0.00000e+00 5.12024e-01 0.00000e+00 0.00000e+00\n",
      " 0.00000e+00 7.35431e+00 0.00000e+00 0.00000e+00 0.00000e+00 2.47415e+01\n",
      " 7.13413e+00 7.23525e+00 0.00000e+00 0.00000e+00 6.45111e+00 0.00000e+00\n",
      " 8.06723e+00 5.49344e+00 0.00000e+00 2.00903e+01 0.00000e+00 1.10305e+01\n",
      " 7.32744e+01 1.79593e+01 0.00000e+00 0.00000e+00 5.08386e-01 0.00000e+00\n",
      " 0.00000e+00 2.04334e+01 0.00000e+00 0.00000e+00 7.65349e+00 1.08849e+01\n",
      " 8.47976e-01 1.65596e+00 0.00000e+00 0.00000e+00 0.00000e+00 1.40592e+00\n",
      " 1.14239e+01 1.88685e+01 0.00000e+00 3.29609e+01 0.00000e+00 0.00000e+00\n",
      " 8.03093e+00 1.22122e+01 0.00000e+00 2.57200e-01 1.17396e+01 0.00000e+00\n",
      " 6.79559e+00 0.00000e+00 3.71251e+01 4.74049e+00 0.00000e+00 9.83817e+00\n",
      " 0.00000e+00 0.00000e+00 1.09526e+01 1.66358e+01 8.30785e+00 0.00000e+00\n",
      " 2.30213e+01 0.00000e+00 0.00000e+00 0.00000e+00 3.19288e+00 1.43000e+00\n",
      " 1.41630e+00 0.00000e+00 0.00000e+00 0.00000e+00 4.82580e+00 0.00000e+00\n",
      " 1.37068e+01 4.55977e+00 7.79124e+00 2.20535e+00 0.00000e+00 7.19357e-01\n",
      " 0.00000e+00 7.24282e+00 2.17584e+00 0.00000e+00 0.00000e+00 0.00000e+00\n",
      " 0.00000e+00 1.49578e+01 0.00000e+00 0.00000e+00 2.07272e+00 2.10763e+01\n",
      " 0.00000e+00 1.53895e+00 0.00000e+00 4.39635e+00 0.00000e+00 0.00000e+00\n",
      " 0.00000e+00 0.00000e+00 4.43841e+00 0.00000e+00 1.01173e+01 8.30749e+00\n",
      " 0.00000e+00 9.32645e+00 1.72529e-01 1.45575e+01 0.00000e+00 0.00000e+00\n",
      " 1.97649e+01 0.00000e+00 0.00000e+00 1.65161e+01 6.74907e+00 1.85645e+00\n",
      " 0.00000e+00 0.00000e+00 0.00000e+00 1.67779e+00 4.97416e+00 2.04246e+01\n",
      " 1.37247e+00 1.96915e+01 1.23470e+01 0.00000e+00 0.00000e+00 3.14100e+01\n",
      " 6.10989e-01 0.00000e+00 0.00000e+00 2.39342e+00 0.00000e+00 3.42342e+00\n",
      " 8.38270e+00 0.00000e+00 1.99421e+01 3.43304e+00 1.50104e+01 0.00000e+00\n",
      " 4.38339e+00 2.46477e+01 0.00000e+00 0.00000e+00 6.97368e+00 3.56680e+00\n",
      " 1.99061e+01 0.00000e+00 0.00000e+00 0.00000e+00 1.59766e+01 0.00000e+00\n",
      " 5.35489e+00 0.00000e+00 0.00000e+00 0.00000e+00 3.97346e+00 0.00000e+00\n",
      " 3.11425e+00 1.96694e+01 3.27079e+01 6.76604e+00 1.12767e+01 0.00000e+00\n",
      " 0.00000e+00 0.00000e+00 1.43808e+01 0.00000e+00 0.00000e+00 0.00000e+00\n",
      " 3.06594e+00 9.44639e+00 3.80322e+00 7.22349e+00 1.41505e+01 4.95596e+00\n",
      " 0.00000e+00 0.00000e+00 1.43883e+00 8.41686e-01 1.41958e+01 1.37950e+01\n",
      " 9.20433e-02 0.00000e+00 1.17470e+01 0.00000e+00 9.72309e-01 0.00000e+00\n",
      " 0.00000e+00 0.00000e+00 9.96677e+00 4.11863e+00 0.00000e+00 0.00000e+00\n",
      " 2.48872e+00 0.00000e+00 2.07180e+00 0.00000e+00 1.03310e+01 0.00000e+00\n",
      " 2.03323e+00 0.00000e+00 0.00000e+00 0.00000e+00 0.00000e+00 0.00000e+00\n",
      " 0.00000e+00 0.00000e+00 0.00000e+00 2.27656e+01 6.54469e+00 7.78395e+00\n",
      " 1.10672e+01 1.99035e+01 1.53890e+01 1.70241e+01 8.15076e+00 0.00000e+00\n",
      " 2.17541e+01 2.69064e+00 6.13262e+00 0.00000e+00 1.51873e+01 2.22556e+01\n",
      " 0.00000e+00 6.86693e+00 0.00000e+00 0.00000e+00 0.00000e+00 6.99733e+00\n",
      " 0.00000e+00 0.00000e+00 0.00000e+00 3.63516e+00 0.00000e+00 2.87836e+00\n",
      " 0.00000e+00 4.55107e+00 7.51759e+00 0.00000e+00 0.00000e+00 0.00000e+00\n",
      " 1.15322e+01 1.87728e+01 0.00000e+00 0.00000e+00 0.00000e+00 0.00000e+00\n",
      " 3.14490e+00 1.91629e+00 7.43238e+00 2.12610e+01 9.72525e+00 0.00000e+00\n",
      " 2.55132e+00 2.14015e+00 2.74947e+00 1.46791e+00 5.34299e+00 0.00000e+00\n",
      " 2.95098e+00 0.00000e+00 3.26556e+00 0.00000e+00 0.00000e+00 0.00000e+00\n",
      " 0.00000e+00 0.00000e+00 2.81406e+00 0.00000e+00 3.88962e+00 0.00000e+00\n",
      " 1.87002e+01 0.00000e+00 0.00000e+00 0.00000e+00 0.00000e+00 2.16845e+00\n",
      " 0.00000e+00 0.00000e+00 0.00000e+00 1.36287e+00 0.00000e+00 0.00000e+00\n",
      " 0.00000e+00 0.00000e+00 1.17138e+00 0.00000e+00 7.32621e+00 1.97890e+00\n",
      " 0.00000e+00 1.11896e+01 0.00000e+00 0.00000e+00 0.00000e+00 1.15663e+00\n",
      " 8.77961e+00 0.00000e+00 1.38216e+00 0.00000e+00 0.00000e+00 0.00000e+00\n",
      " 0.00000e+00 0.00000e+00 0.00000e+00 3.89876e+01 0.00000e+00 0.00000e+00\n",
      " 0.00000e+00 0.00000e+00 0.00000e+00 0.00000e+00 1.92139e+00 0.00000e+00\n",
      " 2.69101e+00 1.36627e+01 8.58703e-01 0.00000e+00 1.39520e+01 2.85358e+00\n",
      " 1.85270e+00 1.41213e+01 0.00000e+00 2.68404e+00 1.53593e+00 2.44317e-01\n",
      " 0.00000e+00 2.46284e+01 7.60946e+00 0.00000e+00 2.09893e+01 1.98600e+00\n",
      " 1.68105e+01 2.41248e+01 0.00000e+00 0.00000e+00 4.80712e+00 0.00000e+00\n",
      " 5.71209e+00 9.49785e-02 1.18882e+00 9.88967e+00 7.21213e+00 1.55095e+01\n",
      " 0.00000e+00 0.00000e+00 2.07293e+01 0.00000e+00 0.00000e+00 1.15230e-01\n",
      " 1.02234e+01 7.85449e+00 0.00000e+00 0.00000e+00 0.00000e+00 0.00000e+00\n",
      " 3.23854e+00 2.91409e+00 3.49494e+00 0.00000e+00 1.28794e+01 0.00000e+00\n",
      " 0.00000e+00 0.00000e+00 3.90103e+00 9.65526e+00 1.27372e+01 1.42647e+01\n",
      " 0.00000e+00 0.00000e+00 0.00000e+00 0.00000e+00 0.00000e+00 0.00000e+00\n",
      " 0.00000e+00 0.00000e+00 0.00000e+00 9.94194e+00 1.60256e+00 0.00000e+00\n",
      " 0.00000e+00 2.81373e+00 4.83941e+00 0.00000e+00 0.00000e+00 1.42340e+01\n",
      " 9.20949e+00 0.00000e+00 8.83434e+00 1.30710e+01 1.95187e+01 0.00000e+00\n",
      " 0.00000e+00 5.71363e+00 0.00000e+00 4.74688e+00 0.00000e+00 6.02328e+00\n",
      " 4.48534e+00 0.00000e+00 0.00000e+00 0.00000e+00 0.00000e+00 1.56660e+00\n",
      " 0.00000e+00 0.00000e+00 0.00000e+00 1.48550e+01 0.00000e+00 2.49448e+01\n",
      " 0.00000e+00 0.00000e+00 1.90916e+01 1.28053e+01 1.25034e+01 0.00000e+00\n",
      " 0.00000e+00 7.51201e+00 2.21605e+01 9.36354e+00 2.43365e+01 4.52659e+00\n",
      " 0.00000e+00 6.27086e+00 3.75082e+00 6.19428e+00 0.00000e+00 0.00000e+00\n",
      " 7.48399e+00 9.46544e+00 9.67915e+00 8.98035e+00 0.00000e+00 0.00000e+00\n",
      " 6.52736e+00 0.00000e+00 0.00000e+00 1.20265e-02 0.00000e+00 4.19476e+00\n",
      " 0.00000e+00 7.38262e-01 0.00000e+00 0.00000e+00 1.02162e+01 3.58074e+00\n",
      " 1.04110e+01 0.00000e+00 4.76406e+00 0.00000e+00 3.20266e+00 0.00000e+00\n",
      " 1.88155e+01 0.00000e+00 1.60452e+01 0.00000e+00 0.00000e+00 1.23644e+00\n",
      " 2.92327e+00 0.00000e+00 0.00000e+00 0.00000e+00 8.29329e+00 5.81990e+00\n",
      " 1.44162e+01 7.00975e+00 1.88067e+01 5.17821e+00 3.08048e+01 0.00000e+00\n",
      " 0.00000e+00 1.26038e+01 0.00000e+00 0.00000e+00 0.00000e+00 0.00000e+00\n",
      " 2.26908e+00 1.42310e-01 0.00000e+00 0.00000e+00 0.00000e+00 1.90998e+01\n",
      " 5.20239e-01 0.00000e+00 0.00000e+00 1.17467e+01 6.69442e+00 0.00000e+00\n",
      " 0.00000e+00 0.00000e+00 0.00000e+00 0.00000e+00 0.00000e+00 0.00000e+00\n",
      " 0.00000e+00 0.00000e+00 0.00000e+00 1.97171e+01 3.24838e+00 4.90866e+00\n",
      " 0.00000e+00 0.00000e+00 0.00000e+00 0.00000e+00 2.27903e+01 1.41268e+01\n",
      " 2.38673e-01 1.16776e+01 0.00000e+00 3.26723e+00 0.00000e+00 0.00000e+00\n",
      " 8.82093e+00 0.00000e+00 2.48416e+00 3.74356e+00 0.00000e+00 0.00000e+00\n",
      " 5.66110e+00 0.00000e+00 2.13026e+01 1.63257e+01 7.79713e+00 1.07616e+01\n",
      " 0.00000e+00 4.29045e+00 0.00000e+00 8.34999e+00 0.00000e+00 5.89079e+00\n",
      " 2.49043e+00 0.00000e+00 3.03821e+01 1.42573e+01 1.15515e+01 0.00000e+00\n",
      " 0.00000e+00 0.00000e+00 0.00000e+00 1.06896e+00 0.00000e+00 0.00000e+00\n",
      " 0.00000e+00 3.29009e+00 0.00000e+00 8.50112e+00 0.00000e+00 0.00000e+00\n",
      " 2.06224e+01 2.94479e+00 1.12273e+01 2.63996e+00 9.66157e+00 0.00000e+00\n",
      " 2.28751e-01 0.00000e+00 0.00000e+00 0.00000e+00 5.39829e+00 1.06725e-01\n",
      " 1.39622e+01 2.59646e+01 0.00000e+00 0.00000e+00 0.00000e+00 1.78965e+00\n",
      " 3.18033e+00 0.00000e+00 1.32623e+00 2.11914e+00 0.00000e+00 0.00000e+00\n",
      " 0.00000e+00 1.82447e+01 6.06235e+00 4.50809e+00 0.00000e+00 0.00000e+00\n",
      " 3.46077e+00 6.30871e+00 0.00000e+00 0.00000e+00 0.00000e+00 3.51305e+00\n",
      " 2.50469e+01 0.00000e+00 2.18776e+01 0.00000e+00 2.32672e+01 7.73794e+00\n",
      " 9.30160e+00 0.00000e+00 0.00000e+00 0.00000e+00 0.00000e+00 0.00000e+00\n",
      " 6.37076e+00 0.00000e+00 0.00000e+00 1.40519e+01 3.68202e+00 0.00000e+00\n",
      " 7.42740e+00 0.00000e+00 1.18169e+01 0.00000e+00 0.00000e+00 4.27593e+01\n",
      " 4.45133e+00 2.71362e+00 0.00000e+00 1.29771e+00 1.31419e+00 0.00000e+00\n",
      " 1.03345e+00 0.00000e+00 1.92876e+01 0.00000e+00 4.28574e+00 8.98437e+00\n",
      " 1.77482e+01 0.00000e+00 4.73382e+00 0.00000e+00 2.81342e+01 6.13113e+00\n",
      " 0.00000e+00 5.70130e+00 3.44471e+01 0.00000e+00 3.26270e+00 5.65229e+00\n",
      " 1.17071e+01 5.24025e+00 0.00000e+00 1.13401e+00 0.00000e+00 0.00000e+00\n",
      " 1.20379e-01 0.00000e+00 0.00000e+00 0.00000e+00 0.00000e+00 1.49421e+01\n",
      " 1.58328e+01 0.00000e+00 0.00000e+00 0.00000e+00 0.00000e+00 6.72101e+00\n",
      " 0.00000e+00 5.78909e+00 1.40570e+01 0.00000e+00 1.75996e+01 4.02062e+00\n",
      " 7.70102e+00 3.70518e+01 2.97740e+00 3.43112e+01 4.97323e-01 0.00000e+00\n",
      " 7.21320e+00 0.00000e+00 1.44334e+01 7.74428e+00 0.00000e+00 1.61120e+01\n",
      " 3.53097e+00 0.00000e+00 0.00000e+00 0.00000e+00 1.65372e+01 0.00000e+00\n",
      " 2.22886e+00 1.05043e+00 0.00000e+00 3.08959e+00 7.29849e+00 9.12285e+00\n",
      " 1.66273e+01 0.00000e+00 1.36760e+01 1.44748e+01 8.51813e+00 0.00000e+00\n",
      " 0.00000e+00 0.00000e+00 0.00000e+00 0.00000e+00 0.00000e+00 2.95496e+01\n",
      " 0.00000e+00 5.54510e+00 0.00000e+00 0.00000e+00 0.00000e+00 0.00000e+00\n",
      " 1.39666e+01 0.00000e+00 0.00000e+00 1.06623e+01 0.00000e+00 0.00000e+00\n",
      " 1.80101e-01 8.14737e+00 9.21786e+00 9.97066e-01 0.00000e+00 1.17913e+01\n",
      " 7.05959e+00 5.92714e+00 1.43727e+01 0.00000e+00 0.00000e+00 0.00000e+00\n",
      " 1.12127e+01 5.48528e+00 0.00000e+00 0.00000e+00 0.00000e+00 0.00000e+00\n",
      " 2.44176e+01 0.00000e+00 3.55875e+00 2.00257e+01 0.00000e+00 0.00000e+00\n",
      " 8.62701e+00 0.00000e+00 0.00000e+00 1.40973e+01 0.00000e+00 0.00000e+00\n",
      " 3.68967e+00 2.17993e+01 1.24320e+01 0.00000e+00 1.76195e+00 0.00000e+00\n",
      " 0.00000e+00 0.00000e+00 1.03907e+01 0.00000e+00 9.21425e+00 0.00000e+00\n",
      " 2.37212e+01 0.00000e+00 0.00000e+00 5.97832e+00 7.29741e+00 2.81830e+00\n",
      " 0.00000e+00 7.99356e+00 1.39236e+01 1.09811e+00 2.37058e+00 1.84703e+01\n",
      " 1.28108e+01 0.00000e+00 1.45320e+01 2.29503e+00 0.00000e+00 1.05857e+01\n",
      " 9.53539e+00 0.00000e+00 0.00000e+00 0.00000e+00 4.08314e+00 4.72856e+00\n",
      " 0.00000e+00 1.37798e+01 0.00000e+00 1.77495e+01]\n"
     ]
    }
   ],
   "source": [
    "print(model_1_samp.stan_variable(\"sigma\"))"
   ]
  },
  {
   "cell_type": "code",
   "execution_count": 857,
   "metadata": {
    "metadata": {}
   },
   "outputs": [
    {
     "name": "stdout",
     "output_type": "stream",
     "text": [
      "[84.67629946 75.44047393 82.4808319  78.19701675 76.52544145 81.18733844\n",
      " 89.19851065 84.9605445  72.93664893 76.68656126 75.4213327  77.22838706\n",
      " 75.2609406  82.31036649 78.49782223 83.95593349 82.61155829 81.44848047\n",
      " 88.54406849 77.8450691  81.3826966  86.08345524 77.77024063 78.19261049\n",
      " 77.90266923 84.84924631 78.38833379 77.83338831 73.31990996 82.26403278\n",
      " 81.12528112 79.24343175 83.19504814 81.17910425 77.88394736 76.78728228\n",
      " 77.10545109 81.10538213 74.45040276 75.20109409 78.98359664 87.06742689\n",
      " 73.60154429 85.51506639 74.23490497 86.57423729 72.25363462 82.07749467\n",
      " 81.31364842 77.93055678 79.03905287 85.41872378 76.95693731 76.83998614\n",
      " 78.74367501 72.31084636 77.42000321 73.48880463 71.53313175 81.99787481\n",
      " 82.01882598 82.35308455 78.38953653 78.69935585 78.95254961 78.37582491\n",
      " 77.05993116 75.22739249 75.0971152  74.7331407  75.01717026 84.18576061\n",
      " 85.62695108 81.41701654 75.99819663 74.66762667 82.61102531 72.60073661\n",
      " 77.46490951 73.75427501 74.23292752 77.61236518 81.72515423 86.03239499\n",
      " 75.33981334 77.81189086 73.30201984 81.66455099 88.63138543 85.02463412\n",
      " 88.2558508  75.49670944 79.76607051 85.75974897 86.35104513 76.43821215\n",
      " 74.14406011 79.3082687  80.58319765]\n"
     ]
    }
   ],
   "source": [
    "print(yields_pred_prior_means)"
   ]
  },
  {
   "cell_type": "code",
   "execution_count": 858,
   "metadata": {
    "metadata": {}
   },
   "outputs": [
    {
     "name": "stdout",
     "output_type": "stream",
     "text": [
      "                Mean   MCSE  StdDev    5%    50%    95%  N_Eff  N_Eff/s  R_hat\n",
      "name                                                                          \n",
      "lp__            0.00    NaN    0.00  0.00  0.000    0.0    NaN      NaN    NaN\n",
      "beta0          50.00  1.900   58.00  0.00  3.900  150.0  930.0  13000.0    1.0\n",
      "beta1           0.28  0.026    0.79 -0.82  0.000    1.9  930.0  13000.0    1.0\n",
      "sigma           5.00  0.290    8.30  0.00  0.095   21.0  830.0  11000.0    1.0\n",
      "kid_score[1]   85.00  4.200  127.00 -6.40  0.000  348.0  905.0  12228.0    1.0\n",
      "...              ...    ...     ...   ...    ...    ...    ...      ...    ...\n",
      "kid_score[95]  86.00  4.400  131.00 -6.60  0.000  354.0  904.0  12220.0    1.0\n",
      "kid_score[96]  76.00  3.500  107.00  0.00  0.000  289.0  913.0  12344.0    1.0\n",
      "kid_score[97]  74.00  3.500  102.00  0.00  0.000  280.0  849.0  11472.0    1.0\n",
      "kid_score[98]  79.00  3.800  112.00  0.00  0.000  307.0  887.0  11985.0    1.0\n",
      "kid_score[99]  81.00  3.900  117.00  0.00  0.000  318.0  894.0  12086.0    1.0\n",
      "\n",
      "[103 rows x 9 columns]\n"
     ]
    }
   ],
   "source": [
    "print(model_1_samp.summary())"
   ]
  },
  {
   "cell_type": "code",
   "execution_count": 859,
   "metadata": {
    "metadata": {}
   },
   "outputs": [
    {
     "data": {
      "image/png": "[encoded data removed]",
      "text/plain": [
       "<Figure size 1008x432 with 2 Axes>"
      ]
     },
     "metadata": {
      "needs_background": "light"
     },
     "output_type": "display_data"
    }
   ],
   "source": [
    "fig, axs = plt.subplots(1, 2, figsize=(14, 6))\n",
    "\n",
    "axs[0].hist(df.kid_score.values, bins=30, color='skyblue', edgecolor='black')\n",
    "axs[0].set_title('Distribution of Kid IQ')\n",
    "axs[0].set_xlabel('Kid IQ')\n",
    "axs[0].set_ylabel('Density')\n",
    "\n",
    "axs[1].hist(yields_pred_prior_means, bins=30, color='salmon', edgecolor='black')\n",
    "axs[1].set_title('Prior of KID IQ')\n",
    "axs[1].set_xlabel('kid_score')\n",
    "axs[1].set_ylabel('Density')\n",
    "\n",
    "plt.tight_layout()\n",
    "plt.show()"
   ]
  },
  {
   "cell_type": "code",
   "execution_count": 860,
   "metadata": {
    "metadata": {}
   },
   "outputs": [
    {
     "data": {
      "image/png": "[encoded data removed]",
      "text/plain": [
       "<Figure size 1008x432 with 1 Axes>"
      ]
     },
     "metadata": {
      "needs_background": "light"
     },
     "output_type": "display_data"
    }
   ],
   "source": [
    "plt.figure(figsize=(14,6))\n",
    "plt.bar(df.mom_iq.values,yields_pred_prior_means, label=\"predictions\")\n",
    "plt.bar(df.mom_iq.values,df.kid_score.values, label=\"data\", alpha =0.4)\n",
    "plt.title(\"Comparison\")\n",
    "plt.ylabel(\"kid iq\")\n",
    "plt.xlabel(\"mom iq\")\n",
    "plt.legend()\n",
    "plt.show()"
   ]
  },
  {
   "cell_type": "code",
   "execution_count": 861,
   "metadata": {
    "metadata": {}
   },
   "outputs": [
    {
     "name": "stdout",
     "output_type": "stream",
     "text": [
      "[ 65  98  85  83 115  98  69 106 102  95  91  58  84  78 102 110 102  99\n",
      " 105 101 102 115 100  87  99  96  72  78  77  98  69 130 109 106  92 100\n",
      " 107  86  90 110 107 113  65 102 103 111  42 100  67  92 100 110  56 107\n",
      "  97  56  95  78  76  86  79  81  79  79  56  52  63  80  87  88  92 100\n",
      "  94 117 102 107  99  73  56  78  94 110 109  86  92  91 123 102 105 114\n",
      "  96  66 104 108  84  83  83  92 109]\n"
     ]
    }
   ],
   "source": [
    "print(df[\"kid_score\"].values)"
   ]
  },
  {
   "cell_type": "code",
   "execution_count": 862,
   "metadata": {
    "metadata": {}
   },
   "outputs": [
    {
     "name": "stderr",
     "output_type": "stream",
     "text": [
      "INFO:cmdstanpy:found newer exe file, not recompiling\n",
      "INFO:cmdstanpy:CmdStan start processing\n",
      "chain 1 |\u001b[34m██████████\u001b[0m| 00:00 Sampling completed                       "
     ]
    },
    {
     "name": "stdout",
     "output_type": "stream",
     "text": [
      "                                                                                "
     ]
    },
    {
     "name": "stderr",
     "output_type": "stream",
     "text": [
      "\n",
      "INFO:cmdstanpy:CmdStan done processing.\n"
     ]
    },
    {
     "name": "stdout",
     "output_type": "stream",
     "text": [
      "\n"
     ]
    }
   ],
   "source": [
    "R = 1000\n",
    "model=CmdStanModel(stan_file='model1.stan')\n",
    "\n",
    "model_1_fit = model.sample(data = {'N': df.shape[0], 'mom_iq': df[\"mom_iq\"].values, 'kid_score': df[\"kid_score\"].values},\n",
    "                     iter_sampling=R,\n",
    "                     chains=1)"
   ]
  },
  {
   "cell_type": "code",
   "execution_count": 863,
   "metadata": {
    "metadata": {}
   },
   "outputs": [
    {
     "name": "stdout",
     "output_type": "stream",
     "text": [
      "[[  0.       0.       0.     ...   0.       0.       0.    ]\n",
      " [336.965  267.136  323.24   ... 258.789  291.296  308.761 ]\n",
      " [ 97.5454  70.7995  96.4336 ...  66.9317  89.1249  90.2163]\n",
      " ...\n",
      " [286.331  229.366  267.573  ... 244.263  269.764  263.412 ]\n",
      " [  0.       0.       0.     ...   0.       0.       0.    ]\n",
      " [228.122  188.243  238.943  ... 154.8    187.464  250.411 ]]\n"
     ]
    }
   ],
   "source": [
    "yields_pred = model_1_fit.stan_variable(\"kid_score_pred\")\n",
    "yields_pred_means = np.mean(yields_pred, axis=0)\n",
    "print(yields_pred_prior)"
   ]
  },
  {
   "cell_type": "code",
   "execution_count": 864,
   "metadata": {
    "metadata": {}
   },
   "outputs": [
    {
     "name": "stdout",
     "output_type": "stream",
     "text": [
      "[ 58.6744  59.733   61.2685  60.9102  61.9413  62.8404  62.7703  60.9814\n",
      "  41.4602  44.8898  59.8827  59.8827  57.4446  66.1336  66.5508  58.5134\n",
      "  58.0342  56.4423  57.0084  43.8967  56.4807  56.1228  53.2521  50.7882\n",
      "  43.1171  55.3075  60.488   60.8915  57.4031  48.2261  63.0371  70.3225\n",
      "  55.9879  54.7652  41.6423  48.1859  42.5731  61.6694  70.2236  50.7134\n",
      "  47.7512  61.1796  25.9928  26.5649  25.9247  26.3673  79.4087  79.4299\n",
      "  79.5324  62.3407  57.76    58.0647  59.187   50.058   48.9758  64.2426\n",
      "  55.5688  54.291   35.021   51.7585  48.7035  57.3382  63.0473  66.1518\n",
      "  52.0398  44.487  100.775   98.7794  99.4149 100.42   101.037  102.186\n",
      "  30.4461  38.9795  59.4253  54.0469  67.8819  55.2493  47.0054  68.2596\n",
      "  80.3905  77.9276  71.7664  46.6463  47.8361  47.8031  43.3152  75.3345\n",
      "  81.6208  75.9676  58.6057  58.3533  53.1477  60.1322  57.0562  58.0992\n",
      "  52.2642  57.545   56.6877  57.5032  46.1665  47.0058  58.3225  53.8278\n",
      "  50.3483  52.3953  49.9823  46.5734  46.1884  46.2076  49.9714  52.712\n",
      "  50.4992  49.8478  46.3458  47.0666  51.4335  51.157   53.1926  61.2602\n",
      "  60.0704  57.5874  58.5835  61.3227  68.3478  66.549   51.7692  51.5282\n",
      "  48.6615  50.7671  64.309   46.9668  45.2686  45.8656  60.6504  60.7597\n",
      "  61.4049  46.9711  60.5105  49.5869  47.0013  48.3124  48.0783  51.4028\n",
      "  51.2298  54.7563  61.3523  64.5253  64.2439  63.4164  71.5574  63.2536\n",
      "  63.6985  70.7594  70.4145  65.4124  79.3695  52.8257  51.3143  48.3005\n",
      "  39.9573  54.9451  34.3112  35.5136  36.8882  58.0271  62.6321  65.1931\n",
      "  58.5806  59.5129  66.7511  69.1666  49.4727  53.1914  52.5361  51.7343\n",
      "  53.2357  53.5886  57.9913  53.4008  55.9091  55.3584  50.419   67.4451\n",
      "  64.8482  50.6334  51.6105  52.3575  49.6403  41.9647  64.3     47.9665\n",
      "  49.3911  37.6843  42.2044  72.9041  69.4721  59.9718  59.6306  47.7811\n",
      "  47.5588  66.7082  64.7593  53.4256  61.0075  58.607   55.6428  54.7477\n",
      "  63.0517  65.6419  56.1805  57.9385  60.3181  54.3146  65.6624  34.3308\n",
      "  51.6872  53.8785  57.0344  67.398   59.172   61.278   51.7481  51.0166\n",
      "  49.7972  57.3399  60.526   50.7648  61.7421  56.3081  49.3576  52.065\n",
      "  39.8465  55.646   57.9601  59.7158  66.2955  67.3678  50.6323  51.6925\n",
      "  48.4771  36.3596  38.5407  30.8369  29.8557  30.102   73.8369  39.7424\n",
      "  55.1208  53.7199  57.777   55.4515  53.6873  59.7158  58.6676  50.3025\n",
      "  56.2291  51.7881  54.3309  64.5382  50.5127  44.918   62.8057  77.5425\n",
      "  50.1686  69.1842  65.5036  61.5759  63.7684  44.3693  66.7268  64.7913\n",
      "  47.8989  46.3087  43.7189  43.754   43.7967  41.1182  59.0827  55.2845\n",
      "  55.6921  63.4523  62.376   62.0611  52.9912  51.4685  46.3057  53.1467\n",
      "  48.8503  62.5606  51.7183  53.0403  58.3072  59.9609  61.9387  63.798\n",
      "  64.6377  61.9612  64.3746  50.4533  49.272   49.0323  47.0656  61.487\n",
      "  61.1137  51.8175  53.8915  60.4383  56.9233  56.5793  66.2194  65.4401\n",
      "  60.2948  65.7953  71.8878  73.7803  76.346   75.0196  41.3788  41.0359\n",
      "  43.9049  55.9681  43.3775  62.7246  68.1327  59.5888  55.5457  55.6144\n",
      "  50.5593  66.9813  67.5991  69.8856  59.6867  51.7221  37.7687  40.831\n",
      "  59.0149  69.8538  59.9957  53.2626  54.6868  60.4539  49.1537  64.4055\n",
      "  49.8613  51.2339  48.2336  44.5771  43.9875  46.5718  53.347   41.0758\n",
      "  56.2934  66.6129  63.7637  66.5855  65.5401  37.0724  60.5392  53.0354\n",
      "  50.8329  52.6631  53.7208  51.5506  51.2402  75.4372  57.0825  54.5247\n",
      "  33.7562  31.8715  39.4861  70.7967  56.8483  54.0025  54.3782  60.6769\n",
      "  60.1097  59.4895  57.4152  49.8072  48.3499  54.8566  50.6581  51.47\n",
      "  55.4882  45.5872  56.5385  56.1687  41.0268  36.8094  36.6396  37.7461\n",
      "  72.456   41.0793  37.4177  63.3545  70.2107  55.3733  56.849   42.3855\n",
      "  77.8589  79.3304  75.4307  73.8424  70.6525  72.3176  55.0932  53.1418\n",
      "  60.0209  55.9654  64.7995  57.4617  56.6683  57.2033  37.1871  43.824\n",
      "  43.2166  44.2472  39.1683  40.2811  44.7083  49.6699  52.7373  53.3881\n",
      "  35.7343  44.6049  81.5817  75.0378  50.2777  47.8712  48.5087  60.9022\n",
      "  73.5611  73.0943  60.2938  58.731   59.6161  56.9238  50.8638  53.3935\n",
      "  53.9     54.0437  49.888   52.1287  45.709   45.4427  53.0313  52.6315\n",
      "  55.3762  75.0118  82.401   69.8909  50.1733  50.4558  55.9413  45.0397\n",
      "  47.2659  50.532   52.2907  54.0606  61.7623  67.3358  66.2448  54.1685\n",
      "  39.4345  41.0625  42.9298  60.6504  75.4456  75.4456  74.9618  54.4451\n",
      "  60.471   62.9127  44.5668  45.8492  34.8148  34.087   42.1339  44.89\n",
      "  67.1133  52.5928  53.9709  52.8226  51.4352  50.2016  66.6701  62.5794\n",
      "  62.5134  56.4693  46.322   47.7015  58.4793  59.189   44.3679  58.8696\n",
      "  62.1778  62.8174  66.19    61.8735  52.8799  61.1386  58.4869  68.9824\n",
      "  63.0112  55.8838  56.3012  55.7825  57.4637  59.9585  62.0654  60.6378\n",
      "  63.0184  63.3882  47.9867  41.4609  49.0868  49.1326  49.2277  50.2217\n",
      "  57.6461  59.4794  43.4553  67.1814  57.2576  37.8241  70.8736  59.0659\n",
      "  59.2502  58.0013  54.7324  63.8997  56.9466  58.0225  43.5788  50.6162\n",
      "  45.9064  38.6488  54.9979  68.4281  55.1368  31.4139  39.5471  51.7219\n",
      "  67.6759  66.8343  67.1215  63.7541  65.9861  67.6587  64.0319  64.4208\n",
      "  50.9291  55.93    57.3766  57.3594  75.0204  42.5471  47.9311  41.4587\n",
      "  39.463   67.5121  60.9586  53.605   79.6606  50.6035  49.4048  59.841\n",
      "  49.7844  50.0729  50.982   50.6341  56.5318  67.3928  55.1186  69.6604\n",
      "  66.8888  67.6648  69.6115  60.7009  56.3472  54.8141  62.6202  75.009\n",
      "  72.8935  58.1951  52.5806  63.4774  33.4303  47.1045  59.3971  86.2698\n",
      "  80.9033  87.7374  62.6423  61.7317  74.6195  76.8696  77.9722  76.5835\n",
      "  58.7517  55.512   57.4757  61.054   66.3051  61.353   59.7911  61.1568\n",
      "  47.7366  57.8386  56.6138  79.5521  83.6748  85.5548  66.471   66.0184\n",
      "  67.3007  55.9663  44.7617  43.9213  43.0717  40.4899  67.1332  60.7262\n",
      "  48.0057  74.6693  66.1526  54.3804  46.897   30.5879  45.1482  52.3346\n",
      "  55.4729  62.9767  60.4092  54.7993  55.3216  48.7912  66.66    65.4395\n",
      "  61.5151  55.8558  65.9215  61.9843  60.1234  52.3415  66.1146  68.3158\n",
      "  67.2834  33.6344  37.8626  40.976   46.0032  71.0569  72.7123  59.6874\n",
      "  41.5192  40.7894  41.5839  43.0956  43.9398  44.7162  49.2514  60.098\n",
      "  55.2184  61.1039  51.257   50.5386  50.3098  49.1626  61.0866  61.8312\n",
      "  64.2043  62.9591  48.1005  63.2643  68.8006  71.3169  38.9909  63.9207\n",
      "  60.8736  60.8736  45.5693  56.2171  55.5401  50.7831  51.4971  58.7241\n",
      "  56.3926  58.2179  61.2024  63.4248  59.8416  68.4183  69.5645  48.0904\n",
      "  66.8477  67.9292  59.2585  75.7764  52.8597  46.7867  49.5931  58.6799\n",
      "  60.9481  56.4732  55.3976  52.7367  67.61    57.5845  54.8847  58.0367\n",
      "  48.5482  58.949   66.2662  66.8744  60.6158  55.4508  55.1599  45.7912\n",
      "  65.1505  63.6756  69.4497  69.0568  63.2713  56.2583  52.2502  53.8528\n",
      "  42.914   41.9235  87.1907  78.0281  45.7165  56.2498  52.4501  50.3863\n",
      "  49.0318  50.8268  49.2254  48.283   48.7946  49.7722  68.2487  70.3613\n",
      "  67.0346  50.0988  58.1672  59.8593  55.0127  50.5461  45.2707  70.6702\n",
      "  62.4288  56.5162  60.6129  34.4259  31.0166  29.7782  32.8044  27.4428\n",
      "  38.31    34.5633  56.6133  54.8353  66.713   41.3159  56.146   48.8994\n",
      "  46.493   80.8877  84.1063  37.8869  37.8869  30.9427  76.7231  62.9165\n",
      "  65.1551  48.1648  47.8841  62.422   58.1832  58.9173  48.1393  66.1694\n",
      "  69.2652  52.4163  76.3034  76.3034  52.9852  43.9099  44.0253  46.9129\n",
      "  45.2593  70.3659  66.9781  69.8726  69.4103  75.2681  56.6151  55.1016\n",
      "  55.2364  58.9937  61.5584  59.6007  59.2705  70.2637  65.7161  68.8798\n",
      "  69.4138  70.2785  77.2649  77.5866  61.827   47.0574  49.9583  50.5176\n",
      "  49.7471  51.3931  47.3038  57.165   58.0331  56.6176  59.1251  57.0175\n",
      "  56.2594  68.401   68.8525  46.504   30.5878  34.1217  29.0466  29.0466\n",
      "  44.4245  44.7353  61.3334  56.8264  66.0499  69.2433  58.5337  65.2661\n",
      "  67.1968  43.3662  50.9684  41.639   41.8491  48.2303  44.8215  44.8215\n",
      "  57.2658  66.6956  52.891   52.1918  58.5737  60.9302  64.4384  63.5261\n",
      "  39.0345  43.3076  67.4576  64.5563  89.1823  83.0733  85.8964  64.3571\n",
      "  39.1471  39.6363  36.1583  36.05    64.5584  61.7681  59.5416  52.1183\n",
      "  51.0951  49.5367  58.1752  61.8748  62.5529  71.3778  70.4944  56.8746\n",
      "  57.0152  53.2715  50.7901  51.9189  52.8651  50.7944  44.5019  53.6864\n",
      "  47.357   47.2535  45.467   32.6902  30.9631  72.2648  71.3466  69.8424\n",
      "  70.6759  63.674   65.0089  64.0559  69.0262  64.886   57.2274  57.2827\n",
      "  57.5377  55.8609  59.909   64.4996  56.8235  55.6756  57.3691  52.9986\n",
      "  55.6932  51.7416  52.7098  57.4036  61.2238  47.4129  39.8665  58.8018\n",
      "  58.9376  77.1141  72.8078  75.9337  73.5537  73.9785  74.5756  47.2967\n",
      "  68.5973  69.2978  66.3097  64.8643  67.3654  58.2638  72.4953  71.6801\n",
      "  56.9032  51.1211  57.9208  71.3945  63.732   64.0638  43.6688  63.0191\n",
      "  62.1363  50.4683  45.5784  49.255   58.2232  53.2902  44.4353  59.994\n",
      "  50.0654  61.9601  60.7902  64.409   57.1311  53.7871  70.2619  69.461\n",
      "  74.0704  57.9777  63.3277  51.6196  50.338   51.0987  64.4119  64.4846\n",
      "  70.5996  52.8289  52.8289  62.6408  70.2027  71.1928  72.5044  66.1583\n",
      "  43.7725  34.9671  34.8477  36.7544  43.9929  34.7082  38.3331  47.5414\n",
      "  46.6984  59.6569  64.5266  47.2486  48.2358  66.5688  47.2371  52.4871\n",
      "  51.4229  65.1152  63.7326  42.7356  56.3837  46.5362  45.0704  38.9871]\n"
     ]
    }
   ],
   "source": [
    "print(model_1_fit.stan_variable(\"beta0\"))"
   ]
  },
  {
   "cell_type": "code",
   "execution_count": 865,
   "metadata": {
    "metadata": {}
   },
   "outputs": [
    {
     "name": "stdout",
     "output_type": "stream",
     "text": [
      "[ 0.326527   0.281608   0.272516   0.271845   0.282215   0.28044\n",
      "  0.274966   0.298122   0.462647   0.492342   0.342853   0.342853\n",
      "  0.304079   0.228061   0.239487   0.322118   0.352437   0.344353\n",
      "  0.347667   0.456161   0.352694   0.341563   0.380712   0.360306\n",
      "  0.474611   0.36401    0.294665   0.295736   0.342628   0.41913\n",
      "  0.262753   0.212547   0.360663   0.330614   0.474458   0.423194\n",
      "  0.484195   0.291554   0.201041   0.4038     0.427187   0.307203\n",
      "  0.627915   0.625845   0.640444   0.608645   0.12569    0.109699\n",
      "  0.126273   0.245737   0.286879   0.297474   0.310922   0.377648\n",
      "  0.380823   0.277405   0.36026    0.365866   0.53229    0.396022\n",
      "  0.415172   0.342291   0.24883    0.25182    0.397845   0.466699\n",
      " -0.0760839 -0.0684082 -0.0732676 -0.0712167 -0.0920999 -0.0738494\n",
      "  0.570411   0.505068   0.292575   0.352097   0.229478   0.363244\n",
      "  0.407339   0.201299   0.124913   0.116235   0.169763   0.410142\n",
      "  0.447748   0.441414   0.431566   0.178395   0.116309   0.152988\n",
      "  0.30293    0.29955    0.350175   0.303217   0.326608   0.337051\n",
      "  0.399453   0.348339   0.332901   0.338578   0.427427   0.43491\n",
      "  0.34168    0.36956    0.399343   0.377143   0.398113   0.433037\n",
      "  0.432006   0.422261   0.380463   0.393391   0.376687   0.411728\n",
      "  0.422319   0.418549   0.397662   0.382704   0.368815   0.306049\n",
      "  0.31697    0.30489    0.333471   0.281897   0.247932   0.21294\n",
      "  0.420567   0.416672   0.396407   0.414994   0.269701   0.446861\n",
      "  0.426115   0.45595    0.298591   0.279852   0.259853   0.437407\n",
      "  0.293239   0.402642   0.424262   0.427592   0.418703   0.384238\n",
      "  0.382865   0.365162   0.291314   0.275146   0.274443   0.285009\n",
      "  0.208418   0.286563   0.288444   0.192721   0.215617   0.255835\n",
      "  0.111708   0.393747   0.405092   0.371339   0.478215   0.374809\n",
      "  0.527716   0.545984   0.544727   0.333025   0.288017   0.243384\n",
      "  0.282017   0.300987   0.266765   0.189278   0.38376    0.412428\n",
      "  0.381687   0.373017   0.378366   0.366847   0.316333   0.367195\n",
      "  0.342361   0.350263   0.417348   0.25318    0.250866   0.387328\n",
      "  0.396299   0.389637   0.410326   0.471137   0.262094   0.41741\n",
      "  0.409047   0.497757   0.481041   0.182479   0.210671   0.307794\n",
      "  0.305389   0.413781   0.401806   0.246577   0.231615   0.363963\n",
      "  0.31131    0.344101   0.333575   0.329137   0.258794   0.267525\n",
      "  0.354443   0.349417   0.313849   0.369183   0.226421   0.546264\n",
      "  0.38981    0.37109    0.34225    0.243918   0.335263   0.286318\n",
      "  0.390458   0.379464   0.376776   0.310402   0.322546   0.372708\n",
      "  0.275848   0.330556   0.403452   0.373466   0.499304   0.343183\n",
      "  0.302592   0.304394   0.211308   0.226273   0.397009   0.414956\n",
      "  0.395352   0.545243   0.521317   0.564521   0.586467   0.608993\n",
      "  0.167223   0.490636   0.344316   0.370295   0.317924   0.320369\n",
      "  0.354641   0.284377   0.298927   0.402927   0.366251   0.358396\n",
      "  0.369551   0.271522   0.396584   0.451971   0.277295   0.141083\n",
      "  0.394828   0.203938   0.232981   0.265945   0.266302   0.454874\n",
      "  0.2261     0.244911   0.457145   0.467492   0.449769   0.46633\n",
      "  0.482793   0.473589   0.342907   0.320977   0.34193    0.267978\n",
      "  0.278836   0.288632   0.388072   0.369878   0.447901   0.38192\n",
      "  0.397511   0.285524   0.367057   0.362871   0.329035   0.317818\n",
      "  0.307146   0.251433   0.243051   0.260922   0.278095   0.399013\n",
      "  0.405203   0.427708   0.386568   0.306873   0.288347   0.390531\n",
      "  0.380168   0.336806   0.321553   0.328496   0.24614    0.24184\n",
      "  0.316106   0.230494   0.175783   0.184465   0.135763   0.167283\n",
      "  0.496802   0.49719    0.471406   0.357727   0.484563   0.246744\n",
      "  0.227811   0.30339    0.352546   0.351879   0.400065   0.2313\n",
      "  0.225547   0.212492   0.310642   0.381733   0.529568   0.493211\n",
      "  0.305428   0.213481   0.302508   0.370677   0.353301   0.299982\n",
      "  0.389819   0.27013    0.41443    0.37673    0.428812   0.435289\n",
      "  0.42766    0.463499   0.383802   0.503637   0.344803   0.248323\n",
      "  0.2828     0.256546   0.252753   0.507307   0.288517   0.38532\n",
      "  0.378056   0.405745   0.372263   0.378464   0.381916   0.189724\n",
      "  0.360619   0.33337    0.58901    0.55927    0.502242   0.209867\n",
      "  0.343493   0.336065   0.382972   0.27169    0.318388   0.309298\n",
      "  0.328409   0.391515   0.418556   0.351374   0.392276   0.392998\n",
      "  0.347594   0.444572   0.340744   0.344204   0.469228   0.537203\n",
      "  0.518771   0.519104   0.18577    0.490393   0.513984   0.269689\n",
      "  0.218424   0.361872   0.35053    0.45323    0.124914   0.147145\n",
      "  0.171453   0.157592   0.190367   0.201575   0.373663   0.341674\n",
      "  0.274119   0.317367   0.275437   0.32642    0.336899   0.345514\n",
      "  0.515555   0.463034   0.460108   0.459942   0.479163   0.502434\n",
      "  0.459124   0.413146   0.360171   0.366615   0.546899   0.438564\n",
      "  0.122465   0.137031   0.418978   0.387673   0.395503   0.318548\n",
      "  0.177708   0.183403   0.306078   0.308906   0.324475   0.318249\n",
      "  0.405395   0.343565   0.378297   0.378052   0.42499    0.378509\n",
      "  0.439486   0.442004   0.374063   0.375205   0.354659   0.177725\n",
      "  0.0699618  0.186168   0.413362   0.40851    0.348554   0.449811\n",
      "  0.414471   0.404925   0.353911   0.374867   0.277882   0.262825\n",
      "  0.213864   0.397035   0.465846   0.477633   0.48524    0.28726\n",
      "  0.160546   0.160546   0.149255   0.350939   0.289728   0.291152\n",
      "  0.433814   0.446791   0.539805   0.543107   0.473713   0.458218\n",
      "  0.231317   0.380118   0.346054   0.396636   0.38209    0.408156\n",
      "  0.24433    0.271664   0.260714   0.318126   0.414898   0.448161\n",
      "  0.310658   0.346186   0.458022   0.293666   0.305328   0.313839\n",
      "  0.254508   0.288243   0.366171   0.304496   0.306325   0.230843\n",
      "  0.262106   0.351563   0.331407   0.318333   0.322338   0.299527\n",
      "  0.290006   0.272821   0.250242   0.247434   0.399623   0.46462\n",
      "  0.428462   0.448884   0.449765   0.441157   0.287313   0.331207\n",
      "  0.467238   0.241778   0.339646   0.503255   0.190635   0.308985\n",
      "  0.311538   0.314093   0.346684   0.26361    0.329616   0.327861\n",
      "  0.487323   0.379783   0.441889   0.491695   0.337695   0.238618\n",
      "  0.36974    0.582246   0.463928   0.382538   0.229709   0.241316\n",
      "  0.242771   0.236572   0.272968   0.241288   0.255081   0.26618\n",
      "  0.384048   0.311479   0.334894   0.317319   0.150509   0.482352\n",
      "  0.43469    0.500534   0.492804   0.234767   0.298403   0.367315\n",
      "  0.115446   0.395824   0.406758   0.3088     0.397941   0.401044\n",
      "  0.406961   0.401762   0.32018    0.222359   0.356213   0.223877\n",
      "  0.19139    0.176846   0.199582   0.301191   0.351225   0.365534\n",
      "  0.264835   0.176566   0.172247   0.336777   0.382668   0.287349\n",
      "  0.54681    0.400879   0.331217   0.0297192  0.100701   0.0339829\n",
      "  0.287291   0.282882   0.171385   0.146547   0.139602   0.142646\n",
      "  0.306645   0.326447   0.339087   0.317035   0.259379   0.31395\n",
      "  0.288927   0.285924   0.415732   0.336761   0.315767   0.10404\n",
      "  0.0656721  0.07647    0.263467   0.250855   0.263929   0.371802\n",
      "  0.408397   0.487274   0.441182   0.476266   0.228596   0.293803\n",
      "  0.412944   0.162259   0.255758   0.347503   0.444066   0.590679\n",
      "  0.44226    0.388287   0.334841   0.286441   0.320156   0.362398\n",
      "  0.350764   0.427183   0.250063   0.237168   0.301209   0.344471\n",
      "  0.21955    0.279084   0.29995    0.374329   0.23426    0.251506\n",
      "  0.209931   0.549285   0.514286   0.495972   0.441461   0.205914\n",
      "  0.206593   0.301319   0.470607   0.465646   0.504013   0.44741\n",
      "  0.459201   0.43217    0.420376   0.292143   0.334417   0.302786\n",
      "  0.396581   0.407985   0.401017   0.415133   0.303641   0.312272\n",
      "  0.228516   0.269604   0.408337   0.27351    0.233478   0.190484\n",
      "  0.50104    0.269406   0.275774   0.275774   0.416303   0.36488\n",
      "  0.349348   0.372957   0.405663   0.312947   0.339645   0.320317\n",
      "  0.301717   0.262232   0.316786   0.214358   0.22162    0.414251\n",
      "  0.23681    0.232228   0.30881    0.161753   0.386808   0.423052\n",
      "  0.40215    0.319153   0.294657   0.336957   0.348635   0.353249\n",
      "  0.216489   0.339439   0.329806   0.33173    0.401378   0.321109\n",
      "  0.258574   0.241786   0.310444   0.36646    0.366246   0.439015\n",
      "  0.255436   0.285012   0.229827   0.216961   0.266365   0.369186\n",
      "  0.351348   0.363667   0.450244   0.472365   0.0431902  0.13644\n",
      "  0.449208   0.352763   0.403646   0.398501   0.384192   0.417139\n",
      "  0.41269    0.421527   0.420097   0.4195     0.245539   0.21097\n",
      "  0.24343    0.407301   0.319778   0.306779   0.354687   0.392208\n",
      "  0.445108   0.205112   0.279738   0.343029   0.311827   0.579637\n",
      "  0.563845   0.581563   0.604264   0.578546   0.554422   0.527794\n",
      "  0.363575   0.336061   0.2508     0.498133   0.360996   0.420146\n",
      "  0.410477   0.09359    0.0983958  0.542642   0.542642   0.60288\n",
      "  0.12504    0.294685   0.253941   0.438445   0.436382   0.297455\n",
      "  0.274998   0.299566   0.43666    0.257383   0.187761   0.407305\n",
      "  0.159783   0.159783   0.363512   0.46511    0.429544   0.441922\n",
      "  0.422557   0.234917   0.222238   0.215628   0.205796   0.163624\n",
      "  0.338076   0.357166   0.361746   0.335683   0.30972    0.288578\n",
      "  0.280178   0.192575   0.239237   0.239134   0.198438   0.205198\n",
      "  0.139232   0.133868   0.273027   0.463919   0.402129   0.421719\n",
      "  0.376445   0.38794    0.424096   0.328666   0.347021   0.320971\n",
      "  0.328411   0.313049   0.34843    0.221514   0.218018   0.423489\n",
      "  0.575006   0.577046   0.625552   0.625552   0.429818   0.430523\n",
      "  0.283327   0.317823   0.23872    0.223464   0.315302   0.234346\n",
      "  0.254741   0.472629   0.386772   0.470557   0.473686   0.393778\n",
      "  0.452671   0.452671   0.329837   0.240316   0.372321   0.381344\n",
      "  0.316596   0.299967   0.275029   0.267491   0.50289    0.476684\n",
      "  0.238132   0.245858   0.0360458  0.0799521  0.0673388  0.246179\n",
      "  0.481578   0.483926   0.547205   0.523395   0.261314   0.29276\n",
      "  0.328911   0.394343   0.378248   0.381018   0.305317   0.303316\n",
      "  0.294462   0.205501   0.194685   0.332539   0.335974   0.386736\n",
      "  0.371465   0.396462   0.413804   0.370456   0.43409    0.383216\n",
      "  0.409344   0.444213   0.447975   0.587582   0.560813   0.183972\n",
      "  0.173366   0.234967   0.236435   0.274731   0.257057   0.239733\n",
      "  0.229098   0.250378   0.346236   0.345489   0.326317   0.33836\n",
      "  0.301508   0.24979    0.313995   0.342575   0.328869   0.359973\n",
      "  0.334725   0.384357   0.354405   0.331862   0.278663   0.438018\n",
      "  0.521604   0.300452   0.28397    0.11672    0.153786   0.138648\n",
      "  0.156603   0.190102   0.201443   0.405107   0.240059   0.250918\n",
      "  0.241676   0.247876   0.242804   0.314845   0.181812   0.186053\n",
      "  0.325979   0.400241   0.334339   0.208119   0.259945   0.264471\n",
      "  0.471598   0.286221   0.285366   0.395338   0.440617   0.407224\n",
      "  0.309548   0.387126   0.441608   0.303712   0.374215   0.292618\n",
      "  0.284237   0.26127    0.339355   0.358365   0.201081   0.210918\n",
      "  0.16398    0.340389   0.273162   0.393974   0.387175   0.399037\n",
      "  0.25423    0.274472   0.216642   0.363356   0.363356   0.280811\n",
      "  0.186767   0.183542   0.189706   0.261182   0.447816   0.531285\n",
      "  0.535512   0.53       0.455029   0.514652   0.530226   0.429848\n",
      "  0.418636   0.321627   0.300428   0.40033    0.450718   0.22473\n",
      "  0.405938   0.38727    0.386624   0.266484   0.257478   0.481503\n",
      "  0.32121    0.451365   0.42821    0.512008 ]\n"
     ]
    }
   ],
   "source": [
    "print(model_1_fit.stan_variable(\"beta1\"))"
   ]
  },
  {
   "cell_type": "code",
   "execution_count": 866,
   "metadata": {
    "metadata": {}
   },
   "outputs": [
    {
     "name": "stdout",
     "output_type": "stream",
     "text": [
      "[17.9143 15.767  15.757  16.3728 15.8739 15.5182 17.7584 17.7945 17.0507\n",
      " 17.0503 15.2016 15.2016 15.3576 17.0292 16.9918 15.7423 15.9542 15.9363\n",
      " 15.9421 15.1912 15.7695 17.9738 16.3446 16.4776 16.5771 17.1646 17.0026\n",
      " 16.9863 16.6538 15.2552 15.9149 16.9515 16.9109 16.4502 17.7434 15.4583\n",
      " 15.3427 15.0105 17.8231 14.8597 14.4238 18.7837 15.4176 15.4143 15.7741\n",
      " 15.8421 16.7381 15.8518 15.8382 15.9049 17.141  16.9714 16.9771 17.2843\n",
      " 15.8609 16.4951 16.1702 15.4022 17.1156 17.7193 16.7685 15.0309 16.0454\n",
      " 14.9298 18.5091 16.0809 19.0823 19.2104 19.3212 19.2688 19.3866 19.4171\n",
      " 14.908  20.5294 13.5155 14.4114 16.6295 17.4801 15.8447 17.1691 18.711\n",
      " 17.0575 16.652  15.0526 14.927  14.9103 14.8176 17.5387 15.3412 15.7114\n",
      " 15.578  15.8807 17.9535 17.7168 16.9091 16.8531 15.5853 16.5763 16.5313\n",
      " 15.7391 17.0581 15.8934 16.6101 15.5314 16.8385 18.8745 16.9198 17.2054\n",
      " 15.144  14.9952 15.9029 16.3006 16.3035 15.8003 17.9093 14.5696 13.9973\n",
      " 14.5486 15.7936 15.596  15.2218 15.4952 14.9246 17.3162 17.8628 18.4871\n",
      " 18.7414 18.6756 18.6553 18.6724 18.129  16.2743 16.313  15.9205 15.8103\n",
      " 16.4043 16.4149 17.2091 16.9819 14.7012 14.4567 14.7904 14.7911 18.664\n",
      " 17.5581 17.4431 17.774  18.5151 18.4705 16.0872 16.6641 15.9081 15.925\n",
      " 16.0236 15.9697 17.3668 16.7158 16.681  17.8905 17.6794 19.9782 14.3945\n",
      " 17.1575 17.2636 18.194  16.9758 18.5437 17.2179 16.878  16.817  16.0058\n",
      " 15.7094 16.1134 15.9555 15.6436 15.4561 15.9133 15.8218 16.4208 16.6364\n",
      " 16.7662 16.5022 17.5909 15.4594 15.0595 15.0455 15.0175 14.8437 16.6645\n",
      " 17.3778 16.8964 16.8501 16.4698 17.5952 16.1502 16.4384 16.4271 16.8021\n",
      " 17.5653 15.8702 15.8948 16.1465 15.9883 16.5068 17.5824 17.9221 18.1238\n",
      " 17.7219 16.8126 16.7792 16.7228 17.2888 15.0797 16.9966 18.3297 15.3566\n",
      " 20.4838 20.4838 18.4634 15.5183 14.4812 14.8334 17.2943 17.3875 16.1006\n",
      " 15.4356 16.0312 16.6531 15.5858 16.7366 17.4063 15.6531 16.2892 17.1389\n",
      " 18.5875 17.5269 17.5865 17.5398 18.3303 15.7227 15.6303 17.0685 16.1346\n",
      " 18.4054 18.4941 19.1785 15.1488 17.7793 17.0256 17.6422 16.4734 16.9246\n",
      " 16.1201 17.0446 17.3111 18.3393 16.9542 17.4763 17.3774 18.6467 19.2444\n",
      " 20.2928 15.9189 16.7129 15.7202 16.4723 16.7844 15.4579 15.5154 17.2244\n",
      " 16.3667 16.9166 16.5341 16.5053 16.1772 16.5603 16.4376 16.5072 15.8744\n",
      " 16.4048 16.3091 18.5371 18.4501 15.8461 15.8817 16.9041 16.2331 14.6718\n",
      " 14.3823 16.2044 16.6052 15.2702 16.1869 15.8213 14.8407 15.7179 16.9828\n",
      " 15.5201 15.4543 15.5538 16.8285 15.7396 15.6735 16.7729 17.1165 16.7442\n",
      " 18.1795 18.3742 18.4172 18.4322 19.4433 19.7787 17.8617 17.8297 16.159\n",
      " 16.5754 15.4735 15.0587 17.188  17.3513 17.4483 14.9733 16.7223 16.1131\n",
      " 15.9632 16.3779 16.3196 16.9356 16.3042 15.3705 15.3927 17.4341 17.6188\n",
      " 17.0692 16.7737 16.6161 15.5823 16.5975 16.0492 14.704  15.5725 15.7\n",
      " 16.7336 17.3623 16.2533 14.6022 17.5385 16.6263 16.6478 16.5093 15.0922\n",
      " 17.0176 16.5072 16.4748 16.8718 16.8546 16.8129 16.1691 16.078  16.5937\n",
      " 16.7644 16.6483 17.1101 16.2844 16.0827 16.1923 15.7618 15.5679 16.9855\n",
      " 17.1292 15.2561 17.2916 17.9007 17.0356 14.347  15.6688 14.6116 14.5813\n",
      " 15.0529 17.6291 17.3576 16.7208 17.0226 16.817  18.4964 17.2321 17.7681\n",
      " 17.6695 18.1666 16.3758 16.4044 16.403  14.6891 16.8517 16.9896 19.8276\n",
      " 16.5915 15.8616 15.9701 16.682  16.7273 16.6173 16.7812 16.8206 17.4197\n",
      " 17.256  15.8031 15.6469 17.5029 17.3175 16.8218 15.7763 16.225  16.218\n",
      " 15.8922 16.9366 18.6224 18.6965 16.1731 14.1263 14.9401 14.561  15.143\n",
      " 15.4385 17.6714 15.3631 16.9823 17.187  15.7058 15.534  15.5582 18.0485\n",
      " 17.3263 17.3996 15.9486 16.0537 16.0259 16.1131 17.5123 17.998  17.3289\n",
      " 17.3703 16.9564 14.3901 15.8849 17.0347 15.7885 15.121  15.2106 16.4425\n",
      " 18.7755 19.3157 16.3952 16.4217 15.1749 18.1533 15.5035 16.7603 15.4665\n",
      " 15.2948 16.9675 17.2998 16.6513 19.0226 15.3209 15.2708 15.272  17.9336\n",
      " 15.6976 15.6976 15.9119 15.827  15.4305 15.8759 18.4838 18.5555 16.6915\n",
      " 16.6423 17.0354 17.1627 15.5054 15.5984 16.469  16.2789 16.1572 17.5009\n",
      " 16.1081 16.1547 15.7449 15.6442 16.2832 16.1145 16.6406 16.7414 15.1601\n",
      " 16.4838 16.8521 16.8683 16.028  15.2168 15.659  16.4008 16.2486 17.9017\n",
      " 17.2397 17.5411 18.5707 18.5442 18.7516 19.7297 16.8642 16.8618 15.0313\n",
      " 15.7366 15.1539 15.7967 20.9311 20.7673 20.7867 20.6245 15.9125 15.9839\n",
      " 16.9501 15.0751 18.026  17.3503 17.8614 17.6975 17.5221 16.285  16.2892\n",
      " 15.7863 16.444  16.4118 16.3577 15.494  18.2601 18.1099 15.0111 17.5761\n",
      " 18.6081 18.7994 15.8808 17.8031 15.7564 15.6441 15.2138 16.5269 16.702\n",
      " 16.5255 17.6232 17.0697 18.5138 18.3012 17.8557 18.3889 16.503  16.3467\n",
      " 15.5642 16.3675 16.3857 16.7757 15.9208 15.3562 17.0791 16.7059 18.3637\n",
      " 17.593  15.2188 15.2033 15.2567 15.119  16.6815 18.9021 16.5432 15.9726\n",
      " 15.8761 15.9142 15.6928 16.8035 15.2321 14.5256 14.6094 18.8752 18.777\n",
      " 18.995  17.9893 14.919  18.2282 17.9676 17.581  16.6707 17.6526 17.0816\n",
      " 18.0035 17.9141 14.5871 14.2291 15.9562 16.6992 16.7742 17.6244 17.6016\n",
      " 16.9659 15.192  15.111  15.2617 15.3933 16.3709 16.5761 17.2842 17.7761\n",
      " 18.0076 18.0927 19.1067 19.0881 19.0344 18.5188 20.1039 17.8276 17.1157\n",
      " 15.3426 17.5889 15.8949 16.5922 16.7479 17.4225 14.971  18.307  16.7688\n",
      " 17.6528 15.8474 15.934  16.7642 16.0262 19.8337 18.637  16.5295 17.853\n",
      " 18.0442 16.9335 15.695  16.2001 18.12   17.7377 16.5539 17.6263 17.5757\n",
      " 17.5214 14.813  16.3682 16.2952 15.7947 16.5804 16.2253 15.9006 16.7055\n",
      " 16.6583 16.5764 15.5739 15.5693 15.5013 18.287  17.5652 15.197  16.7443\n",
      " 16.7683 14.6159 14.8399 17.5815 17.5214 17.5663 15.8318 15.0695 18.8132\n",
      " 15.2518 15.5827 15.5363 17.3703 16.4158 16.6566 16.6566 18.099  16.3164\n",
      " 16.3011 16.7474 16.6654 17.4104 16.9036 17.0329 16.2735 16.0982 15.8893\n",
      " 17.6081 17.6407 15.8227 18.6469 18.0104 15.0326 17.48   17.5276 17.4779\n",
      " 17.0469 17.9646 16.1261 16.8689 17.3674 17.0818 16.4061 15.3303 15.2717\n",
      " 16.6028 16.1161 15.7695 15.5245 15.7155 20.5657 18.5195 18.5257 15.8273\n",
      " 17.8379 15.5566 16.3877 16.3284 14.7436 15.7987 18.2875 18.0423 15.8532\n",
      " 16.6791 17.9147 18.4988 17.8833 16.9494 16.6901 16.6916 16.6901 16.3473\n",
      " 16.2961 16.8329 16.7864 16.7023 16.8569 16.9937 16.5271 14.4756 16.8254\n",
      " 17.3664 17.1563 17.4561 16.4384 16.4556 14.627  18.2823 18.4997 18.7276\n",
      " 19.3598 18.0687 18.1113 17.9368 17.8544 17.8231 17.2497 15.5643 17.0357\n",
      " 17.8496 18.0689 17.5246 17.4853 16.244  16.0282 15.9813 15.9813 15.7944\n",
      " 16.244  15.1406 14.1726 15.9295 15.9468 16.7611 16.7227 16.7958 16.9524\n",
      " 17.0241 16.0444 15.4612 15.4296 15.4296 15.8341 16.8367 16.4528 16.5943\n",
      " 16.5514 17.8357 17.8927 17.9631 17.8797 16.6669 16.0531 15.697  15.7717\n",
      " 16.8082 15.9735 15.2489 15.2117 16.8162 17.7301 17.7088 18.3164 18.292\n",
      " 18.1899 18.1774 16.7645 16.9248 17.6543 16.667  16.5791 16.6164 16.1339\n",
      " 16.5366 16.3599 16.449  16.5626 17.5975 17.1035 16.2318 16.1787 18.501\n",
      " 15.6841 15.8756 15.0135 15.0135 15.6974 15.7105 15.6877 16.1661 16.5367\n",
      " 16.7833 16.5836 16.9433 17.0039 17.7483 19.0659 16.4286 16.4065 17.1307\n",
      " 17.0513 17.0513 16.6854 18.0392 15.13   14.5543 15.1636 16.386  16.5746\n",
      " 16.5226 15.9237 18.7463 15.7429 14.6416 17.8756 19.7467 21.1227 15.3472\n",
      " 17.2034 17.167  15.6842 15.472  16.338  15.7712 16.1703 17.0722 17.1163\n",
      " 15.6624 15.8507 15.4824 15.66   15.202  15.6252 14.3078 13.9304 14.0603\n",
      " 14.2289 14.6011 14.6059 14.5258 16.819  15.5333 15.5803 17.6844 17.77\n",
      " 15.3347 15.2071 18.2809 18.2752 16.7256 16.7173 15.1506 14.7274 14.8367\n",
      " 16.9027 17.7206 16.5742 16.4912 16.7541 17.0849 15.8759 15.1841 15.7096\n",
      " 15.4828 15.9795 15.4005 16.1082 14.5224 14.8871 15.9871 17.9843 15.8802\n",
      " 16.3975 18.518  18.5323 19.5935 17.7303 17.7777 18.1945 17.9038 17.8315\n",
      " 18.4697 15.7768 15.7851 18.7511 19.0093 19.0313 17.9022 18.7544 18.5769\n",
      " 18.7273 15.9995 15.1781 15.5691 15.212  15.2603 16.5389 16.5863 18.3847\n",
      " 17.3059 15.4018 16.8031 18.0254 18.4823 16.7444 17.2609 17.4863 14.0531\n",
      " 14.4912 15.6146 16.7331 15.8461 14.9304 15.3434 15.9772 15.4439 14.637\n",
      " 17.1489 17.2969 17.4196 17.0444 17.3244 16.2646 14.6214 14.6214 15.799\n",
      " 15.2078 16.8346 16.8356 17.5081 15.1205 19.5678 19.5364 18.8858 16.0155\n",
      " 18.0959 17.6506 15.664  15.6616 17.3567 16.1105 17.7462 17.5722 17.2258\n",
      " 14.8065 14.7    14.7721 17.1607 17.0396 15.1646 15.2653 14.8379 14.7925\n",
      " 16.1008]\n"
     ]
    }
   ],
   "source": [
    "print(model_1_fit.stan_variable(\"sigma\"))"
   ]
  },
  {
   "cell_type": "code",
   "execution_count": 867,
   "metadata": {
    "metadata": {}
   },
   "outputs": [
    {
     "data": {
      "image/png": "[encoded data removed]",
      "text/plain": [
       "<Figure size 1008x432 with 2 Axes>"
      ]
     },
     "metadata": {
      "needs_background": "light"
     },
     "output_type": "display_data"
    }
   ],
   "source": [
    "fig, axs = plt.subplots(1, 2, figsize=(14, 6))\n",
    "\n",
    "axs[0].hist(df.kid_score.values, bins=30, color='skyblue', edgecolor='black')\n",
    "axs[0].set_title('Distribution of Kid IQ')\n",
    "axs[0].set_xlabel('Kid IQ')\n",
    "axs[0].set_ylabel('Density')\n",
    "axs[0].set_xlim(40,140)\n",
    "\n",
    "axs[1].hist(yields_pred_means, bins=30, color='salmon', edgecolor='black')\n",
    "axs[1].set_title('Prior of KID IQ')\n",
    "axs[1].set_xlabel('kid_score')\n",
    "axs[1].set_ylabel('Density')\n",
    "axs[1].set_xlim(40,140)\n",
    "plt.tight_layout()\n",
    "plt.show()"
   ]
  },
  {
   "cell_type": "code",
   "execution_count": 868,
   "metadata": {
    "metadata": {}
   },
   "outputs": [
    {
     "data": {
      "image/png": "[encoded data removed]",
      "text/plain": [
       "<Figure size 1008x432 with 1 Axes>"
      ]
     },
     "metadata": {
      "needs_background": "light"
     },
     "output_type": "display_data"
    }
   ],
   "source": [
    "plt.figure(figsize=(14,6))\n",
    "plt.bar(df.mom_iq.values,yields_pred_means, label=\"predictions\")\n",
    "plt.bar(df.mom_iq.values,df.kid_score.values, label=\"data\", alpha =0.4)\n",
    "plt.title(\"Comparison\")\n",
    "plt.ylabel(\"kid iq\")\n",
    "plt.xlabel(\"mom iq\")\n",
    "plt.legend()\n",
    "plt.show()"
   ]
  },
  {
   "cell_type": "markdown",
   "metadata": {},
   "source": [
    "Model 2"
   ]
  },
  {
   "cell_type": "code",
   "execution_count": 893,
   "metadata": {
    "metadata": {}
   },
   "outputs": [
    {
     "name": "stderr",
     "output_type": "stream",
     "text": [
      "INFO:cmdstanpy:found newer exe file, not recompiling\n",
      "INFO:cmdstanpy:CmdStan start processing\n",
      "chain 1 |\u001b[34m██████████\u001b[0m| 00:00 Sampling completed                      "
     ]
    },
    {
     "name": "stdout",
     "output_type": "stream",
     "text": [
      "                                                                                "
     ]
    },
    {
     "name": "stderr",
     "output_type": "stream",
     "text": [
      "\n",
      "INFO:cmdstanpy:CmdStan done processing.\n"
     ]
    },
    {
     "name": "stdout",
     "output_type": "stream",
     "text": [
      "\n"
     ]
    }
   ],
   "source": [
    "R = 1000\n",
    "model_2=CmdStanModel(stan_file='prior2.stan')\n",
    "\n",
    "model_2_samp = model_2.sample(data = {'N': df.shape[0], 'mom_iq': df[\"mom_iq\"].values, 'mom_hs': df[\"mom_hs\"].values},\n",
    "                     iter_sampling=R,\n",
    "                     iter_warmup=1,\n",
    "                     chains=1,\n",
    "                     fixed_param=True,\n",
    "                     seed=1204)"
   ]
  },
  {
   "cell_type": "code",
   "execution_count": 894,
   "metadata": {
    "metadata": {}
   },
   "outputs": [],
   "source": [
    "yields_pred_prior = model_2_samp.stan_variable(\"kid_score\")\n",
    "yields_pred_prior_means = np.mean(yields_pred_prior, axis=0)"
   ]
  },
  {
   "cell_type": "code",
   "execution_count": 895,
   "metadata": {
    "metadata": {}
   },
   "outputs": [
    {
     "data": {
      "image/png": "[encoded data removed]",
      "text/plain": [
       "<Figure size 1008x432 with 2 Axes>"
      ]
     },
     "metadata": {
      "needs_background": "light"
     },
     "output_type": "display_data"
    }
   ],
   "source": [
    "fig, axs = plt.subplots(1, 2, figsize=(14, 6))\n",
    "\n",
    "axs[0].hist(df.kid_score.values, bins=30, color='skyblue', edgecolor='black')\n",
    "axs[0].set_title('Distribution of Kid IQ')\n",
    "axs[0].set_xlabel('Kid IQ')\n",
    "axs[0].set_ylabel('Density')\n",
    "\n",
    "axs[1].hist(yields_pred_prior_means, bins=30, color='salmon', edgecolor='black')\n",
    "axs[1].set_title('Prior of KID IQ')\n",
    "axs[1].set_xlabel('kid_score')\n",
    "axs[1].set_ylabel('Density')\n",
    "\n",
    "plt.tight_layout()\n",
    "plt.show()"
   ]
  },
  {
   "cell_type": "code",
   "execution_count": 896,
   "metadata": {
    "metadata": {}
   },
   "outputs": [
    {
     "data": {
      "image/png": "[encoded data removed]",
      "text/plain": [
       "<Figure size 1008x432 with 1 Axes>"
      ]
     },
     "metadata": {
      "needs_background": "light"
     },
     "output_type": "display_data"
    }
   ],
   "source": [
    "plt.figure(figsize=(14,6))\n",
    "plt.bar(df.mom_iq.values,yields_pred_prior_means, label=\"predictions\")\n",
    "plt.bar(df.mom_iq.values,df.kid_score.values, label=\"data\", alpha =0.4)\n",
    "plt.title(\"Comparison\")\n",
    "plt.ylabel(\"kid iq\")\n",
    "plt.xlabel(\"mom iq\")\n",
    "plt.legend()\n",
    "plt.show()"
   ]
  },
  {
   "cell_type": "code",
   "execution_count": 898,
   "metadata": {
    "metadata": {}
   },
   "outputs": [
    {
     "name": "stderr",
     "output_type": "stream",
     "text": [
      "INFO:cmdstanpy:found newer exe file, not recompiling\n",
      "INFO:cmdstanpy:CmdStan start processing\n",
      "chain 1 |\u001b[34m██████████\u001b[0m| 00:02 Sampling completed                       "
     ]
    },
    {
     "name": "stdout",
     "output_type": "stream",
     "text": [
      "                                                                                "
     ]
    },
    {
     "name": "stderr",
     "output_type": "stream",
     "text": [
      "\n",
      "INFO:cmdstanpy:CmdStan done processing.\n"
     ]
    },
    {
     "name": "stdout",
     "output_type": "stream",
     "text": [
      "\n"
     ]
    }
   ],
   "source": [
    "R = 1000\n",
    "model=CmdStanModel(stan_file='model2.stan')\n",
    "\n",
    "model_2_fit = model.sample(data = {'N': df.shape[0], 'mom_iq': df[\"mom_iq\"].values, 'kid_score': df[\"kid_score\"].values, 'mom_hs': df[\"mom_hs\"].values},\n",
    "                     iter_sampling=R,\n",
    "                     chains=1)"
   ]
  },
  {
   "cell_type": "code",
   "execution_count": 899,
   "metadata": {
    "metadata": {}
   },
   "outputs": [],
   "source": [
    "yields_pred = model_2_fit.stan_variable(\"kid_score_pred\")\n",
    "yields_pred_means = np.mean(yields_pred, axis=0)"
   ]
  },
  {
   "cell_type": "code",
   "execution_count": 900,
   "metadata": {
    "metadata": {}
   },
   "outputs": [
    {
     "data": {
      "image/png": "[encoded data removed]",
      "text/plain": [
       "<Figure size 1008x432 with 2 Axes>"
      ]
     },
     "metadata": {
      "needs_background": "light"
     },
     "output_type": "display_data"
    }
   ],
   "source": [
    "fig, axs = plt.subplots(1, 2, figsize=(14, 6))\n",
    "\n",
    "axs[0].hist(df.kid_score.values, bins=30, color='skyblue', edgecolor='black')\n",
    "axs[0].set_title('Distribution of Kid IQ')\n",
    "axs[0].set_xlabel('Kid IQ')\n",
    "axs[0].set_ylabel('Density')\n",
    "axs[0].set_xlim(40,140)\n",
    "\n",
    "axs[1].hist(yields_pred_means, bins=30, color='salmon', edgecolor='black')\n",
    "axs[1].set_title('Prior of KID IQ')\n",
    "axs[1].set_xlabel('kid_score')\n",
    "axs[1].set_ylabel('Density')\n",
    "axs[1].set_xlim(40,140)\n",
    "plt.tight_layout()\n",
    "plt.show()"
   ]
  },
  {
   "cell_type": "code",
   "execution_count": 901,
   "metadata": {
    "metadata": {}
   },
   "outputs": [
    {
     "data": {
      "image/png": "[encoded data removed]",
      "text/plain": [
       "<Figure size 1008x432 with 1 Axes>"
      ]
     },
     "metadata": {
      "needs_background": "light"
     },
     "output_type": "display_data"
    }
   ],
   "source": [
    "plt.figure(figsize=(14,6))\n",
    "plt.bar(df.mom_iq.values,yields_pred_means, label=\"predictions\")\n",
    "plt.bar(df.mom_iq.values,df.kid_score.values, label=\"data\", alpha =0.4)\n",
    "plt.title(\"Comparison\")\n",
    "plt.ylabel(\"kid iq\")\n",
    "plt.xlabel(\"mom iq\")\n",
    "plt.legend()\n",
    "plt.show()"
   ]
  }
 ],
 "metadata": {
  "kernelspec": {
   "display_name": "Python 3",
   "language": "python",
   "name": "python3"
  },
  "language_info": {
   "codemirror_mode": {
    "name": "ipython",
    "version": 3
   },
   "file_extension": ".py",
   "mimetype": "text/x-python",
   "name": "python",
   "nbconvert_exporter": "python",
   "pygments_lexer": "ipython3",
   "version": "3.9.11"
  }
 },
 "nbformat": 4,
 "nbformat_minor": 2
}
