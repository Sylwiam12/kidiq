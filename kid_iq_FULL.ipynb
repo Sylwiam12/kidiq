{
 "cells": [
  {
   "cell_type": "code",
   "execution_count": 2,
   "metadata": {
    "metadata": {}
   },
   "outputs": [],
   "source": [
    "import pandas as pd\n",
    "import matplotlib.pyplot as plt\n",
    "import numpy as np\n",
    "import warnings\n",
    "warnings.filterwarnings(\"ignore\")"
   ]
  },
  {
   "cell_type": "code",
   "execution_count": 3,
   "metadata": {
    "metadata": {}
   },
   "outputs": [],
   "source": [
    "df = pd.read_csv(\"kidiq.csv\", sep=\";\")"
   ]
  },
  {
   "cell_type": "markdown",
   "metadata": {},
   "source": [
    "Data description\n",
    "\n",
    "```\n",
    "kid_score Child's IQ score\n",
    "        mom_hs Indicator for whether the mother has a high school degree\n",
    "        mom_iq Mother's IQ score\n",
    "        mom_work 1 = did not work in first three years of child's life\n",
    "                 2 = worked in 2nd or 3rd year of child's life\n",
    "                 3 = worked part-time in first year of child's life\n",
    "                 4 = worked full-time in first year of child's life\n",
    "        mom_age Mother's age\n",
    "\n",
    "```\n"
   ]
  },
  {
   "cell_type": "code",
   "execution_count": 4,
   "metadata": {
    "metadata": {}
   },
   "outputs": [
    {
     "data": {
      "text/html": [
       "<div>\n",
       "<style scoped>\n",
       "    .dataframe tbody tr th:only-of-type {\n",
       "        vertical-align: middle;\n",
       "    }\n",
       "\n",
       "    .dataframe tbody tr th {\n",
       "        vertical-align: top;\n",
       "    }\n",
       "\n",
       "    .dataframe thead th {\n",
       "        text-align: right;\n",
       "    }\n",
       "</style>\n",
       "<table border=\"1\" class=\"dataframe\">\n",
       "  <thead>\n",
       "    <tr style=\"text-align: right;\">\n",
       "      <th></th>\n",
       "      <th>kid_score</th>\n",
       "      <th>mom_hs</th>\n",
       "      <th>mom_iq</th>\n",
       "      <th>mom_work</th>\n",
       "      <th>mom_age</th>\n",
       "    </tr>\n",
       "  </thead>\n",
       "  <tbody>\n",
       "    <tr>\n",
       "      <th>0</th>\n",
       "      <td>65</td>\n",
       "      <td>1</td>\n",
       "      <td>121.117529</td>\n",
       "      <td>4</td>\n",
       "      <td>27</td>\n",
       "    </tr>\n",
       "    <tr>\n",
       "      <th>1</th>\n",
       "      <td>98</td>\n",
       "      <td>1</td>\n",
       "      <td>89.361882</td>\n",
       "      <td>4</td>\n",
       "      <td>25</td>\n",
       "    </tr>\n",
       "    <tr>\n",
       "      <th>2</th>\n",
       "      <td>85</td>\n",
       "      <td>1</td>\n",
       "      <td>115.443165</td>\n",
       "      <td>4</td>\n",
       "      <td>27</td>\n",
       "    </tr>\n",
       "    <tr>\n",
       "      <th>3</th>\n",
       "      <td>83</td>\n",
       "      <td>1</td>\n",
       "      <td>99.449639</td>\n",
       "      <td>3</td>\n",
       "      <td>25</td>\n",
       "    </tr>\n",
       "    <tr>\n",
       "      <th>4</th>\n",
       "      <td>115</td>\n",
       "      <td>1</td>\n",
       "      <td>92.745710</td>\n",
       "      <td>4</td>\n",
       "      <td>27</td>\n",
       "    </tr>\n",
       "  </tbody>\n",
       "</table>\n",
       "</div>"
      ],
      "text/plain": [
       "   kid_score  mom_hs      mom_iq  mom_work  mom_age\n",
       "0         65       1  121.117529         4       27\n",
       "1         98       1   89.361882         4       25\n",
       "2         85       1  115.443165         4       27\n",
       "3         83       1   99.449639         3       25\n",
       "4        115       1   92.745710         4       27"
      ]
     },
     "execution_count": 4,
     "metadata": {},
     "output_type": "execute_result"
    }
   ],
   "source": [
    "df.head()"
   ]
  },
  {
   "cell_type": "code",
   "execution_count": 5,
   "metadata": {
    "metadata": {}
   },
   "outputs": [
    {
     "data": {
      "text/html": [
       "<div>\n",
       "<style scoped>\n",
       "    .dataframe tbody tr th:only-of-type {\n",
       "        vertical-align: middle;\n",
       "    }\n",
       "\n",
       "    .dataframe tbody tr th {\n",
       "        vertical-align: top;\n",
       "    }\n",
       "\n",
       "    .dataframe thead th {\n",
       "        text-align: right;\n",
       "    }\n",
       "</style>\n",
       "<table border=\"1\" class=\"dataframe\">\n",
       "  <thead>\n",
       "    <tr style=\"text-align: right;\">\n",
       "      <th></th>\n",
       "      <th>kid_score</th>\n",
       "      <th>mom_hs</th>\n",
       "      <th>mom_iq</th>\n",
       "      <th>mom_work</th>\n",
       "      <th>mom_age</th>\n",
       "    </tr>\n",
       "  </thead>\n",
       "  <tbody>\n",
       "    <tr>\n",
       "      <th>kid_score</th>\n",
       "      <td>1.000000</td>\n",
       "      <td>0.035672</td>\n",
       "      <td>0.301510</td>\n",
       "      <td>-0.024535</td>\n",
       "      <td>0.095566</td>\n",
       "    </tr>\n",
       "    <tr>\n",
       "      <th>mom_hs</th>\n",
       "      <td>0.035672</td>\n",
       "      <td>1.000000</td>\n",
       "      <td>0.206142</td>\n",
       "      <td>0.045817</td>\n",
       "      <td>0.244039</td>\n",
       "    </tr>\n",
       "    <tr>\n",
       "      <th>mom_iq</th>\n",
       "      <td>0.301510</td>\n",
       "      <td>0.206142</td>\n",
       "      <td>1.000000</td>\n",
       "      <td>0.010575</td>\n",
       "      <td>-0.012764</td>\n",
       "    </tr>\n",
       "    <tr>\n",
       "      <th>mom_work</th>\n",
       "      <td>-0.024535</td>\n",
       "      <td>0.045817</td>\n",
       "      <td>0.010575</td>\n",
       "      <td>1.000000</td>\n",
       "      <td>0.152207</td>\n",
       "    </tr>\n",
       "    <tr>\n",
       "      <th>mom_age</th>\n",
       "      <td>0.095566</td>\n",
       "      <td>0.244039</td>\n",
       "      <td>-0.012764</td>\n",
       "      <td>0.152207</td>\n",
       "      <td>1.000000</td>\n",
       "    </tr>\n",
       "  </tbody>\n",
       "</table>\n",
       "</div>"
      ],
      "text/plain": [
       "           kid_score    mom_hs    mom_iq  mom_work   mom_age\n",
       "kid_score   1.000000  0.035672  0.301510 -0.024535  0.095566\n",
       "mom_hs      0.035672  1.000000  0.206142  0.045817  0.244039\n",
       "mom_iq      0.301510  0.206142  1.000000  0.010575 -0.012764\n",
       "mom_work   -0.024535  0.045817  0.010575  1.000000  0.152207\n",
       "mom_age     0.095566  0.244039 -0.012764  0.152207  1.000000"
      ]
     },
     "execution_count": 5,
     "metadata": {},
     "output_type": "execute_result"
    }
   ],
   "source": [
    "df.corr()"
   ]
  },
  {
   "cell_type": "code",
   "execution_count": 6,
   "metadata": {
    "metadata": {}
   },
   "outputs": [
    {
     "data": {
      "image/png": "[encoded data removed]",
      "text/plain": [
       "<Figure size 432x288 with 1 Axes>"
      ]
     },
     "metadata": {
      "needs_background": "light"
     },
     "output_type": "display_data"
    }
   ],
   "source": [
    "plt.scatter(df.mom_iq.values, df.kid_score.values)\n",
    "plt.title(\"Dependenct beewteen the kid and mother IQ\")\n",
    "plt.ylabel(\"Kid IQ\")\n",
    "plt.xlabel(\"Mom IQ\")\n",
    "plt.show()"
   ]
  },
  {
   "cell_type": "code",
   "execution_count": 7,
   "metadata": {
    "metadata": {}
   },
   "outputs": [
    {
     "data": {
      "image/png": "[encoded data removed]",
      "text/plain": [
       "<Figure size 432x288 with 1 Axes>"
      ]
     },
     "metadata": {
      "needs_background": "light"
     },
     "output_type": "display_data"
    }
   ],
   "source": [
    "plt.scatter( df.mom_hs.values, df.kid_score.values)\n",
    "plt.title('Dependency beetween the kid IQ and the indicator HS')\n",
    "plt.ylabel(\"Kid IQ\")\n",
    "plt.xlabel(\"Mom HS\")\n",
    "plt.show()"
   ]
  },
  {
   "cell_type": "code",
   "execution_count": 8,
   "metadata": {
    "metadata": {}
   },
   "outputs": [
    {
     "data": {
      "image/png": "[encoded data removed]",
      "text/plain": [
       "<Figure size 432x288 with 1 Axes>"
      ]
     },
     "metadata": {
      "needs_background": "light"
     },
     "output_type": "display_data"
    }
   ],
   "source": [
    "plt.hist(df.kid_score.values, bins=30, color='skyblue', edgecolor='black')\n",
    "plt.title('Kid IQ - histogram')\n",
    "plt.show()"
   ]
  },
  {
   "cell_type": "code",
   "execution_count": 9,
   "metadata": {
    "metadata": {}
   },
   "outputs": [
    {
     "data": {
      "image/png": "[encoded data removed]",
      "text/plain": [
       "<Figure size 432x288 with 1 Axes>"
      ]
     },
     "metadata": {
      "needs_background": "light"
     },
     "output_type": "display_data"
    }
   ],
   "source": [
    "plt.hist(df.mom_iq.values, bins=30, color='violet', edgecolor='black')\n",
    "plt.title('Mom IQ - histogram')\n",
    "plt.show()"
   ]
  },
  {
   "cell_type": "code",
   "execution_count": 10,
   "metadata": {
    "metadata": {}
   },
   "outputs": [
    {
     "data": {
      "image/png": "[encoded data removed]",
      "text/plain": [
       "<Figure size 432x288 with 1 Axes>"
      ]
     },
     "metadata": {
      "needs_background": "light"
     },
     "output_type": "display_data"
    }
   ],
   "source": [
    "plt.hist(df.mom_hs.values, color='lightgreen', edgecolor='black')\n",
    "plt.title('Mom HS - histogram')\n",
    "plt.show()"
   ]
  },
  {
   "cell_type": "code",
   "execution_count": 11,
   "metadata": {
    "metadata": {}
   },
   "outputs": [
    {
     "name": "stderr",
     "output_type": "stream",
     "text": [
      "INFO:cmdstanpy:found newer exe file, not recompiling\n",
      "INFO:cmdstanpy:CmdStan start processing\n",
      "chain 1 |\u001b[34m██████████\u001b[0m| 00:00 Sampling completed                      "
     ]
    },
    {
     "name": "stdout",
     "output_type": "stream",
     "text": [
      "                                                                                "
     ]
    },
    {
     "name": "stderr",
     "output_type": "stream",
     "text": [
      "\n",
      "INFO:cmdstanpy:CmdStan done processing.\n"
     ]
    },
    {
     "name": "stdout",
     "output_type": "stream",
     "text": [
      "\n"
     ]
    }
   ],
   "source": [
    "from cmdstanpy import CmdStanModel\n",
    "R = 1000\n",
    "model_1=CmdStanModel(stan_file='prior1.stan')\n",
    "\n",
    "model_1_samp = model_1.sample(data = {'N': df.shape[0], 'mom_iq': df[\"mom_iq\"].values},\n",
    "                     iter_sampling=R,\n",
    "                     iter_warmup=1,\n",
    "                     chains=1,\n",
    "                     fixed_param=True,\n",
    "                     seed=2904)"
   ]
  },
  {
   "cell_type": "code",
   "execution_count": 12,
   "metadata": {
    "metadata": {}
   },
   "outputs": [
    {
     "name": "stdout",
     "output_type": "stream",
     "text": [
      "[  0.       79.7463  -18.5757    0.        0.       77.8399  112.173\n",
      "   0.        0.        0.        0.       43.4574    0.        0.\n",
      " 118.031     0.        0.        0.       68.1511    0.        0.\n",
      "   0.       76.6392  113.394     0.        0.      104.831   130.637\n",
      "  74.0567    0.      114.038   116.375    62.9061  129.03     96.9963\n",
      " 119.906     0.        0.        0.        0.      136.412    50.5082\n",
      "   0.      117.258    95.3211    0.        0.      111.887    63.7219\n",
      " 111.176   131.05    103.707     0.       52.7431   93.8794    0.\n",
      "   0.        0.        0.        0.        0.      124.234     0.\n",
      "   0.      172.89      0.        0.        0.       90.7233    0.\n",
      "   0.        0.       66.3122  189.552     0.        0.        0.\n",
      "  55.6722    0.      103.833     0.       86.5541    0.        0.\n",
      "  39.6946    0.      148.997     0.        0.       84.8571   49.4567\n",
      "   0.      104.701     0.      171.402   132.047     0.        0.\n",
      "   0.        0.       47.7735  123.543   144.858   189.244    97.0774\n",
      "   5.31497  75.4109  143.895   125.854    92.6926   59.9689    0.\n",
      "  44.2814   89.1303    0.      137.626   169.029    56.589   121.799\n",
      "  94.9645    0.        0.      173.755    37.8007    0.        0.\n",
      "  82.654     0.       70.2462  146.672    97.4432    3.86499  97.9425\n",
      "   0.      134.641   170.577    84.3336    0.        0.        0.\n",
      " 185.285   121.586     0.        0.        0.        0.        0.\n",
      "   0.        0.        0.      120.448     0.       97.4837    0.\n",
      " 126.479   119.306     0.      102.375     0.      135.322     0.\n",
      " 127.826     0.        0.       97.6985   68.3292  119.876     0.\n",
      "   0.       65.7095   95.6782    0.        0.        0.       53.2376\n",
      "  65.3468    0.        0.      133.708     0.       76.1847    0.\n",
      "  44.222    87.0499    0.        0.        0.       90.1766  124.946\n",
      "   0.        0.        0.      102.791     0.       76.705    98.9064\n",
      "   0.        0.       32.3497    0.       60.9562    0.        0.\n",
      "   0.      100.468   138.092   177.596     0.       61.4318    0.\n",
      "   0.        0.      132.34      0.        0.        0.        0.\n",
      "   0.       70.9033   66.651   151.12      0.        0.       57.821\n",
      "   0.      102.031     0.        0.        0.       92.0005    0.\n",
      "   0.        0.      135.331   148.854   193.722     0.        0.\n",
      " 129.113     0.       75.4068   32.5448    0.      137.588     0.\n",
      " 141.488   140.853   172.827     0.        0.       70.1394    0.\n",
      "   0.      125.495     0.        0.      139.463    45.2483  111.035\n",
      "  85.21      0.        0.        0.      179.602    89.5176  115.885\n",
      "   0.       47.913     0.        0.       89.7972  136.966     0.\n",
      "  15.7454  117.278     0.       15.5808    0.      133.373   106.797\n",
      "   0.      133.854     0.        0.       65.4956  119.329   155.299\n",
      "   0.      184.367     0.        0.        0.      115.006   186.171\n",
      " 135.367     0.        0.        0.      141.6       0.      132.282\n",
      "  79.2298  129.999   155.629     0.      114.65      0.       99.2418\n",
      "  65.2451    0.        0.        0.        0.      136.142     0.\n",
      "   0.       97.0618  127.974     0.      146.914     0.       12.375\n",
      "   0.        0.        0.        0.      116.041     0.       71.5992\n",
      "  74.7946    0.       81.8837  116.615    52.1169    0.        0.\n",
      "  71.3254    0.        0.      101.994   190.982    68.58      0.\n",
      "   0.        0.      133.785   107.205    83.2825   77.2837  137.834\n",
      " 126.923     0.        0.      103.98    103.797     0.        0.\n",
      " 176.097     0.       51.541   136.101     0.       44.6494   88.9539\n",
      " 128.116     0.       92.5612   89.747     0.        0.       79.3142\n",
      "  44.4395   73.4428    0.        0.        0.       70.964     0.\n",
      " 126.247     0.        0.        0.       84.9814    0.       27.9689\n",
      " 100.526   127.546    81.1224  134.272     0.        0.        0.\n",
      "  95.5691    0.        0.        0.       81.6767  160.386    87.8388\n",
      "  94.1333   65.6149  127.55      0.        0.      113.689    57.9121\n",
      " 103.992    61.0003  106.551     0.       67.6852    0.       82.3378\n",
      "   0.        0.        0.       25.6025   77.4636    0.        0.\n",
      "  80.8534    0.       57.0472    0.       56.814     0.       39.817\n",
      "   0.        0.        0.        0.        0.        0.        0.\n",
      "   0.      168.536    93.4253   89.7521   20.7051   93.645    85.5153\n",
      " 123.569   103.88      0.       91.7512  177.384    78.604     0.\n",
      "  64.1793  139.881     0.       50.5468    0.        0.        0.\n",
      " 111.836     0.        0.        0.       63.2479    0.      120.054\n",
      "   0.      123.322    47.6556    0.        0.        0.       93.3993\n",
      " 146.814     0.        0.        0.        0.      140.75    204.526\n",
      " 111.549    78.5975   79.1074    0.       43.7803   56.8414  136.009\n",
      " 118.947   175.044     0.       51.5979    0.       58.1238    0.\n",
      "   0.        0.        0.        0.      152.797     0.      127.507\n",
      "   0.      131.205     0.        0.        0.        0.       -6.9877\n",
      "   0.        0.        0.       68.5625    0.        0.        0.\n",
      "   0.       69.9473    0.       64.5691  147.599     0.      100.78\n",
      "   0.        0.        0.       50.7635  123.887     0.      100.081\n",
      "   0.        0.        0.        0.        0.        0.       93.704\n",
      "   0.        0.        0.        0.        0.        0.       75.6318\n",
      "   0.       73.5845   93.6093   95.5974    0.       90.4713   62.1102\n",
      "  65.4048   86.5527    0.      157.31    105.185    93.9706    0.\n",
      "  46.6143  105.443     0.      -11.8142  111.625   119.433   111.812\n",
      "   0.        0.       22.1264    0.       92.3182   40.3804   57.9643\n",
      "  75.2481  107.949   133.951     0.        0.      113.616     0.\n",
      "   0.      128.939    45.741   157.145     0.        0.        0.\n",
      "   0.      111.075   150.908   132.204     0.       47.3218    0.\n",
      "   0.        0.       98.3181  122.867    64.0398  144.135     0.\n",
      "   0.        0.        0.        0.        0.        0.        0.\n",
      "   0.      123.483    68.7287    0.        0.      159.629    59.4901\n",
      "   0.        0.       77.2119  142.013     0.       27.1396  139.074\n",
      "  90.281     0.        0.      134.56      0.       95.9724    0.\n",
      " 117.268    67.328     0.        0.        0.        0.       75.7852\n",
      "   0.        0.        0.       96.6961    0.      134.879     0.\n",
      "   0.      129.724   176.132    61.3826    0.        0.       93.9695\n",
      " 145.614   150.631    60.5955   66.9448    0.       42.9966  147.608\n",
      "  85.5273    0.        0.      122.83     95.2954  122.165   158.836\n",
      "   0.        0.       59.2281    0.        0.      117.146     0.\n",
      "  21.6315    0.       60.9164    0.        0.      111.897   122.538\n",
      " 113.163     0.      156.846     0.       78.7326    0.      123.807\n",
      "   0.       83.275     0.        0.       59.6385  115.481     0.\n",
      "   0.        0.       94.826   151.186    54.7967   55.1437  165.119\n",
      "  94.459    42.5917    0.        0.      126.85      0.        0.\n",
      "   0.        0.      197.434   160.11      0.        0.        0.\n",
      " 119.836   153.713     0.        0.      124.913    59.2018    0.\n",
      "   0.        0.        0.        0.        0.        0.        0.\n",
      "   0.        0.      109.359    65.0164   60.7585    0.        0.\n",
      "   0.        0.       99.3391   96.0461   80.4215  115.151     0.\n",
      "   6.84439   0.        0.       83.077     0.       72.0459  173.726\n",
      "   0.        0.      116.04      0.       98.0665   75.0225  107.175\n",
      " 108.582     0.       54.0681    0.       82.758     0.      156.605\n",
      "  83.6806    0.       23.907   128.372    79.2491    0.        0.\n",
      "   0.        0.      148.811     0.        0.        0.      117.464\n",
      "   0.       78.7867    0.        0.      142.611    79.2949   74.1969\n",
      " 122.933   158.666     0.       77.2152    0.        0.        0.\n",
      " 108.952    30.8187   31.1524   77.6021    0.        0.        0.\n",
      " 120.366    39.2906    0.      148.743   124.549     0.        0.\n",
      "   0.       81.9171   78.8915  137.382     0.        0.       97.0674\n",
      "  90.745     0.        0.        0.       71.2796  140.52      0.\n",
      " 130.78      0.       15.1052  162.133    95.0197    0.        0.\n",
      "   0.        0.        0.      125.699     0.        0.      174.217\n",
      "  91.9263    0.      108.561     0.      106.327     0.        0.\n",
      "  70.6516  107.17     98.706     0.      185.563    68.5916    0.\n",
      " 137.509     0.       98.1369    0.      126.87    148.369   128.609\n",
      "   0.      147.615     0.       27.8461   75.4796    0.      126.451\n",
      "  67.8747    0.      122.975    69.1541  115.36     76.3361    0.\n",
      "  71.6456    0.        0.       57.4401    0.        0.        0.\n",
      "   0.      124.925   104.911     0.        0.        0.        0.\n",
      " 101.781     0.      168.577    85.9403    0.      114.035   101.835\n",
      "  55.1979   74.4514  140.224    50.8204   67.0491    0.      196.551\n",
      "   0.       44.6034   54.536     0.       75.2897   61.0222    0.\n",
      "   0.        0.      104.979     0.      109.812   130.172     0.\n",
      "  57.4801  130.192   163.55    161.079     0.      164.295   103.498\n",
      "  83.4583    0.        0.        0.        0.        0.        0.\n",
      "  87.8717    0.      108.257     0.        0.        0.        0.\n",
      "  50.0833    0.        0.       83.8996    0.        0.      129.92\n",
      "  71.1738   87.4981   67.7259    0.      157.168    78.4498  110.777\n",
      " 187.631     0.        0.        0.       78.3623  109.155     0.\n",
      "   0.        0.        0.       96.1361    0.      130.098   103.985\n",
      "   0.        0.       51.9409    0.        0.      145.542     0.\n",
      "   0.       90.0996   11.4704   66.2477    0.       70.2432    0.\n",
      "   0.        0.      132.833     0.       23.7082    0.      115.892\n",
      "   0.        0.       71.7408   94.918    58.0583    0.       64.7021\n",
      " 126.971    61.9842  127.748   154.111    56.515     0.       84.4319\n",
      " 135.358     0.      184.273   163.655     0.        0.        0.\n",
      "  63.911   132.171     0.      162.803     0.       90.7622 ]\n"
     ]
    }
   ],
   "source": [
    "print(model_1_samp.stan_variable(\"beta0\"))"
   ]
  },
  {
   "cell_type": "code",
   "execution_count": 13,
   "metadata": {
    "metadata": {}
   },
   "outputs": [
    {
     "name": "stdout",
     "output_type": "stream",
     "text": [
      "[ 0.00000e+00  2.11598e+00  9.83194e-01  0.00000e+00  0.00000e+00\n",
      "  1.88169e-01 -2.35982e-01  0.00000e+00  0.00000e+00  0.00000e+00\n",
      "  0.00000e+00 -1.21036e-01  0.00000e+00  0.00000e+00  2.73636e+00\n",
      "  0.00000e+00  0.00000e+00  0.00000e+00 -2.61543e-01  0.00000e+00\n",
      "  0.00000e+00  0.00000e+00  7.44192e-01  1.34955e+00  0.00000e+00\n",
      "  0.00000e+00  1.03876e+00 -5.56921e-02  1.91485e+00  0.00000e+00\n",
      " -4.00329e-01  8.68341e-01 -1.01311e-01  2.61592e-01  1.12962e+00\n",
      " -7.52490e-01  0.00000e+00  0.00000e+00  0.00000e+00  0.00000e+00\n",
      "  9.22906e-03  5.47236e-01  0.00000e+00 -1.20645e+00  8.56725e-01\n",
      "  0.00000e+00  0.00000e+00  2.50607e+00  1.63213e+00  9.80364e-01\n",
      "  1.74184e+00  1.10434e+00  0.00000e+00  3.01486e-01  2.10780e+00\n",
      "  0.00000e+00  0.00000e+00  0.00000e+00  0.00000e+00  0.00000e+00\n",
      "  0.00000e+00 -2.17778e+00  0.00000e+00  0.00000e+00  1.10573e+00\n",
      "  0.00000e+00  0.00000e+00  0.00000e+00  1.78313e+00  0.00000e+00\n",
      "  0.00000e+00  0.00000e+00  7.40257e-01 -7.76805e-01  0.00000e+00\n",
      "  0.00000e+00  0.00000e+00 -2.19501e-01  0.00000e+00  2.39300e+00\n",
      "  0.00000e+00 -7.46005e-01  0.00000e+00  0.00000e+00 -9.63895e-01\n",
      "  0.00000e+00  1.44870e+00  0.00000e+00  0.00000e+00  3.30647e-01\n",
      " -9.36471e-01  0.00000e+00 -5.37111e-01  0.00000e+00  1.12659e+00\n",
      " -5.44694e-02  0.00000e+00  0.00000e+00  0.00000e+00  0.00000e+00\n",
      "  1.71842e+00 -4.69779e-01  1.16000e+00  1.02374e+00  5.19443e-01\n",
      " -9.69202e-01  4.67024e-01 -1.65724e-01  1.32639e+00  5.01123e-01\n",
      "  1.77039e+00  0.00000e+00 -7.11873e-01  1.11949e+00  0.00000e+00\n",
      "  1.06591e+00  1.57563e+00  2.06843e-01  1.54967e+00  2.01345e+00\n",
      "  0.00000e+00  0.00000e+00 -8.54104e-01 -4.09983e-01  0.00000e+00\n",
      "  0.00000e+00  3.47239e-01  0.00000e+00 -7.88347e-01  4.58143e-01\n",
      "  6.95870e-01  5.84170e-01  8.12947e-01  0.00000e+00  1.25717e+00\n",
      " -2.81109e-01  9.22623e-01  0.00000e+00  0.00000e+00  0.00000e+00\n",
      "  1.04270e+00 -1.95130e-01  0.00000e+00  0.00000e+00  0.00000e+00\n",
      "  0.00000e+00  0.00000e+00  0.00000e+00  0.00000e+00  0.00000e+00\n",
      " -1.23516e-01  0.00000e+00 -1.60678e-01  0.00000e+00  6.55403e-01\n",
      "  2.32845e+00  0.00000e+00  1.12243e+00  0.00000e+00  1.28523e+00\n",
      "  0.00000e+00 -1.53950e+00  0.00000e+00  0.00000e+00  2.29022e-01\n",
      " -1.00447e+00  6.56132e-01  0.00000e+00  0.00000e+00  1.88426e+00\n",
      "  4.61959e-01  0.00000e+00  0.00000e+00  0.00000e+00  1.02664e+00\n",
      " -2.35540e-01  0.00000e+00  0.00000e+00  6.58239e-01  0.00000e+00\n",
      "  3.66919e-01  0.00000e+00  2.15823e-02 -3.01764e-01  0.00000e+00\n",
      "  0.00000e+00  0.00000e+00  1.87056e-01 -7.40746e-01  0.00000e+00\n",
      "  0.00000e+00  0.00000e+00 -1.61232e-01  0.00000e+00  1.22668e+00\n",
      "  8.63169e-01  0.00000e+00  0.00000e+00 -9.33532e-02  0.00000e+00\n",
      "  6.74326e-01  0.00000e+00  0.00000e+00  0.00000e+00 -1.31957e+00\n",
      "  7.35244e-01 -5.71275e-01  0.00000e+00  6.81059e-01  0.00000e+00\n",
      "  0.00000e+00  0.00000e+00  9.41296e-02  0.00000e+00  0.00000e+00\n",
      "  0.00000e+00  0.00000e+00  0.00000e+00 -5.28139e-01  5.18673e-01\n",
      "  6.86746e-01  0.00000e+00  0.00000e+00  8.52755e-01  0.00000e+00\n",
      "  2.57988e+00  0.00000e+00  0.00000e+00  0.00000e+00 -7.27658e-01\n",
      "  0.00000e+00  0.00000e+00  0.00000e+00  2.55529e-02  6.93414e-01\n",
      "  2.06943e+00  0.00000e+00  0.00000e+00  6.10978e-01  0.00000e+00\n",
      "  7.05121e-01  2.42951e+00  0.00000e+00  1.19687e+00  0.00000e+00\n",
      "  9.81167e-01 -2.23766e-01  1.71942e-01  0.00000e+00  0.00000e+00\n",
      "  1.99852e-01  0.00000e+00  0.00000e+00  3.90161e-01  0.00000e+00\n",
      "  0.00000e+00  2.41109e+00 -5.35023e-01  1.70038e-01 -1.74976e-01\n",
      "  0.00000e+00  0.00000e+00  0.00000e+00  1.75631e-01  1.85522e+00\n",
      " -1.01325e+00  0.00000e+00  1.80993e+00  0.00000e+00  0.00000e+00\n",
      "  6.37656e-01  2.01499e+00  0.00000e+00  1.02774e+00 -7.81902e-01\n",
      "  0.00000e+00 -7.33009e-01  0.00000e+00  6.81457e-02  1.31849e+00\n",
      "  0.00000e+00 -1.21587e-01  0.00000e+00  0.00000e+00  4.18541e-01\n",
      "  1.32735e+00  8.34338e-01  0.00000e+00  1.43504e+00  0.00000e+00\n",
      "  0.00000e+00  0.00000e+00  1.87195e+00  1.42418e+00  1.01469e+00\n",
      "  0.00000e+00  0.00000e+00  0.00000e+00  2.87795e-03  0.00000e+00\n",
      "  2.02619e+00  6.47060e-01  3.19709e-01  2.21896e+00  0.00000e+00\n",
      " -2.68231e-02  0.00000e+00  8.78347e-01  7.26698e-01  0.00000e+00\n",
      "  0.00000e+00  0.00000e+00  0.00000e+00  3.32152e-01  0.00000e+00\n",
      "  0.00000e+00 -1.26711e-01 -1.14756e+00  0.00000e+00 -1.55980e+00\n",
      "  0.00000e+00 -8.21582e-01  0.00000e+00  0.00000e+00  0.00000e+00\n",
      "  0.00000e+00  1.19164e+00  0.00000e+00  9.35031e-01  2.57463e+00\n",
      "  0.00000e+00 -5.00226e-01  7.84872e-01 -1.18174e+00  0.00000e+00\n",
      "  0.00000e+00  1.23526e+00  0.00000e+00  0.00000e+00 -1.37117e+00\n",
      "  2.02735e+00  3.27360e-01  0.00000e+00  0.00000e+00  0.00000e+00\n",
      "  1.16541e+00 -2.64914e-01  1.06758e+00  9.70096e-01  2.25456e+00\n",
      " -9.27917e-01  0.00000e+00  0.00000e+00 -6.38815e-02 -1.22832e+00\n",
      "  0.00000e+00  0.00000e+00 -5.79250e-01  0.00000e+00 -6.21355e-01\n",
      "  2.37911e-01  0.00000e+00  2.19047e+00 -6.76814e-01  1.40190e+00\n",
      "  0.00000e+00  6.51935e-01  1.01287e+00  0.00000e+00  0.00000e+00\n",
      "  1.82200e+00  2.25080e+00  6.80846e-01  0.00000e+00  0.00000e+00\n",
      "  0.00000e+00  8.31820e-01  0.00000e+00 -7.46887e-01  0.00000e+00\n",
      "  0.00000e+00  0.00000e+00  2.19614e-01  0.00000e+00  1.42560e+00\n",
      " -4.40340e-01 -1.13639e+00  1.02184e+00 -5.57992e-01  0.00000e+00\n",
      "  0.00000e+00  0.00000e+00 -1.10696e+00  0.00000e+00  0.00000e+00\n",
      "  0.00000e+00 -3.28095e-01  1.16053e+00  4.72298e-02  1.57960e+00\n",
      "  1.10819e+00 -8.89599e-01  0.00000e+00  0.00000e+00  1.59459e+00\n",
      "  3.74513e+00  1.51761e-02 -1.52894e+00  2.76404e+00  0.00000e+00\n",
      "  6.84123e-01  0.00000e+00  3.19505e-01  0.00000e+00  0.00000e+00\n",
      "  0.00000e+00  2.50191e-01  1.63841e+00  0.00000e+00  0.00000e+00\n",
      " -1.27027e+00  0.00000e+00  1.06548e+00  0.00000e+00 -4.03503e-01\n",
      "  0.00000e+00  1.07524e+00  0.00000e+00  0.00000e+00  0.00000e+00\n",
      "  0.00000e+00  0.00000e+00  0.00000e+00  0.00000e+00  0.00000e+00\n",
      "  1.13616e+00  5.09541e-01  5.55420e-01  6.59247e-01 -4.15007e-01\n",
      "  1.18979e-01 -7.30129e-01  4.23273e-01  0.00000e+00  2.39374e-01\n",
      "  7.78749e-01  1.53247e+00  0.00000e+00  4.35420e-01 -6.78162e-01\n",
      "  0.00000e+00  1.96437e+00  0.00000e+00  0.00000e+00  0.00000e+00\n",
      " -2.98653e-01  0.00000e+00  0.00000e+00  0.00000e+00  1.31066e+00\n",
      "  0.00000e+00  2.40737e+00  0.00000e+00 -2.88749e-01 -1.26888e-01\n",
      "  0.00000e+00  0.00000e+00  0.00000e+00 -7.37983e-01  4.29650e-01\n",
      "  0.00000e+00  0.00000e+00  0.00000e+00  0.00000e+00  6.36587e-01\n",
      "  1.79166e-01  1.98337e-01 -1.51851e-01  5.15386e-01  0.00000e+00\n",
      "  5.07425e-01  4.94331e-01 -1.76629e+00  2.23080e+00  2.41228e+00\n",
      "  0.00000e+00  1.42630e+00  0.00000e+00  1.06909e+00  0.00000e+00\n",
      "  0.00000e+00  0.00000e+00  0.00000e+00  0.00000e+00 -1.64227e-02\n",
      "  0.00000e+00  1.92257e+00  0.00000e+00  7.72784e-01  0.00000e+00\n",
      "  0.00000e+00  0.00000e+00  0.00000e+00  5.54301e-01  0.00000e+00\n",
      "  0.00000e+00  0.00000e+00 -3.49844e-01  0.00000e+00  0.00000e+00\n",
      "  0.00000e+00  0.00000e+00  2.79535e-01  0.00000e+00  6.40705e-03\n",
      "  1.81772e-01  0.00000e+00 -8.56567e-01  0.00000e+00  0.00000e+00\n",
      "  0.00000e+00  1.44952e+00  3.33438e+00  0.00000e+00  1.32796e+00\n",
      "  0.00000e+00  0.00000e+00  0.00000e+00  0.00000e+00  0.00000e+00\n",
      "  0.00000e+00  1.90935e+00  0.00000e+00  0.00000e+00  0.00000e+00\n",
      "  0.00000e+00  0.00000e+00  0.00000e+00  1.27791e+00  0.00000e+00\n",
      " -1.53786e-01 -8.60441e-01  7.56295e-01  0.00000e+00  8.36716e-01\n",
      "  1.25697e+00  1.27831e+00 -7.47809e-01  0.00000e+00  1.45524e-01\n",
      " -1.41807e+00  7.23900e-01  0.00000e+00  4.18617e-01  2.11842e+00\n",
      "  0.00000e+00  1.05055e+00  2.27242e+00 -2.18025e-01 -2.91738e-01\n",
      "  0.00000e+00  0.00000e+00  3.11015e+00  0.00000e+00  1.61468e-01\n",
      "  8.82696e-01  3.93717e-01  4.27803e+00  1.31396e+00  1.37250e+00\n",
      "  0.00000e+00  0.00000e+00  3.73026e-01  0.00000e+00  0.00000e+00\n",
      " -6.65518e-02  1.34519e+00 -1.41589e-01  0.00000e+00  0.00000e+00\n",
      "  0.00000e+00  0.00000e+00  5.00051e-01  1.00294e+00  1.46022e+00\n",
      "  0.00000e+00  8.64676e-01  0.00000e+00  0.00000e+00  0.00000e+00\n",
      "  1.59657e+00 -1.45369e+00  2.74420e+00  7.37860e-01  0.00000e+00\n",
      "  0.00000e+00  0.00000e+00  0.00000e+00  0.00000e+00  0.00000e+00\n",
      "  0.00000e+00  0.00000e+00  0.00000e+00  3.50145e-01 -4.76883e-01\n",
      "  0.00000e+00  0.00000e+00 -5.22783e-01  3.48711e-01  0.00000e+00\n",
      "  0.00000e+00 -2.94193e-01 -9.67601e-01  0.00000e+00 -1.22312e+00\n",
      "  6.75523e-01  1.14074e+00  0.00000e+00  0.00000e+00  8.85644e-01\n",
      "  0.00000e+00  1.11366e+00  0.00000e+00  3.13745e-01 -4.52234e-01\n",
      "  0.00000e+00  0.00000e+00  0.00000e+00  0.00000e+00  6.05421e-02\n",
      "  0.00000e+00  0.00000e+00  0.00000e+00  5.40406e-01  0.00000e+00\n",
      "  6.34246e-01  0.00000e+00  0.00000e+00  8.16415e-01  1.44125e+00\n",
      "  8.91231e-01  0.00000e+00  0.00000e+00  1.96466e+00 -9.88767e-01\n",
      "  2.52062e-01  1.25181e+00 -1.52431e-02  0.00000e+00 -8.30227e-02\n",
      "  2.57850e+00  1.40242e+00  0.00000e+00  0.00000e+00  4.12563e-01\n",
      "  3.05709e-01  1.09191e+00  3.96245e-01  0.00000e+00  0.00000e+00\n",
      "  6.75091e-02  0.00000e+00  0.00000e+00  8.80675e-01  0.00000e+00\n",
      " -1.38103e-01  0.00000e+00 -2.49367e-01  0.00000e+00  0.00000e+00\n",
      " -2.36418e-02  8.91632e-01 -1.03658e+00  0.00000e+00  1.21214e+00\n",
      "  0.00000e+00  1.21360e+00  0.00000e+00  1.12341e+00  0.00000e+00\n",
      " -1.12389e+00  0.00000e+00  0.00000e+00  4.20100e-01  3.59193e+00\n",
      "  0.00000e+00  0.00000e+00  0.00000e+00  5.77841e-01  2.25703e+00\n",
      "  7.96311e-01 -1.02847e-01  1.17363e+00  3.91806e-01 -9.74748e-01\n",
      "  0.00000e+00  0.00000e+00  6.19309e-02  0.00000e+00  0.00000e+00\n",
      "  0.00000e+00  0.00000e+00  8.81390e-01 -3.91686e-01  0.00000e+00\n",
      "  0.00000e+00  0.00000e+00 -7.67464e-01 -1.08590e+00  0.00000e+00\n",
      "  0.00000e+00  1.42127e+00  1.19770e+00  0.00000e+00  0.00000e+00\n",
      "  0.00000e+00  0.00000e+00  0.00000e+00  0.00000e+00  0.00000e+00\n",
      "  0.00000e+00  0.00000e+00  0.00000e+00  4.52597e-01  8.76499e-01\n",
      "  2.14383e-01  0.00000e+00  0.00000e+00  0.00000e+00  0.00000e+00\n",
      " -6.50474e-01  6.65922e-01 -1.02197e+00  3.29927e-02  0.00000e+00\n",
      "  7.26756e-01  0.00000e+00  0.00000e+00  1.71488e+00  0.00000e+00\n",
      "  4.81144e-02 -1.35005e+00  0.00000e+00  0.00000e+00  2.28331e-01\n",
      "  0.00000e+00  1.34191e+00  1.34554e-01  8.88971e-01  1.33584e+00\n",
      "  0.00000e+00 -1.19568e-01  0.00000e+00 -1.03140e+00  0.00000e+00\n",
      "  2.89293e-01 -9.29574e-01  0.00000e+00 -7.69859e-01 -3.92243e-01\n",
      "  1.33973e+00  0.00000e+00  0.00000e+00  0.00000e+00  0.00000e+00\n",
      "  3.27869e-01  0.00000e+00  0.00000e+00  0.00000e+00  9.22723e-01\n",
      "  0.00000e+00 -1.65585e-01  0.00000e+00  0.00000e+00  3.92085e-01\n",
      "  6.87076e-01 -1.52628e-01 -7.38052e-01 -1.58244e-01  0.00000e+00\n",
      "  9.40959e-01  0.00000e+00  0.00000e+00  0.00000e+00  5.31182e-01\n",
      " -1.11160e+00 -5.70519e-01  1.90516e+00  0.00000e+00  0.00000e+00\n",
      "  0.00000e+00  2.91076e-01  1.78062e+00  0.00000e+00  1.08765e+00\n",
      "  5.62078e-01  0.00000e+00  0.00000e+00  0.00000e+00  2.68775e+00\n",
      "  1.10279e-01 -7.43227e-01  0.00000e+00  0.00000e+00  4.11186e-01\n",
      "  9.94314e-01  0.00000e+00  0.00000e+00  0.00000e+00 -1.29013e+00\n",
      " -7.80256e-02  0.00000e+00  5.14862e-01  0.00000e+00  1.69551e+00\n",
      " -2.63371e-01  2.07590e+00  0.00000e+00  0.00000e+00  0.00000e+00\n",
      "  0.00000e+00  0.00000e+00  8.06459e-01  0.00000e+00  0.00000e+00\n",
      "  1.68848e+00 -1.76737e+00  0.00000e+00  1.39774e+00  0.00000e+00\n",
      "  4.53124e-01  0.00000e+00  0.00000e+00  9.19125e-01  7.65863e-01\n",
      " -3.27639e-01  0.00000e+00  2.73113e-01  3.21530e-01  0.00000e+00\n",
      "  1.82341e+00  0.00000e+00  1.95975e+00  0.00000e+00  7.53243e-01\n",
      "  9.26702e-01  1.79054e+00  0.00000e+00 -1.01070e+00  0.00000e+00\n",
      "  7.70844e-01  6.00633e-01  0.00000e+00  2.81471e+00  1.38255e+00\n",
      "  0.00000e+00 -1.77078e+00  1.32085e+00  2.50965e-01  7.59625e-01\n",
      "  0.00000e+00 -3.18143e-02  0.00000e+00  0.00000e+00  1.12843e+00\n",
      "  0.00000e+00  0.00000e+00  0.00000e+00  0.00000e+00 -4.91384e-01\n",
      " -1.75744e-01  0.00000e+00  0.00000e+00  0.00000e+00  0.00000e+00\n",
      "  1.26283e+00  0.00000e+00  9.60434e-01  1.94983e-01  0.00000e+00\n",
      "  5.81674e-01  1.11534e+00 -9.70407e-01  2.09615e-01  2.15465e+00\n",
      " -8.26897e-01  1.53490e+00  0.00000e+00  5.22952e-01  0.00000e+00\n",
      " -1.48508e-01 -7.63267e-01  0.00000e+00  1.73567e+00 -2.34697e-01\n",
      "  0.00000e+00  0.00000e+00  0.00000e+00  7.29721e-01  0.00000e+00\n",
      " -1.18152e+00  1.87597e+00  0.00000e+00  2.58184e+00  9.96487e-01\n",
      "  8.10383e-01 -6.14977e-01  0.00000e+00 -3.15479e-02  4.05927e-01\n",
      "  6.14388e-01  0.00000e+00  0.00000e+00  0.00000e+00  0.00000e+00\n",
      "  0.00000e+00  0.00000e+00  1.24192e+00  0.00000e+00  7.99128e-01\n",
      "  0.00000e+00  0.00000e+00  0.00000e+00  0.00000e+00 -3.31092e-01\n",
      "  0.00000e+00  0.00000e+00  2.11712e+00  0.00000e+00  0.00000e+00\n",
      " -1.51330e-01 -2.47882e-01  2.21620e+00  2.63681e+00  0.00000e+00\n",
      "  1.37189e+00 -1.21959e+00  1.18702e+00 -1.06957e-01  0.00000e+00\n",
      "  0.00000e+00  0.00000e+00  1.09301e+00 -8.45504e-01  0.00000e+00\n",
      "  0.00000e+00  0.00000e+00  0.00000e+00  3.66107e+00  0.00000e+00\n",
      "  1.96769e+00  2.70133e+00  0.00000e+00  0.00000e+00  1.91552e+00\n",
      "  0.00000e+00  0.00000e+00  2.71159e-02  0.00000e+00  0.00000e+00\n",
      "  1.64081e-01  2.01263e-01 -6.16176e-01  0.00000e+00  1.72080e+00\n",
      "  0.00000e+00  0.00000e+00  0.00000e+00  7.91907e-01  0.00000e+00\n",
      "  7.20018e-01  0.00000e+00  9.53674e-01  0.00000e+00  0.00000e+00\n",
      "  1.86701e+00  6.54414e-01 -1.13789e+00  0.00000e+00 -8.18819e-01\n",
      "  1.86391e+00  1.78841e+00 -5.17695e-01  1.40722e+00  2.59855e+00\n",
      "  0.00000e+00  5.19636e-01  8.78568e-01  0.00000e+00  1.90850e+00\n",
      " -5.18553e-01  0.00000e+00  0.00000e+00  0.00000e+00  1.11557e+00\n",
      "  5.32388e-01  0.00000e+00  9.35412e-01  0.00000e+00  1.01052e+00]\n"
     ]
    }
   ],
   "source": [
    "print(model_1_samp.stan_variable(\"beta1\"))"
   ]
  },
  {
   "cell_type": "code",
   "execution_count": 14,
   "metadata": {
    "metadata": {}
   },
   "outputs": [],
   "source": [
    "yields_pred_prior = model_1_samp.stan_variable(\"kid_score\")\n",
    "yields_pred_prior_means = np.mean(yields_pred_prior, axis=0)"
   ]
  },
  {
   "cell_type": "code",
   "execution_count": 15,
   "metadata": {
    "metadata": {}
   },
   "outputs": [
    {
     "name": "stdout",
     "output_type": "stream",
     "text": [
      "[0.00000e+00 1.52000e+00 4.93010e+00 0.00000e+00 0.00000e+00 1.47060e+00\n",
      " 3.86705e+00 0.00000e+00 0.00000e+00 0.00000e+00 0.00000e+00 1.03927e+01\n",
      " 0.00000e+00 0.00000e+00 7.59872e+00 0.00000e+00 0.00000e+00 0.00000e+00\n",
      " 3.48538e+00 0.00000e+00 0.00000e+00 0.00000e+00 3.75848e+01 1.25517e+01\n",
      " 0.00000e+00 0.00000e+00 1.10797e+01 1.59482e+01 2.49382e+00 0.00000e+00\n",
      " 7.55569e+00 1.90069e+01 8.13237e+00 2.81300e+00 2.01322e+01 9.45914e-02\n",
      " 0.00000e+00 0.00000e+00 0.00000e+00 0.00000e+00 6.02418e+00 3.38117e-01\n",
      " 0.00000e+00 2.12638e+01 5.64226e+00 0.00000e+00 0.00000e+00 3.29036e+00\n",
      " 3.82657e+00 4.36310e+01 1.25447e+00 4.61455e+00 0.00000e+00 7.98901e+00\n",
      " 1.39590e+00 0.00000e+00 0.00000e+00 0.00000e+00 0.00000e+00 0.00000e+00\n",
      " 0.00000e+00 3.70202e+00 0.00000e+00 0.00000e+00 6.30403e+00 0.00000e+00\n",
      " 0.00000e+00 0.00000e+00 1.25029e+00 0.00000e+00 0.00000e+00 0.00000e+00\n",
      " 4.90288e+00 3.85067e+00 0.00000e+00 0.00000e+00 0.00000e+00 2.46364e+01\n",
      " 0.00000e+00 1.58755e+00 0.00000e+00 1.08508e+01 0.00000e+00 0.00000e+00\n",
      " 1.16807e+00 0.00000e+00 8.62692e+00 0.00000e+00 0.00000e+00 7.68628e+00\n",
      " 1.71392e+01 0.00000e+00 3.88343e+00 0.00000e+00 4.15107e+00 7.69933e+00\n",
      " 0.00000e+00 0.00000e+00 0.00000e+00 0.00000e+00 1.05584e+01 7.43505e+00\n",
      " 7.24846e+01 3.24814e+01 8.61995e+00 1.77166e+00 1.34291e+01 1.48540e+01\n",
      " 6.13523e+00 9.02917e+00 1.74040e+01 0.00000e+00 1.06078e+01 5.88390e+00\n",
      " 0.00000e+00 1.18101e+01 2.19281e+01 7.98781e+00 1.52195e+01 1.67895e+01\n",
      " 0.00000e+00 0.00000e+00 4.55736e+00 1.32307e+01 0.00000e+00 0.00000e+00\n",
      " 2.64178e+01 0.00000e+00 1.59698e+01 1.17099e+01 2.28519e+00 2.10857e+01\n",
      " 2.62536e-02 0.00000e+00 9.47207e+00 6.07195e+00 6.73014e+00 0.00000e+00\n",
      " 0.00000e+00 0.00000e+00 1.29566e+01 2.28697e+01 0.00000e+00 0.00000e+00\n",
      " 0.00000e+00 0.00000e+00 0.00000e+00 0.00000e+00 0.00000e+00 0.00000e+00\n",
      " 5.66038e+00 0.00000e+00 2.30546e+01 0.00000e+00 4.64988e-01 1.08795e+01\n",
      " 0.00000e+00 3.04106e+01 0.00000e+00 8.13736e+00 0.00000e+00 6.81734e+00\n",
      " 0.00000e+00 0.00000e+00 5.95907e+00 2.86112e+00 5.66808e+00 0.00000e+00\n",
      " 0.00000e+00 1.37288e+01 6.47790e+00 0.00000e+00 0.00000e+00 0.00000e+00\n",
      " 1.53522e+01 1.30335e+01 0.00000e+00 0.00000e+00 4.24515e+01 0.00000e+00\n",
      " 1.10996e+00 0.00000e+00 2.10807e+01 1.31966e+00 0.00000e+00 0.00000e+00\n",
      " 0.00000e+00 2.33873e+00 4.47481e+00 0.00000e+00 0.00000e+00 0.00000e+00\n",
      " 3.39755e+00 0.00000e+00 8.93104e+00 1.72113e+00 0.00000e+00 0.00000e+00\n",
      " 2.48223e+01 0.00000e+00 1.88525e+01 0.00000e+00 0.00000e+00 0.00000e+00\n",
      " 2.28924e+00 1.59897e+01 2.31389e+00 0.00000e+00 4.50729e+01 0.00000e+00\n",
      " 0.00000e+00 0.00000e+00 1.13087e+01 0.00000e+00 0.00000e+00 0.00000e+00\n",
      " 0.00000e+00 0.00000e+00 4.04638e+00 3.61990e+01 1.96935e+01 0.00000e+00\n",
      " 0.00000e+00 8.68937e+00 0.00000e+00 5.12024e-01 0.00000e+00 0.00000e+00\n",
      " 0.00000e+00 7.35431e+00 0.00000e+00 0.00000e+00 0.00000e+00 2.47415e+01\n",
      " 7.13413e+00 7.23525e+00 0.00000e+00 0.00000e+00 6.45111e+00 0.00000e+00\n",
      " 8.06723e+00 5.49344e+00 0.00000e+00 2.00903e+01 0.00000e+00 1.10305e+01\n",
      " 7.32744e+01 1.79593e+01 0.00000e+00 0.00000e+00 5.08386e-01 0.00000e+00\n",
      " 0.00000e+00 2.04334e+01 0.00000e+00 0.00000e+00 7.65349e+00 1.08849e+01\n",
      " 8.47976e-01 1.65596e+00 0.00000e+00 0.00000e+00 0.00000e+00 1.40592e+00\n",
      " 1.14239e+01 1.88685e+01 0.00000e+00 3.29609e+01 0.00000e+00 0.00000e+00\n",
      " 8.03093e+00 1.22122e+01 0.00000e+00 2.57200e-01 1.17396e+01 0.00000e+00\n",
      " 6.79559e+00 0.00000e+00 3.71251e+01 4.74049e+00 0.00000e+00 9.83817e+00\n",
      " 0.00000e+00 0.00000e+00 1.09526e+01 1.66358e+01 8.30785e+00 0.00000e+00\n",
      " 2.30213e+01 0.00000e+00 0.00000e+00 0.00000e+00 3.19288e+00 1.43000e+00\n",
      " 1.41630e+00 0.00000e+00 0.00000e+00 0.00000e+00 4.82580e+00 0.00000e+00\n",
      " 1.37068e+01 4.55977e+00 7.79124e+00 2.20535e+00 0.00000e+00 7.19357e-01\n",
      " 0.00000e+00 7.24282e+00 2.17584e+00 0.00000e+00 0.00000e+00 0.00000e+00\n",
      " 0.00000e+00 1.49578e+01 0.00000e+00 0.00000e+00 2.07272e+00 2.10763e+01\n",
      " 0.00000e+00 1.53895e+00 0.00000e+00 4.39635e+00 0.00000e+00 0.00000e+00\n",
      " 0.00000e+00 0.00000e+00 4.43841e+00 0.00000e+00 1.01173e+01 8.30749e+00\n",
      " 0.00000e+00 9.32645e+00 1.72529e-01 1.45575e+01 0.00000e+00 0.00000e+00\n",
      " 1.97649e+01 0.00000e+00 0.00000e+00 1.65161e+01 6.74907e+00 1.85645e+00\n",
      " 0.00000e+00 0.00000e+00 0.00000e+00 1.67779e+00 4.97416e+00 2.04246e+01\n",
      " 1.37247e+00 1.96915e+01 1.23470e+01 0.00000e+00 0.00000e+00 3.14100e+01\n",
      " 6.10989e-01 0.00000e+00 0.00000e+00 2.39342e+00 0.00000e+00 3.42342e+00\n",
      " 8.38270e+00 0.00000e+00 1.99421e+01 3.43304e+00 1.50104e+01 0.00000e+00\n",
      " 4.38339e+00 2.46477e+01 0.00000e+00 0.00000e+00 6.97368e+00 3.56680e+00\n",
      " 1.99061e+01 0.00000e+00 0.00000e+00 0.00000e+00 1.59766e+01 0.00000e+00\n",
      " 5.35489e+00 0.00000e+00 0.00000e+00 0.00000e+00 3.97346e+00 0.00000e+00\n",
      " 3.11425e+00 1.96694e+01 3.27079e+01 6.76604e+00 1.12767e+01 0.00000e+00\n",
      " 0.00000e+00 0.00000e+00 1.43808e+01 0.00000e+00 0.00000e+00 0.00000e+00\n",
      " 3.06594e+00 9.44639e+00 3.80322e+00 7.22349e+00 1.41505e+01 4.95596e+00\n",
      " 0.00000e+00 0.00000e+00 1.43883e+00 8.41686e-01 1.41958e+01 1.37950e+01\n",
      " 9.20433e-02 0.00000e+00 1.17470e+01 0.00000e+00 9.72309e-01 0.00000e+00\n",
      " 0.00000e+00 0.00000e+00 9.96677e+00 4.11863e+00 0.00000e+00 0.00000e+00\n",
      " 2.48872e+00 0.00000e+00 2.07180e+00 0.00000e+00 1.03310e+01 0.00000e+00\n",
      " 2.03323e+00 0.00000e+00 0.00000e+00 0.00000e+00 0.00000e+00 0.00000e+00\n",
      " 0.00000e+00 0.00000e+00 0.00000e+00 2.27656e+01 6.54469e+00 7.78395e+00\n",
      " 1.10672e+01 1.99035e+01 1.53890e+01 1.70241e+01 8.15076e+00 0.00000e+00\n",
      " 2.17541e+01 2.69064e+00 6.13262e+00 0.00000e+00 1.51873e+01 2.22556e+01\n",
      " 0.00000e+00 6.86693e+00 0.00000e+00 0.00000e+00 0.00000e+00 6.99733e+00\n",
      " 0.00000e+00 0.00000e+00 0.00000e+00 3.63516e+00 0.00000e+00 2.87836e+00\n",
      " 0.00000e+00 4.55107e+00 7.51759e+00 0.00000e+00 0.00000e+00 0.00000e+00\n",
      " 1.15322e+01 1.87728e+01 0.00000e+00 0.00000e+00 0.00000e+00 0.00000e+00\n",
      " 3.14490e+00 1.91629e+00 7.43238e+00 2.12610e+01 9.72525e+00 0.00000e+00\n",
      " 2.55132e+00 2.14015e+00 2.74947e+00 1.46791e+00 5.34299e+00 0.00000e+00\n",
      " 2.95098e+00 0.00000e+00 3.26556e+00 0.00000e+00 0.00000e+00 0.00000e+00\n",
      " 0.00000e+00 0.00000e+00 2.81406e+00 0.00000e+00 3.88962e+00 0.00000e+00\n",
      " 1.87002e+01 0.00000e+00 0.00000e+00 0.00000e+00 0.00000e+00 2.16845e+00\n",
      " 0.00000e+00 0.00000e+00 0.00000e+00 1.36287e+00 0.00000e+00 0.00000e+00\n",
      " 0.00000e+00 0.00000e+00 1.17138e+00 0.00000e+00 7.32621e+00 1.97890e+00\n",
      " 0.00000e+00 1.11896e+01 0.00000e+00 0.00000e+00 0.00000e+00 1.15663e+00\n",
      " 8.77961e+00 0.00000e+00 1.38216e+00 0.00000e+00 0.00000e+00 0.00000e+00\n",
      " 0.00000e+00 0.00000e+00 0.00000e+00 3.89876e+01 0.00000e+00 0.00000e+00\n",
      " 0.00000e+00 0.00000e+00 0.00000e+00 0.00000e+00 1.92139e+00 0.00000e+00\n",
      " 2.69101e+00 1.36627e+01 8.58703e-01 0.00000e+00 1.39520e+01 2.85358e+00\n",
      " 1.85270e+00 1.41213e+01 0.00000e+00 2.68404e+00 1.53593e+00 2.44317e-01\n",
      " 0.00000e+00 2.46284e+01 7.60946e+00 0.00000e+00 2.09893e+01 1.98600e+00\n",
      " 1.68105e+01 2.41248e+01 0.00000e+00 0.00000e+00 4.80712e+00 0.00000e+00\n",
      " 5.71209e+00 9.49785e-02 1.18882e+00 9.88967e+00 7.21213e+00 1.55095e+01\n",
      " 0.00000e+00 0.00000e+00 2.07293e+01 0.00000e+00 0.00000e+00 1.15230e-01\n",
      " 1.02234e+01 7.85449e+00 0.00000e+00 0.00000e+00 0.00000e+00 0.00000e+00\n",
      " 3.23854e+00 2.91409e+00 3.49494e+00 0.00000e+00 1.28794e+01 0.00000e+00\n",
      " 0.00000e+00 0.00000e+00 3.90103e+00 9.65526e+00 1.27372e+01 1.42647e+01\n",
      " 0.00000e+00 0.00000e+00 0.00000e+00 0.00000e+00 0.00000e+00 0.00000e+00\n",
      " 0.00000e+00 0.00000e+00 0.00000e+00 9.94194e+00 1.60256e+00 0.00000e+00\n",
      " 0.00000e+00 2.81373e+00 4.83941e+00 0.00000e+00 0.00000e+00 1.42340e+01\n",
      " 9.20949e+00 0.00000e+00 8.83434e+00 1.30710e+01 1.95187e+01 0.00000e+00\n",
      " 0.00000e+00 5.71363e+00 0.00000e+00 4.74688e+00 0.00000e+00 6.02328e+00\n",
      " 4.48534e+00 0.00000e+00 0.00000e+00 0.00000e+00 0.00000e+00 1.56660e+00\n",
      " 0.00000e+00 0.00000e+00 0.00000e+00 1.48550e+01 0.00000e+00 2.49448e+01\n",
      " 0.00000e+00 0.00000e+00 1.90916e+01 1.28053e+01 1.25034e+01 0.00000e+00\n",
      " 0.00000e+00 7.51201e+00 2.21605e+01 9.36354e+00 2.43365e+01 4.52659e+00\n",
      " 0.00000e+00 6.27086e+00 3.75082e+00 6.19428e+00 0.00000e+00 0.00000e+00\n",
      " 7.48399e+00 9.46544e+00 9.67915e+00 8.98035e+00 0.00000e+00 0.00000e+00\n",
      " 6.52736e+00 0.00000e+00 0.00000e+00 1.20265e-02 0.00000e+00 4.19476e+00\n",
      " 0.00000e+00 7.38262e-01 0.00000e+00 0.00000e+00 1.02162e+01 3.58074e+00\n",
      " 1.04110e+01 0.00000e+00 4.76406e+00 0.00000e+00 3.20266e+00 0.00000e+00\n",
      " 1.88155e+01 0.00000e+00 1.60452e+01 0.00000e+00 0.00000e+00 1.23644e+00\n",
      " 2.92327e+00 0.00000e+00 0.00000e+00 0.00000e+00 8.29329e+00 5.81990e+00\n",
      " 1.44162e+01 7.00975e+00 1.88067e+01 5.17821e+00 3.08048e+01 0.00000e+00\n",
      " 0.00000e+00 1.26038e+01 0.00000e+00 0.00000e+00 0.00000e+00 0.00000e+00\n",
      " 2.26908e+00 1.42310e-01 0.00000e+00 0.00000e+00 0.00000e+00 1.90998e+01\n",
      " 5.20239e-01 0.00000e+00 0.00000e+00 1.17467e+01 6.69442e+00 0.00000e+00\n",
      " 0.00000e+00 0.00000e+00 0.00000e+00 0.00000e+00 0.00000e+00 0.00000e+00\n",
      " 0.00000e+00 0.00000e+00 0.00000e+00 1.97171e+01 3.24838e+00 4.90866e+00\n",
      " 0.00000e+00 0.00000e+00 0.00000e+00 0.00000e+00 2.27903e+01 1.41268e+01\n",
      " 2.38673e-01 1.16776e+01 0.00000e+00 3.26723e+00 0.00000e+00 0.00000e+00\n",
      " 8.82093e+00 0.00000e+00 2.48416e+00 3.74356e+00 0.00000e+00 0.00000e+00\n",
      " 5.66110e+00 0.00000e+00 2.13026e+01 1.63257e+01 7.79713e+00 1.07616e+01\n",
      " 0.00000e+00 4.29045e+00 0.00000e+00 8.34999e+00 0.00000e+00 5.89079e+00\n",
      " 2.49043e+00 0.00000e+00 3.03821e+01 1.42573e+01 1.15515e+01 0.00000e+00\n",
      " 0.00000e+00 0.00000e+00 0.00000e+00 1.06896e+00 0.00000e+00 0.00000e+00\n",
      " 0.00000e+00 3.29009e+00 0.00000e+00 8.50112e+00 0.00000e+00 0.00000e+00\n",
      " 2.06224e+01 2.94479e+00 1.12273e+01 2.63996e+00 9.66157e+00 0.00000e+00\n",
      " 2.28751e-01 0.00000e+00 0.00000e+00 0.00000e+00 5.39829e+00 1.06725e-01\n",
      " 1.39622e+01 2.59646e+01 0.00000e+00 0.00000e+00 0.00000e+00 1.78965e+00\n",
      " 3.18033e+00 0.00000e+00 1.32623e+00 2.11914e+00 0.00000e+00 0.00000e+00\n",
      " 0.00000e+00 1.82447e+01 6.06235e+00 4.50809e+00 0.00000e+00 0.00000e+00\n",
      " 3.46077e+00 6.30871e+00 0.00000e+00 0.00000e+00 0.00000e+00 3.51305e+00\n",
      " 2.50469e+01 0.00000e+00 2.18776e+01 0.00000e+00 2.32672e+01 7.73794e+00\n",
      " 9.30160e+00 0.00000e+00 0.00000e+00 0.00000e+00 0.00000e+00 0.00000e+00\n",
      " 6.37076e+00 0.00000e+00 0.00000e+00 1.40519e+01 3.68202e+00 0.00000e+00\n",
      " 7.42740e+00 0.00000e+00 1.18169e+01 0.00000e+00 0.00000e+00 4.27593e+01\n",
      " 4.45133e+00 2.71362e+00 0.00000e+00 1.29771e+00 1.31419e+00 0.00000e+00\n",
      " 1.03345e+00 0.00000e+00 1.92876e+01 0.00000e+00 4.28574e+00 8.98437e+00\n",
      " 1.77482e+01 0.00000e+00 4.73382e+00 0.00000e+00 2.81342e+01 6.13113e+00\n",
      " 0.00000e+00 5.70130e+00 3.44471e+01 0.00000e+00 3.26270e+00 5.65229e+00\n",
      " 1.17071e+01 5.24025e+00 0.00000e+00 1.13401e+00 0.00000e+00 0.00000e+00\n",
      " 1.20379e-01 0.00000e+00 0.00000e+00 0.00000e+00 0.00000e+00 1.49421e+01\n",
      " 1.58328e+01 0.00000e+00 0.00000e+00 0.00000e+00 0.00000e+00 6.72101e+00\n",
      " 0.00000e+00 5.78909e+00 1.40570e+01 0.00000e+00 1.75996e+01 4.02062e+00\n",
      " 7.70102e+00 3.70518e+01 2.97740e+00 3.43112e+01 4.97323e-01 0.00000e+00\n",
      " 7.21320e+00 0.00000e+00 1.44334e+01 7.74428e+00 0.00000e+00 1.61120e+01\n",
      " 3.53097e+00 0.00000e+00 0.00000e+00 0.00000e+00 1.65372e+01 0.00000e+00\n",
      " 2.22886e+00 1.05043e+00 0.00000e+00 3.08959e+00 7.29849e+00 9.12285e+00\n",
      " 1.66273e+01 0.00000e+00 1.36760e+01 1.44748e+01 8.51813e+00 0.00000e+00\n",
      " 0.00000e+00 0.00000e+00 0.00000e+00 0.00000e+00 0.00000e+00 2.95496e+01\n",
      " 0.00000e+00 5.54510e+00 0.00000e+00 0.00000e+00 0.00000e+00 0.00000e+00\n",
      " 1.39666e+01 0.00000e+00 0.00000e+00 1.06623e+01 0.00000e+00 0.00000e+00\n",
      " 1.80101e-01 8.14737e+00 9.21786e+00 9.97066e-01 0.00000e+00 1.17913e+01\n",
      " 7.05959e+00 5.92714e+00 1.43727e+01 0.00000e+00 0.00000e+00 0.00000e+00\n",
      " 1.12127e+01 5.48528e+00 0.00000e+00 0.00000e+00 0.00000e+00 0.00000e+00\n",
      " 2.44176e+01 0.00000e+00 3.55875e+00 2.00257e+01 0.00000e+00 0.00000e+00\n",
      " 8.62701e+00 0.00000e+00 0.00000e+00 1.40973e+01 0.00000e+00 0.00000e+00\n",
      " 3.68967e+00 2.17993e+01 1.24320e+01 0.00000e+00 1.76195e+00 0.00000e+00\n",
      " 0.00000e+00 0.00000e+00 1.03907e+01 0.00000e+00 9.21425e+00 0.00000e+00\n",
      " 2.37212e+01 0.00000e+00 0.00000e+00 5.97832e+00 7.29741e+00 2.81830e+00\n",
      " 0.00000e+00 7.99356e+00 1.39236e+01 1.09811e+00 2.37058e+00 1.84703e+01\n",
      " 1.28108e+01 0.00000e+00 1.45320e+01 2.29503e+00 0.00000e+00 1.05857e+01\n",
      " 9.53539e+00 0.00000e+00 0.00000e+00 0.00000e+00 4.08314e+00 4.72856e+00\n",
      " 0.00000e+00 1.37798e+01 0.00000e+00 1.77495e+01]\n"
     ]
    }
   ],
   "source": [
    "print(model_1_samp.stan_variable(\"sigma\"))"
   ]
  },
  {
   "cell_type": "code",
   "execution_count": 16,
   "metadata": {
    "metadata": {}
   },
   "outputs": [
    {
     "name": "stdout",
     "output_type": "stream",
     "text": [
      "[84.67629946 75.44047393 82.4808319  78.19701675 76.52544145 81.18733844\n",
      " 89.19851065 84.9605445  72.93664893 76.68656126 75.4213327  77.22838706\n",
      " 75.2609406  82.31036649 78.49782223 83.95593349 82.61155829 81.44848047\n",
      " 88.54406849 77.8450691  81.3826966  86.08345524 77.77024063 78.19261049\n",
      " 77.90266923 84.84924631 78.38833379 77.83338831 73.31990996 82.26403278\n",
      " 81.12528112 79.24343175 83.19504814 81.17910425 77.88394736 76.78728228\n",
      " 77.10545109 81.10538213 74.45040276 75.20109409 78.98359664 87.06742689\n",
      " 73.60154429 85.51506639 74.23490497 86.57423729 72.25363462 82.07749467\n",
      " 81.31364842 77.93055678 79.03905287 85.41872378 76.95693731 76.83998614\n",
      " 78.74367501 72.31084636 77.42000321 73.48880463 71.53313175 81.99787481\n",
      " 82.01882598 82.35308455 78.38953653 78.69935585 78.95254961 78.37582491\n",
      " 77.05993116 75.22739249 75.0971152  74.7331407  75.01717026 84.18576061\n",
      " 85.62695108 81.41701654 75.99819663 74.66762667 82.61102531 72.60073661\n",
      " 77.46490951 73.75427501 74.23292752 77.61236518 81.72515423 86.03239499\n",
      " 75.33981334 77.81189086 73.30201984 81.66455099 88.63138543 85.02463412\n",
      " 88.2558508  75.49670944 79.76607051 85.75974897 86.35104513 76.43821215\n",
      " 74.14406011 79.3082687  80.58319765]\n"
     ]
    }
   ],
   "source": [
    "print(yields_pred_prior_means)"
   ]
  },
  {
   "cell_type": "code",
   "execution_count": 17,
   "metadata": {
    "metadata": {}
   },
   "outputs": [
    {
     "name": "stdout",
     "output_type": "stream",
     "text": [
      "                Mean   MCSE  StdDev    5%    50%    95%  N_Eff  N_Eff/s  R_hat\n",
      "name                                                                          \n",
      "lp__            0.00    NaN    0.00  0.00  0.000    0.0    NaN      NaN    NaN\n",
      "beta0          50.00  1.900   58.00  0.00  3.900  150.0  930.0   6000.0    1.0\n",
      "beta1           0.28  0.026    0.79 -0.82  0.000    1.9  930.0   6000.0    1.0\n",
      "sigma           5.00  0.290    8.30  0.00  0.095   21.0  830.0   5400.0    1.0\n",
      "kid_score[1]   85.00  4.200  127.00 -6.40  0.000  348.0  905.0   5876.0    1.0\n",
      "...              ...    ...     ...   ...    ...    ...    ...      ...    ...\n",
      "kid_score[95]  86.00  4.400  131.00 -6.60  0.000  354.0  904.0   5872.0    1.0\n",
      "kid_score[96]  76.00  3.500  107.00  0.00  0.000  289.0  913.0   5931.0    1.0\n",
      "kid_score[97]  74.00  3.500  102.00  0.00  0.000  280.0  849.0   5512.0    1.0\n",
      "kid_score[98]  79.00  3.800  112.00  0.00  0.000  307.0  887.0   5759.0    1.0\n",
      "kid_score[99]  81.00  3.900  117.00  0.00  0.000  318.0  894.0   5808.0    1.0\n",
      "\n",
      "[103 rows x 9 columns]\n"
     ]
    }
   ],
   "source": [
    "print(model_1_samp.summary())"
   ]
  },
  {
   "cell_type": "code",
   "execution_count": 18,
   "metadata": {
    "metadata": {}
   },
   "outputs": [
    {
     "data": {
      "image/png": "[encoded data removed]",
      "text/plain": [
       "<Figure size 1008x432 with 2 Axes>"
      ]
     },
     "metadata": {
      "needs_background": "light"
     },
     "output_type": "display_data"
    }
   ],
   "source": [
    "fig, axs = plt.subplots(1, 2, figsize=(14, 6))\n",
    "\n",
    "axs[0].hist(df.kid_score.values, bins=30, color='skyblue', edgecolor='black')\n",
    "axs[0].set_title('Distribution of Kid IQ')\n",
    "axs[0].set_xlabel('Kid IQ')\n",
    "axs[0].set_ylabel('Density')\n",
    "\n",
    "axs[1].hist(yields_pred_prior_means, bins=30, color='salmon', edgecolor='black')\n",
    "axs[1].set_title('Prior of KID IQ')\n",
    "axs[1].set_xlabel('kid_score')\n",
    "axs[1].set_ylabel('Density')\n",
    "\n",
    "plt.tight_layout()\n",
    "plt.show()"
   ]
  },
  {
   "cell_type": "code",
   "execution_count": 19,
   "metadata": {
    "metadata": {}
   },
   "outputs": [
    {
     "data": {
      "image/png": "[encoded data removed]",
      "text/plain": [
       "<Figure size 1008x432 with 1 Axes>"
      ]
     },
     "metadata": {
      "needs_background": "light"
     },
     "output_type": "display_data"
    }
   ],
   "source": [
    "plt.figure(figsize=(14,6))\n",
    "plt.bar(df.mom_iq.values,yields_pred_prior_means, label=\"predictions\")\n",
    "plt.bar(df.mom_iq.values,df.kid_score.values, label=\"data\", alpha =0.4)\n",
    "plt.title(\"Comparison\")\n",
    "plt.ylabel(\"kid iq\")\n",
    "plt.xlabel(\"mom iq\")\n",
    "plt.legend()\n",
    "plt.show()"
   ]
  },
  {
   "cell_type": "code",
   "execution_count": 20,
   "metadata": {
    "metadata": {}
   },
   "outputs": [
    {
     "name": "stdout",
     "output_type": "stream",
     "text": [
      "[ 65  98  85  83 115  98  69 106 102  95  91  58  84  78 102 110 102  99\n",
      " 105 101 102 115 100  87  99  96  72  78  77  98  69 130 109 106  92 100\n",
      " 107  86  90 110 107 113  65 102 103 111  42 100  67  92 100 110  56 107\n",
      "  97  56  95  78  76  86  79  81  79  79  56  52  63  80  87  88  92 100\n",
      "  94 117 102 107  99  73  56  78  94 110 109  86  92  91 123 102 105 114\n",
      "  96  66 104 108  84  83  83  92 109]\n"
     ]
    }
   ],
   "source": [
    "print(df[\"kid_score\"].values)"
   ]
  },
  {
   "cell_type": "code",
   "execution_count": 21,
   "metadata": {
    "metadata": {}
   },
   "outputs": [
    {
     "name": "stderr",
     "output_type": "stream",
     "text": [
      "INFO:cmdstanpy:found newer exe file, not recompiling\n",
      "INFO:cmdstanpy:CmdStan start processing\n",
      "chain 1 |\u001b[34m██████████\u001b[0m| 00:00 Sampling completed                     "
     ]
    },
    {
     "name": "stdout",
     "output_type": "stream",
     "text": [
      "                                                                                "
     ]
    },
    {
     "name": "stderr",
     "output_type": "stream",
     "text": [
      "\n",
      "INFO:cmdstanpy:CmdStan done processing.\n"
     ]
    },
    {
     "name": "stdout",
     "output_type": "stream",
     "text": [
      "\n"
     ]
    }
   ],
   "source": [
    "R = 1\n",
    "model=CmdStanModel(stan_file='model1.stan')\n",
    "\n",
    "model_1_fit = model.sample(data = {'N': df.shape[0], 'mom_iq': df[\"mom_iq\"].values, 'kid_score': df[\"kid_score\"].values},\n",
    "                     iter_sampling=R,\n",
    "                     chains=1)"
   ]
  },
  {
   "cell_type": "code",
   "execution_count": 22,
   "metadata": {
    "metadata": {}
   },
   "outputs": [
    {
     "name": "stdout",
     "output_type": "stream",
     "text": [
      "[[ 95.7859  75.3485  59.5917 101.587   85.5335 109.262   91.574   76.5641\n",
      "   93.6014  88.9822  93.6314 101.934  104.17   105.689   77.9139  92.2008\n",
      "   73.552  114.86   124.249   96.6149  90.9777  70.7615 103.28    77.8569\n",
      "   70.5858  61.7752  89.8583  91.7425  98.355   75.3621 110.962  103.769\n",
      "   82.4323  76.3382  81.8225 109.482   49.8804  86.1091  77.2225  80.99\n",
      "   92.7768 103.923   75.31   126.27    77.1999  93.4716  51.6715  98.4831\n",
      "  116.801  116.978  125.357  118.508  100.103  105.462   36.8624 105.47\n",
      "   86.9054 111.815   89.4565  74.7805  96.6836  97.4816 112.709  104.529\n",
      "   96.0771  98.5794  95.0525  96.9861  83.3674 105.179   97.9934  89.7355\n",
      "  113.918  107.394   67.4363  92.0913 121.506   68.4487 121.32    66.0469\n",
      "   86.2998  77.3078 102.103  103.845  101.911   56.4345  89.7811  91.0396\n",
      "  131.136  121.368   89.0265 113.475  133.851  107.584   94.8248 118.102\n",
      "   88.2406  44.095   70.7735]]\n"
     ]
    }
   ],
   "source": [
    "yields_pred = model_1_fit.stan_variable(\"kid_score_pred\")\n",
    "# yields_pred_means = np.mean(yields_pred, axis=0)\n",
    "yields_pred_means = yields_pred\n",
    "print(yields_pred_means)"
   ]
  },
  {
   "cell_type": "code",
   "execution_count": 23,
   "metadata": {
    "metadata": {}
   },
   "outputs": [
    {
     "name": "stdout",
     "output_type": "stream",
     "text": [
      "[62.7363]\n"
     ]
    }
   ],
   "source": [
    "print(model_1_fit.stan_variable(\"beta0\"))"
   ]
  },
  {
   "cell_type": "code",
   "execution_count": 24,
   "metadata": {
    "metadata": {}
   },
   "outputs": [
    {
     "name": "stdout",
     "output_type": "stream",
     "text": [
      "[0.31078]\n"
     ]
    }
   ],
   "source": [
    "print(model_1_fit.stan_variable(\"beta1\"))"
   ]
  },
  {
   "cell_type": "code",
   "execution_count": 25,
   "metadata": {
    "metadata": {}
   },
   "outputs": [
    {
     "name": "stdout",
     "output_type": "stream",
     "text": [
      "[17.9618]\n"
     ]
    }
   ],
   "source": [
    "print(model_1_fit.stan_variable(\"sigma\"))"
   ]
  },
  {
   "cell_type": "code",
   "execution_count": 26,
   "metadata": {
    "metadata": {}
   },
   "outputs": [
    {
     "data": {
      "image/png": "[encoded data removed]",
      "text/plain": [
       "<Figure size 1008x432 with 2 Axes>"
      ]
     },
     "metadata": {
      "needs_background": "light"
     },
     "output_type": "display_data"
    }
   ],
   "source": [
    "fig, axs = plt.subplots(1, 2, figsize=(14, 6))\n",
    "\n",
    "axs[0].hist(df.kid_score.values, bins=30, color='skyblue', edgecolor='black')\n",
    "axs[0].set_title('Distribution of Kid IQ')\n",
    "axs[0].set_xlabel('Kid IQ')\n",
    "axs[0].set_ylabel('Density')\n",
    "axs[0].set_xlim(40,140)\n",
    "\n",
    "axs[1].hist(yields_pred_means[0].T, bins=30, color='salmon', edgecolor='black')\n",
    "axs[1].set_title('Prior of KID IQ')\n",
    "axs[1].set_xlabel('kid_score')\n",
    "axs[1].set_ylabel('Density')\n",
    "axs[1].set_xlim(40,140)\n",
    "plt.tight_layout()\n",
    "plt.show()"
   ]
  },
  {
   "cell_type": "code",
   "execution_count": 27,
   "metadata": {
    "metadata": {}
   },
   "outputs": [
    {
     "data": {
      "image/png": "[encoded data removed]",
      "text/plain": [
       "<Figure size 1008x432 with 1 Axes>"
      ]
     },
     "metadata": {
      "needs_background": "light"
     },
     "output_type": "display_data"
    }
   ],
   "source": [
    "plt.figure(figsize=(14,6))\n",
    "plt.bar(df.mom_iq.values,yields_pred_means[0].T, label=\"predictions\")\n",
    "plt.bar(df.mom_iq.values,df.kid_score.values, label=\"data\", alpha =0.4)\n",
    "plt.title(\"Comparison\")\n",
    "plt.ylabel(\"kid iq\")\n",
    "plt.xlabel(\"mom iq\")\n",
    "plt.legend()\n",
    "plt.show()"
   ]
  },
  {
   "cell_type": "markdown",
   "metadata": {},
   "source": [
    "Model 2"
   ]
  },
  {
   "cell_type": "code",
   "execution_count": 28,
   "metadata": {
    "metadata": {}
   },
   "outputs": [
    {
     "name": "stderr",
     "output_type": "stream",
     "text": [
      "INFO:cmdstanpy:compiling stan file /home/kidiq/prior2.stan to exe file /home/kidiq/prior2\n",
      "INFO:cmdstanpy:compiled model executable: /home/kidiq/prior2\n",
      "INFO:cmdstanpy:CmdStan start processing\n",
      "chain 1 |\u001b[34m██████████\u001b[0m| 00:00 Sampling completed                      "
     ]
    },
    {
     "name": "stdout",
     "output_type": "stream",
     "text": [
      "                                                                                "
     ]
    },
    {
     "name": "stderr",
     "output_type": "stream",
     "text": [
      "\n",
      "INFO:cmdstanpy:CmdStan done processing.\n"
     ]
    },
    {
     "name": "stdout",
     "output_type": "stream",
     "text": [
      "\n"
     ]
    }
   ],
   "source": [
    "R = 1000\n",
    "model_2=CmdStanModel(stan_file='prior2.stan')\n",
    "\n",
    "model_2_samp = model_2.sample(data = {'N': df.shape[0], 'mom_iq': df[\"mom_iq\"].values, 'mom_hs': df[\"mom_hs\"].values},\n",
    "                     iter_sampling=R,\n",
    "                     iter_warmup=1,\n",
    "                     chains=1,\n",
    "                     fixed_param=True,\n",
    "                     seed=1204)"
   ]
  },
  {
   "cell_type": "code",
   "execution_count": 29,
   "metadata": {
    "metadata": {}
   },
   "outputs": [],
   "source": [
    "yields_pred_prior = model_2_samp.stan_variable(\"kid_score\")\n",
    "yields_pred_prior_means = np.mean(yields_pred_prior, axis=0)"
   ]
  },
  {
   "cell_type": "code",
   "execution_count": 30,
   "metadata": {
    "metadata": {}
   },
   "outputs": [
    {
     "data": {
      "image/png": "[encoded data removed]",
      "text/plain": [
       "<Figure size 1008x432 with 2 Axes>"
      ]
     },
     "metadata": {
      "needs_background": "light"
     },
     "output_type": "display_data"
    }
   ],
   "source": [
    "fig, axs = plt.subplots(1, 2, figsize=(14, 6))\n",
    "\n",
    "axs[0].hist(df.kid_score.values, bins=30, color='skyblue', edgecolor='black')\n",
    "axs[0].set_title('Distribution of Kid IQ')\n",
    "axs[0].set_xlabel('Kid IQ')\n",
    "axs[0].set_ylabel('Density')\n",
    "\n",
    "axs[1].hist(yields_pred_prior_means, bins=30, color='salmon', edgecolor='black')\n",
    "axs[1].set_title('Prior of KID IQ')\n",
    "axs[1].set_xlabel('kid_score')\n",
    "axs[1].set_ylabel('Density')\n",
    "\n",
    "plt.tight_layout()\n",
    "plt.show()"
   ]
  },
  {
   "cell_type": "code",
   "execution_count": 31,
   "metadata": {
    "metadata": {}
   },
   "outputs": [
    {
     "data": {
      "image/png": "[encoded data removed]",
      "text/plain": [
       "<Figure size 1008x432 with 1 Axes>"
      ]
     },
     "metadata": {
      "needs_background": "light"
     },
     "output_type": "display_data"
    }
   ],
   "source": [
    "plt.figure(figsize=(14,6))\n",
    "plt.bar(df.mom_iq.values,yields_pred_prior_means, label=\"predictions\")\n",
    "plt.bar(df.mom_iq.values,df.kid_score.values, label=\"data\", alpha =0.4)\n",
    "plt.title(\"Comparison\")\n",
    "plt.ylabel(\"kid iq\")\n",
    "plt.xlabel(\"mom iq\")\n",
    "plt.legend()\n",
    "plt.show()"
   ]
  },
  {
   "cell_type": "code",
   "execution_count": 32,
   "metadata": {
    "metadata": {}
   },
   "outputs": [
    {
     "name": "stderr",
     "output_type": "stream",
     "text": [
      "INFO:cmdstanpy:compiling stan file /home/kidiq/model2.stan to exe file /home/kidiq/model2\n",
      "INFO:cmdstanpy:compiled model executable: /home/kidiq/model2\n",
      "INFO:cmdstanpy:CmdStan start processing\n",
      "chain 1 |\u001b[34m██████████\u001b[0m| 00:00 Sampling completed                     "
     ]
    },
    {
     "name": "stdout",
     "output_type": "stream",
     "text": [
      "                                                                                "
     ]
    },
    {
     "name": "stderr",
     "output_type": "stream",
     "text": [
      "\n",
      "INFO:cmdstanpy:CmdStan done processing.\n"
     ]
    },
    {
     "name": "stdout",
     "output_type": "stream",
     "text": [
      "\n"
     ]
    }
   ],
   "source": [
    "R = 1\n",
    "model=CmdStanModel(stan_file='model2.stan')\n",
    "\n",
    "model_2_fit = model.sample(data = {'N': df.shape[0], 'mom_iq': df[\"mom_iq\"].values, 'kid_score': df[\"kid_score\"].values, 'mom_hs': df[\"mom_hs\"].values},\n",
    "                     iter_sampling=R,\n",
    "                     chains=1)"
   ]
  },
  {
   "cell_type": "code",
   "execution_count": 33,
   "metadata": {
    "metadata": {}
   },
   "outputs": [],
   "source": [
    "yields_pred = model_2_fit.stan_variable(\"kid_score_pred\")\n",
    "# yields_pred_means = np.mean(yields_pred, axis=0)\n",
    "yields_pred_means = yields_pred"
   ]
  },
  {
   "cell_type": "code",
   "execution_count": 34,
   "metadata": {
    "metadata": {}
   },
   "outputs": [
    {
     "data": {
      "image/png": "[encoded data removed]",
      "text/plain": [
       "<Figure size 1008x432 with 2 Axes>"
      ]
     },
     "metadata": {
      "needs_background": "light"
     },
     "output_type": "display_data"
    }
   ],
   "source": [
    "fig, axs = plt.subplots(1, 2, figsize=(14, 6))\n",
    "\n",
    "axs[0].hist(df.kid_score.values, bins=30, color='skyblue', edgecolor='black')\n",
    "axs[0].set_title('Distribution of Kid IQ')\n",
    "axs[0].set_xlabel('Kid IQ')\n",
    "axs[0].set_ylabel('Density')\n",
    "axs[0].set_xlim(40,140)\n",
    "\n",
    "axs[1].hist(yields_pred_means[0].T, bins=30, color='salmon', edgecolor='black')\n",
    "axs[1].set_title('Prior of KID IQ')\n",
    "axs[1].set_xlabel('kid_score')\n",
    "axs[1].set_ylabel('Density')\n",
    "axs[1].set_xlim(40,140)\n",
    "plt.tight_layout()\n",
    "plt.show()"
   ]
  },
  {
   "cell_type": "code",
   "execution_count": 35,
   "metadata": {
    "metadata": {}
   },
   "outputs": [
    {
     "data": {
      "image/png": "[encoded data removed]",
      "text/plain": [
       "<Figure size 1008x432 with 1 Axes>"
      ]
     },
     "metadata": {
      "needs_background": "light"
     },
     "output_type": "display_data"
    }
   ],
   "source": [
    "plt.figure(figsize=(14,6))\n",
    "plt.bar(df.mom_iq.values,yields_pred_means[0].T, label=\"predictions\")\n",
    "plt.bar(df.mom_iq.values,df.kid_score.values, label=\"data\", alpha =0.4)\n",
    "plt.title(\"Comparison\")\n",
    "plt.ylabel(\"kid iq\")\n",
    "plt.xlabel(\"mom iq\")\n",
    "plt.legend()\n",
    "plt.show()"
   ]
  }
 ],
 "metadata": {
  "kernelspec": {
   "display_name": "Python 3",
   "language": "python",
   "name": "python3"
  },
  "language_info": {
   "codemirror_mode": {
    "name": "ipython",
    "version": 3
   },
   "file_extension": ".py",
   "mimetype": "text/x-python",
   "name": "python",
   "nbconvert_exporter": "python",
   "pygments_lexer": "ipython3",
   "version": "3.9.11"
  }
 },
 "nbformat": 4,
 "nbformat_minor": 2
}
