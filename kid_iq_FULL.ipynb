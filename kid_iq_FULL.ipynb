{
 "cells": [
  {
   "cell_type": "code",
   "execution_count": 1,
   "metadata": {},
   "outputs": [],
   "source": [
    "import pandas as pd\n",
    "import matplotlib.pyplot as plt\n",
    "import numpy as np"
   ]
  },
  {
   "cell_type": "code",
   "execution_count": 2,
   "metadata": {},
   "outputs": [],
   "source": [
    "df = pd.read_csv(\"kidiq.csv\", sep=\";\")"
   ]
  },
  {
   "cell_type": "markdown",
   "metadata": {},
   "source": [
    "kid_score Child's IQ score\n",
    "        mom_hs Indicator for whether the mother has a high school degree\n",
    "        mom_iq Mother's IQ score\n",
    "        mom_work 1 = did not work in first three years of child's life\n",
    "                 2 = worked in 2nd or 3rd year of child's life\n",
    "                 3 = worked part-time in first year of child's life\n",
    "                 4 = worked full-time in first year of child's life\n",
    "        mom_age Mother's age\n"
   ]
  },
  {
   "cell_type": "code",
   "execution_count": 3,
   "metadata": {},
   "outputs": [
    {
     "data": {
      "text/html": [
       "<div>\n",
       "<style scoped>\n",
       "    .dataframe tbody tr th:only-of-type {\n",
       "        vertical-align: middle;\n",
       "    }\n",
       "\n",
       "    .dataframe tbody tr th {\n",
       "        vertical-align: top;\n",
       "    }\n",
       "\n",
       "    .dataframe thead th {\n",
       "        text-align: right;\n",
       "    }\n",
       "</style>\n",
       "<table border=\"1\" class=\"dataframe\">\n",
       "  <thead>\n",
       "    <tr style=\"text-align: right;\">\n",
       "      <th></th>\n",
       "      <th>kid_score</th>\n",
       "      <th>mom_hs</th>\n",
       "      <th>mom_iq</th>\n",
       "      <th>mom_work</th>\n",
       "      <th>mom_age</th>\n",
       "    </tr>\n",
       "  </thead>\n",
       "  <tbody>\n",
       "    <tr>\n",
       "      <th>0</th>\n",
       "      <td>65</td>\n",
       "      <td>1</td>\n",
       "      <td>121.117529</td>\n",
       "      <td>4</td>\n",
       "      <td>27</td>\n",
       "    </tr>\n",
       "    <tr>\n",
       "      <th>1</th>\n",
       "      <td>98</td>\n",
       "      <td>1</td>\n",
       "      <td>89.361882</td>\n",
       "      <td>4</td>\n",
       "      <td>25</td>\n",
       "    </tr>\n",
       "    <tr>\n",
       "      <th>2</th>\n",
       "      <td>85</td>\n",
       "      <td>1</td>\n",
       "      <td>115.443165</td>\n",
       "      <td>4</td>\n",
       "      <td>27</td>\n",
       "    </tr>\n",
       "    <tr>\n",
       "      <th>3</th>\n",
       "      <td>83</td>\n",
       "      <td>1</td>\n",
       "      <td>99.449639</td>\n",
       "      <td>3</td>\n",
       "      <td>25</td>\n",
       "    </tr>\n",
       "    <tr>\n",
       "      <th>4</th>\n",
       "      <td>115</td>\n",
       "      <td>1</td>\n",
       "      <td>92.745710</td>\n",
       "      <td>4</td>\n",
       "      <td>27</td>\n",
       "    </tr>\n",
       "    <tr>\n",
       "      <th>...</th>\n",
       "      <td>...</td>\n",
       "      <td>...</td>\n",
       "      <td>...</td>\n",
       "      <td>...</td>\n",
       "      <td>...</td>\n",
       "    </tr>\n",
       "    <tr>\n",
       "      <th>429</th>\n",
       "      <td>94</td>\n",
       "      <td>0</td>\n",
       "      <td>84.877412</td>\n",
       "      <td>4</td>\n",
       "      <td>21</td>\n",
       "    </tr>\n",
       "    <tr>\n",
       "      <th>430</th>\n",
       "      <td>76</td>\n",
       "      <td>1</td>\n",
       "      <td>92.990392</td>\n",
       "      <td>4</td>\n",
       "      <td>23</td>\n",
       "    </tr>\n",
       "    <tr>\n",
       "      <th>431</th>\n",
       "      <td>50</td>\n",
       "      <td>0</td>\n",
       "      <td>94.859708</td>\n",
       "      <td>2</td>\n",
       "      <td>24</td>\n",
       "    </tr>\n",
       "    <tr>\n",
       "      <th>432</th>\n",
       "      <td>88</td>\n",
       "      <td>1</td>\n",
       "      <td>96.856624</td>\n",
       "      <td>2</td>\n",
       "      <td>21</td>\n",
       "    </tr>\n",
       "    <tr>\n",
       "      <th>433</th>\n",
       "      <td>70</td>\n",
       "      <td>1</td>\n",
       "      <td>91.253336</td>\n",
       "      <td>2</td>\n",
       "      <td>25</td>\n",
       "    </tr>\n",
       "  </tbody>\n",
       "</table>\n",
       "<p>434 rows × 5 columns</p>\n",
       "</div>"
      ],
      "text/plain": [
       "     kid_score  mom_hs      mom_iq  mom_work  mom_age\n",
       "0           65       1  121.117529         4       27\n",
       "1           98       1   89.361882         4       25\n",
       "2           85       1  115.443165         4       27\n",
       "3           83       1   99.449639         3       25\n",
       "4          115       1   92.745710         4       27\n",
       "..         ...     ...         ...       ...      ...\n",
       "429         94       0   84.877412         4       21\n",
       "430         76       1   92.990392         4       23\n",
       "431         50       0   94.859708         2       24\n",
       "432         88       1   96.856624         2       21\n",
       "433         70       1   91.253336         2       25\n",
       "\n",
       "[434 rows x 5 columns]"
      ]
     },
     "execution_count": 3,
     "metadata": {},
     "output_type": "execute_result"
    }
   ],
   "source": [
    "df"
   ]
  },
  {
   "cell_type": "code",
   "execution_count": 4,
   "metadata": {},
   "outputs": [],
   "source": [
    "# import plotly.express as px\n",
    "\n",
    "\n",
    "# fig = px.scatter(df, x=\"kid_score\", y=\"mom_iq\")\n",
    "# fig.show()"
   ]
  },
  {
   "cell_type": "code",
   "execution_count": 5,
   "metadata": {},
   "outputs": [
    {
     "data": {
      "text/html": [
       "<div>\n",
       "<style scoped>\n",
       "    .dataframe tbody tr th:only-of-type {\n",
       "        vertical-align: middle;\n",
       "    }\n",
       "\n",
       "    .dataframe tbody tr th {\n",
       "        vertical-align: top;\n",
       "    }\n",
       "\n",
       "    .dataframe thead th {\n",
       "        text-align: right;\n",
       "    }\n",
       "</style>\n",
       "<table border=\"1\" class=\"dataframe\">\n",
       "  <thead>\n",
       "    <tr style=\"text-align: right;\">\n",
       "      <th></th>\n",
       "      <th>kid_score</th>\n",
       "      <th>mom_hs</th>\n",
       "      <th>mom_iq</th>\n",
       "      <th>mom_work</th>\n",
       "      <th>mom_age</th>\n",
       "    </tr>\n",
       "  </thead>\n",
       "  <tbody>\n",
       "    <tr>\n",
       "      <th>kid_score</th>\n",
       "      <td>1.000000</td>\n",
       "      <td>0.236916</td>\n",
       "      <td>0.448276</td>\n",
       "      <td>0.087528</td>\n",
       "      <td>0.091998</td>\n",
       "    </tr>\n",
       "    <tr>\n",
       "      <th>mom_hs</th>\n",
       "      <td>0.236916</td>\n",
       "      <td>1.000000</td>\n",
       "      <td>0.282709</td>\n",
       "      <td>0.253910</td>\n",
       "      <td>0.214528</td>\n",
       "    </tr>\n",
       "    <tr>\n",
       "      <th>mom_iq</th>\n",
       "      <td>0.448276</td>\n",
       "      <td>0.282709</td>\n",
       "      <td>1.000000</td>\n",
       "      <td>0.114803</td>\n",
       "      <td>0.091608</td>\n",
       "    </tr>\n",
       "    <tr>\n",
       "      <th>mom_work</th>\n",
       "      <td>0.087528</td>\n",
       "      <td>0.253910</td>\n",
       "      <td>0.114803</td>\n",
       "      <td>1.000000</td>\n",
       "      <td>0.135598</td>\n",
       "    </tr>\n",
       "    <tr>\n",
       "      <th>mom_age</th>\n",
       "      <td>0.091998</td>\n",
       "      <td>0.214528</td>\n",
       "      <td>0.091608</td>\n",
       "      <td>0.135598</td>\n",
       "      <td>1.000000</td>\n",
       "    </tr>\n",
       "  </tbody>\n",
       "</table>\n",
       "</div>"
      ],
      "text/plain": [
       "           kid_score    mom_hs    mom_iq  mom_work   mom_age\n",
       "kid_score   1.000000  0.236916  0.448276  0.087528  0.091998\n",
       "mom_hs      0.236916  1.000000  0.282709  0.253910  0.214528\n",
       "mom_iq      0.448276  0.282709  1.000000  0.114803  0.091608\n",
       "mom_work    0.087528  0.253910  0.114803  1.000000  0.135598\n",
       "mom_age     0.091998  0.214528  0.091608  0.135598  1.000000"
      ]
     },
     "execution_count": 5,
     "metadata": {},
     "output_type": "execute_result"
    }
   ],
   "source": [
    "df.corr()"
   ]
  },
  {
   "cell_type": "code",
   "execution_count": 6,
   "metadata": {},
   "outputs": [
    {
     "data": {
      "image/png": "[encoded data removed]",
      "text/plain": [
       "<Figure size 432x288 with 1 Axes>"
      ]
     },
     "metadata": {
      "needs_background": "light"
     },
     "output_type": "display_data"
    }
   ],
   "source": [
    "plt.scatter(df[\"mom_iq\"], df[\"kid_score\"])\n",
    "plt.ylabel(\"Kid IQ\")\n",
    "plt.xlabel(\"Mom IQ\")\n",
    "plt.show()"
   ]
  },
  {
   "cell_type": "code",
   "execution_count": 7,
   "metadata": {},
   "outputs": [
    {
     "data": {
      "image/png": "[encoded data removed]",
      "text/plain": [
       "<Figure size 432x288 with 1 Axes>"
      ]
     },
     "metadata": {
      "needs_background": "light"
     },
     "output_type": "display_data"
    }
   ],
   "source": [
    "plt.scatter( df[\"mom_hs\"], df[\"kid_score\"])\n",
    "plt.ylabel(\"Kid IQ\")\n",
    "plt.xlabel(\"Mom HS\")\n",
    "plt.show()"
   ]
  },
  {
   "cell_type": "code",
   "execution_count": 8,
   "metadata": {},
   "outputs": [
    {
     "data": {
      "image/png": "[encoded data removed]",
      "text/plain": [
       "<Figure size 432x288 with 1 Axes>"
      ]
     },
     "metadata": {
      "needs_background": "light"
     },
     "output_type": "display_data"
    }
   ],
   "source": [
    "plt.hist(df[\"kid_score\"], bins=30)\n",
    "plt.show()"
   ]
  },
  {
   "cell_type": "code",
   "execution_count": 9,
   "metadata": {},
   "outputs": [
    {
     "data": {
      "image/png": "[encoded data removed]",
      "text/plain": [
       "<Figure size 432x288 with 1 Axes>"
      ]
     },
     "metadata": {
      "needs_background": "light"
     },
     "output_type": "display_data"
    }
   ],
   "source": [
    "plt.hist(df[\"mom_iq\"]/100, bins=30)\n",
    "plt.show()"
   ]
  },
  {
   "cell_type": "code",
   "execution_count": 10,
   "metadata": {},
   "outputs": [
    {
     "data": {
      "image/png": "[encoded data removed]",
      "text/plain": [
       "<Figure size 432x288 with 1 Axes>"
      ]
     },
     "metadata": {
      "needs_background": "light"
     },
     "output_type": "display_data"
    }
   ],
   "source": [
    "plt.hist(df[\"mom_hs\"])\n",
    "plt.show()"
   ]
  },
  {
   "cell_type": "code",
   "execution_count": 193,
   "metadata": {},
   "outputs": [
    {
     "name": "stderr",
     "output_type": "stream",
     "text": [
      "INFO:cmdstanpy:compiling stan file /home/kidiq/prior1.stan to exe file /home/kidiq/prior1\n",
      "INFO:cmdstanpy:compiled model executable: /home/kidiq/prior1\n",
      "INFO:cmdstanpy:CmdStan start processing\n",
      "chain 1 |\u001b[34m██████████\u001b[0m| 00:00 Sampling completed                      "
     ]
    },
    {
     "name": "stdout",
     "output_type": "stream",
     "text": [
      "                                                                                "
     ]
    },
    {
     "name": "stderr",
     "output_type": "stream",
     "text": [
      "\n",
      "INFO:cmdstanpy:CmdStan done processing.\n"
     ]
    },
    {
     "name": "stdout",
     "output_type": "stream",
     "text": [
      "\n"
     ]
    }
   ],
   "source": [
    "from cmdstanpy import CmdStanModel\n",
    "R = 1000\n",
    "model_1=CmdStanModel(stan_file='prior1.stan')\n",
    "#sampling\n",
    "model_1_samp = model_1.sample(data = {'N': df.shape[0], 'mom_iq': df[\"mom_iq\"].values},\n",
    "                     iter_sampling=R,\n",
    "                     iter_warmup=1,\n",
    "                     chains=1,\n",
    "                     fixed_param=True,\n",
    "                     seed=2904,refresh=R)"
   ]
  },
  {
   "cell_type": "code",
   "execution_count": 192,
   "metadata": {},
   "outputs": [
    {
     "name": "stdout",
     "output_type": "stream",
     "text": [
      "[  0.     137.844  116.645  108.262    0.     114.17   104.539  103.798\n",
      "   0.     115.385    0.      86.5704 107.801    0.       0.     131.9\n",
      " 104.949  118.339    0.       0.       0.       0.       0.       0.\n",
      "   0.     129.906    0.       0.       0.     116.984  137.557  119.58\n",
      "   0.     129.823   84.9398 116.618    0.      73.7995 116.054  124.334\n",
      " 123.447  107.551   93.648  150.641    0.     111.383    0.       0.\n",
      "   0.     128.842    0.      91.664    0.     127.71     0.       0.\n",
      "  84.0562 103.677   77.9183  96.1139  99.3076 100.093  133.668  103.684\n",
      "   0.       0.       0.      80.0932  90.0228   0.       0.       0.\n",
      " 131.724   87.0272  72.3912  97.1442   0.      98.349    0.     136.426\n",
      "  61.9172   0.       0.     100.494   76.9257 104.908    0.     135.995\n",
      "   0.       0.     112.969  149.76     0.     103.501    0.     139.999\n",
      " 144.362    0.       0.     150.307    0.       0.     120.918    0.\n",
      " 117.963    0.     153.89     0.     113.001  122.122  123.412  128.514\n",
      "  66.6747 108.377  128.27   127.871    0.       0.      95.1481   0.\n",
      " 144.129  107.037    0.     111.288  124.19     0.       0.     126.646\n",
      "   0.      87.6047 132.357    0.       0.     104.431    0.     123.353\n",
      " 117.337    0.       0.      92.3047   0.     129.466   67.5826   0.\n",
      "   0.       0.      98.1774 104.254   88.0814  98.2627   0.      94.0615\n",
      "  92.428  122.692    0.       0.       0.       0.       0.       0.\n",
      " 124.824  105.74     0.       0.       0.       0.       0.       0.\n",
      " 137.468  109.749  113.595  130.694   62.5956   0.       0.     106.191\n",
      " 130.26   118.402    0.       0.      65.7828   0.     163.388    0.\n",
      "   0.       0.      53.1004   0.     105.808  127.687  116.093   93.5152\n",
      " 132.961    0.       0.      83.7728   0.      97.6449   0.      93.7309\n",
      " 108.805    0.      96.3609 159.749    0.       0.     172.912   94.7957\n",
      "   0.     104.638    0.       0.      87.6765 124.487    0.      99.794\n",
      " 110.704  115.297   99.2933   0.      86.7185   0.       0.       0.\n",
      " 118.087    0.       0.       0.     157.224    0.       0.       0.\n",
      " 115.586  120.38     0.       0.       0.      89.4599   0.       0.\n",
      "  88.539    0.     112.067    0.     107.22    81.4264   0.       0.\n",
      " 115.172   99.7946  77.0362  49.7182  94.4301 101.708    0.     114.333\n",
      "   0.       0.     125.165    0.       0.      81.8297 101.914    0.\n",
      "  78.5481 145.227    0.       0.     148.158    0.     117.628  144.39\n",
      " 106.272    0.     106.171  105.782    0.      98.6311 128.456   97.2575\n",
      "   0.      92.8107  97.8419   0.     129.581   95.9882 135.532  105.833\n",
      " 110.521    0.       0.      82.0966 100.556  130.012    0.       0.\n",
      " 106.03   133.746    0.       0.       0.     142.707    0.      99.8571\n",
      "   0.     117.226  140.312  105.736    0.       0.     108.179   94.3381\n",
      "  89.8021 143.594    0.       0.      99.7021   0.     110.802  111.34\n",
      "   0.       0.      96.9192 110.669    0.       0.       0.      90.7024\n",
      "   0.     105.187  128.174   83.3843 115.165  133.399    0.      91.2541\n",
      "   0.     126.844  102.786    0.     112.777  115.99     0.       0.\n",
      " 102.865  107.695  141.566  118.266  119.762    0.      78.3166   0.\n",
      "   0.      95.2861   0.       0.     158.364  124.966   96.4705 108.855\n",
      "   0.     109.35     0.       0.     100.888  119.32    99.3667   0.\n",
      "  90.6013   0.       0.     136.563    0.     125.532  112.727  105.705\n",
      "   0.     117.429   96.6472 119.973  121.803  111.129   97.1918  93.9035\n",
      "   0.     105.599  105.21    69.7296   0.     121.448  117.481    0.\n",
      " 100.721    0.      97.9491 111.549   75.5292   0.      94.0139  96.782\n",
      " 114.736  120.829  104.249   99.1128   0.       0.       0.     138.696\n",
      "   0.       0.       0.     123.633   77.5971   0.       0.       0.\n",
      "  97.7625 106.     137.367   71.5593   0.     101.178    0.      88.854\n",
      "   0.     123.615    0.      91.4111 117.76   125.403    0.      99.8602\n",
      " 123.997   79.2364   0.     103.898  122.089    0.      66.0571   0.\n",
      "  97.3614 140.531    0.       0.       0.     140.047    0.       0.\n",
      "  93.5584  62.4881   0.       0.       0.     138.115  120.827    0.\n",
      "  88.4106 121.69    83.406    0.      79.9036  72.3882 110.547    0.\n",
      "  85.8708  96.1542 125.272  110.928  116.603  100.863    0.       0.\n",
      "   0.     115.377    0.       0.      70.0616  98.3676 108.922  106.579\n",
      "  95.5607  90.2703 132.358  126.189    0.      79.0058   0.      83.3796\n",
      "   0.     110.176   82.8468  94.2492 114.927    0.     131.488    0.\n",
      "   0.       0.     139.219    0.     120.698    0.       0.       0.\n",
      "   0.      89.7668  88.9344   0.      72.5779 111.319   86.2393   0.\n",
      " 119.966  129.759    0.     126.626    0.       0.       0.       0.\n",
      " 114.827   96.4728 100.468  120.115    0.       0.     134.123   71.6296\n",
      "   0.     114.978    0.     131.875  143.41     0.     106.086    0.\n",
      " 115.486  103.456   95.6343 113.637  135.814  131.906   94.0448   0.\n",
      "   0.      90.7323   0.     116.039    0.     131.775    0.     130.977\n",
      "   0.      97.3934   0.      78.5989   0.     111.211   59.888    0.\n",
      " 125.543    0.       0.     119.399   81.8337 119.933    0.     149.289\n",
      " 118.419   84.7739   0.       0.       0.     149.41     0.     104.833\n",
      " 122.469    0.       0.     108.252  111.306    0.     120.058  141.676\n",
      " 124.178  109.005   99.9196  79.4243 129.832  110.393    0.      89.3118\n",
      "   0.       0.     112.129    0.     104.23     0.       0.      93.6696\n",
      " 131.583   92.7606 122.252    0.       0.       0.       0.     117.271\n",
      "   0.       0.     133.397  131.835    0.     114.839    0.       0.\n",
      "   0.       0.       0.       0.       0.      84.7106   0.       0.\n",
      "   0.     121.855    0.       0.       0.       0.       0.      78.5668\n",
      " 109.512    0.     102.95   103.307   82.564  120.996    0.     106.588\n",
      "   0.      90.5358  92.1011   0.       0.     131.193  114.685    0.\n",
      "  96.4685   0.     119.945    0.     105.482  114.585  105.128    0.\n",
      "   0.      74.9922  66.1171   0.     117.414    0.     147.728    0.\n",
      "   0.     102.808    0.     101.57     0.     108.291    0.     131.379\n",
      " 132.081  118.016    0.     111.635    0.       0.     106.947    0.\n",
      " 140.303    0.       0.       0.      88.0654   0.       0.     126.484\n",
      " 121.842   99.2104   0.     103.89     0.     124.221    0.      93.6469\n",
      " 110.106  126.934    0.       0.       0.     145.063  125.033    0.\n",
      "  86.1925   0.     101.835    0.       0.      99.5811 136.854    0.\n",
      " 106.687   81.9693   0.       0.     140.096   99.6433 128.852  100.577\n",
      " 130.898    0.       0.       0.       0.     110.749  133.152    0.\n",
      "   0.     112.424    0.       0.       0.     100.147   92.9369 110.591\n",
      "  81.6312   0.       0.     105.754    0.       0.       0.     107.512\n",
      "   0.      97.1206   0.      98.6993  92.5813   0.     112.331   96.6832\n",
      " 140.627  112.026    0.     118.465  106.249  112.322  100.813   81.1504\n",
      "   0.       0.     103.483   80.3906 106.049   97.0933   0.       0.\n",
      " 123.029  114.136    0.     144.189    0.       0.       0.      79.9433\n",
      " 133.522    0.      76.2469  78.3267   0.      70.7993 128.978    0.\n",
      "   0.     117.182  116.737    0.       0.       0.      94.6227 113.055\n",
      " 138.685  111.007    0.     129.952   94.9224   0.     139.541    0.\n",
      "   0.      94.3684   0.      93.9797   0.     135.196  144.369    0.\n",
      "  96.8762   0.      89.7634   0.       0.     116.66     0.     117.197\n",
      "  93.4393 113.309   68.1485   0.     100.073    0.     112.541  127.228\n",
      " 114.454   90.8254  99.5707   0.       0.     125.989   94.4489 115.137\n",
      "   0.     107.59    89.974    0.       0.       0.       0.     102.603\n",
      " 104.502  123.445  105.365  131.925    0.     138.581   97.9951   0.\n",
      " 138.209    0.     113.904  133.815  103.18   103.476  112.45   130.919\n",
      " 103.446  113.952    0.     100.237  129.577  115.145  116.827    0.\n",
      "   0.       0.      86.233    0.       0.      95.4709   0.       0.\n",
      "   0.      81.5999   0.       0.     121.017    0.      95.4314 117.299\n",
      "   0.     140.279    0.       0.      71.5968 125.421  128.756    0.\n",
      " 114.336  109.871  113.733    0.      77.3652 127.424  124.334  140.078\n",
      "   0.       0.      80.887    0.      81.3732   0.       0.     142.52\n",
      " 119.233  127.294    0.       0.       0.       0.     138.342  117.234\n",
      "   0.      99.3126 107.562  127.927  150.088    0.     129.596    0.\n",
      "   0.       0.     108.095    0.       0.       0.      98.9687   0.\n",
      "  81.2517   0.       0.      97.8625   0.       0.     112.189  119.928\n",
      "  84.9236  85.4035   0.      71.9189 114.742    0.       0.     124.208\n",
      " 109.745    0.       0.      88.0114   0.      85.4646 119.706  138.966\n",
      "  70.0333 120.779  144.782    0.     110.209  102.35   121.497  110.101\n",
      " 119.241  100.946  138.273    0.     110.689    0.     106.933    0.\n",
      "   0.     104.349    0.       0.       0.     110.917    0.      97.1099\n",
      "  96.8844 106.992  114.933    0.     156.894   93.9062  92.9381   0.\n",
      " 104.956  122.964    0.     100.796  120.463  129.463    0.      92.3367\n",
      " 133.736  120.97   105.546   92.9423   0.      88.4104 118.259    0.    ]\n"
     ]
    }
   ],
   "source": [
    "print(model_1_samp.stan_variable(\"beta0\"))"
   ]
  },
  {
   "cell_type": "code",
   "execution_count": 188,
   "metadata": {},
   "outputs": [
    {
     "name": "stdout",
     "output_type": "stream",
     "text": [
      "[-6.26020e-01  6.61232e-01 -6.41836e-01  2.65610e-01  2.80353e-01\n",
      "  2.99064e-01  2.15435e-01 -1.65852e+00  1.04152e+00  1.95953e+00\n",
      " -4.89751e-01 -3.79988e-01  4.92619e-01 -5.40409e-01 -1.17682e+00\n",
      "  1.32043e+00  2.26397e-01  1.01148e+00 -5.78857e-01  1.68399e+00\n",
      " -1.20915e+00  9.25473e-01  7.81981e-01 -3.00056e-01 -8.41689e-02\n",
      "  5.73201e-01 -3.76468e-01  4.64029e-01 -5.27746e-01  5.23089e-01\n",
      " -8.04495e-01 -7.88160e-01 -1.29129e+00 -5.20416e-01 -1.30932e+00\n",
      " -1.37229e+00 -1.24499e+00 -2.10815e-01  9.03595e-01 -8.18284e-01\n",
      " -4.31504e-01 -9.47425e-01 -6.15827e-01 -1.65950e-01 -6.06718e-01\n",
      " -4.17766e-02  1.40730e+00  7.88393e-01 -5.24005e-01 -2.01739e+00\n",
      " -1.46079e+00 -3.51352e-02 -4.83120e-01  1.77340e+00  5.15763e-01\n",
      " -1.22785e+00  1.61874e+00 -1.40709e+00 -7.55351e-01 -1.87989e+00\n",
      " -4.50958e-01 -3.80395e-01 -7.13547e-01 -2.52443e+00 -8.26083e-02\n",
      "  3.72043e-01 -5.53191e-01 -3.61259e-01 -4.56618e-01  5.70260e-01\n",
      " -2.60264e+00 -9.16303e-01  2.14466e+00  6.15614e-01  4.37245e-01\n",
      " -1.10507e-01 -1.25647e+00 -1.32220e+00  1.95422e+00  1.54708e+00\n",
      "  1.36839e+00  3.20106e-01 -5.45623e-01 -2.41024e-01 -5.85285e-01\n",
      "  1.50248e+00  7.19274e-01 -2.59721e-01  1.29769e-01 -7.76668e-01\n",
      "  5.45348e-01  2.56422e-01 -3.54270e-01  8.83293e-01  1.21089e+00\n",
      "  2.90470e-01  2.48082e-02  8.58950e-02  2.47892e-01  1.19506e+00\n",
      "  1.70355e+00  1.48883e+00 -5.23755e-01  6.36299e-01  1.54360e-01\n",
      "  2.67935e-01 -6.22653e-01 -1.34804e-01  5.34053e-01 -1.11842e+00\n",
      "  3.92746e-01 -8.69988e-01  6.34482e-01  1.24336e+00  1.33555e-03\n",
      "  4.94719e-02 -1.52221e-01  7.84111e-01 -7.86682e-01  5.63993e-02\n",
      " -6.03607e-01  1.49798e-01  2.79342e+00 -1.17380e+00  3.54525e-01\n",
      " -1.09354e+00 -2.41708e-01  5.05439e-02  7.13500e-01 -1.07913e+00\n",
      " -3.86444e-01 -7.22551e-01  3.05458e-01 -1.04883e+00  1.52548e-01\n",
      "  1.39238e-01  1.17680e+00  2.42169e-01  1.33860e-01 -3.17788e-01\n",
      " -5.53030e-01 -3.87928e-01  1.51258e+00  3.11557e+00  2.94998e-01\n",
      " -2.22103e+00  1.91577e-01  7.24859e-01  1.20307e+00 -9.32456e-02\n",
      " -5.85323e-01 -2.48212e-01 -3.29796e-01 -5.03401e-01 -7.16984e-01\n",
      "  7.46435e-01 -9.23828e-01  4.26828e-01  5.63337e-01 -5.19614e-01\n",
      "  1.86258e+00  3.62537e-01  4.73369e-01 -1.74855e+00  2.27110e-01\n",
      "  1.66886e+00  2.60684e-01 -6.11695e-01 -7.78277e-01  1.03534e+00\n",
      " -1.65365e+00  3.38851e-01  8.39451e-01  2.22410e+00  6.96557e-01\n",
      " -4.21096e-01 -1.81137e+00  7.24654e-03 -6.03460e-01 -8.54289e-01\n",
      " -8.22424e-01 -4.08941e-01 -9.00517e-01 -3.10978e-01  1.82431e+00\n",
      " -1.90986e+00 -7.20167e-01  7.88917e-01 -1.12515e+00 -7.18215e-01\n",
      " -8.52872e-01  1.35156e+00  1.80759e+00  2.67728e-01  5.52216e-01\n",
      " -5.45121e-01 -2.42054e-02 -7.88418e-01  5.12792e-01  5.17233e-01\n",
      "  9.48081e-01 -4.05376e-01 -1.00447e+00  1.03997e-02 -5.99610e-01\n",
      " -1.08831e+00  2.89777e-01 -9.62505e-01  9.32581e-01  2.36654e+00\n",
      " -1.63670e+00  1.54227e+00  9.00147e-01  1.26458e+00  2.17537e-01\n",
      " -3.74008e-01 -5.21886e-01 -2.44726e-01  7.33491e-01  4.26365e-01\n",
      "  9.16378e-02 -6.24137e-01 -1.53516e+00  5.55487e-01 -1.04292e-01\n",
      "  9.21536e-01 -7.67532e-01 -2.59078e-01 -2.22180e+00 -9.18745e-01\n",
      "  1.15373e-01  5.86988e-01  2.08685e+00  1.45033e-01 -1.11523e-01\n",
      "  2.11259e+00  1.11247e+00  2.99131e-01  7.04079e-01 -1.02687e-01\n",
      "  9.77462e-02 -2.77787e-01  4.71917e-01 -2.89065e-01 -1.24733e+00\n",
      "  6.81497e-01  1.29275e+00  1.01606e+00  1.01861e-01  1.46377e+00\n",
      "  4.40949e-01  1.27981e+00 -4.81577e-01 -6.25746e-01  5.75439e-02\n",
      "  1.27469e+00  1.55117e+00 -6.21112e-02  2.51659e-01  1.06189e-02\n",
      "  2.86043e-01 -4.32652e-02 -4.57924e-01  1.17044e+00 -1.22843e+00\n",
      "  1.74951e+00 -5.25576e-01 -7.89848e-01  6.68843e-01  2.15768e+00\n",
      " -6.91773e-01 -6.85612e-01  2.66429e+00  1.07224e+00  2.86851e-01\n",
      "  1.34481e+00  5.67010e-01 -7.88563e-01  7.88502e-01 -1.18155e+00\n",
      "  7.85092e-01  3.15100e-01 -6.74746e-01 -1.94276e-01 -2.18506e-01\n",
      " -2.07056e-01  1.01027e+00 -2.19723e+00  5.02142e-01 -5.81111e-01\n",
      "  5.96523e-02  1.12128e+00  5.84576e-01  8.61054e-02 -1.15863e+00\n",
      " -1.76842e+00  5.58667e-01 -2.34018e+00  3.17759e-01 -8.17362e-02\n",
      " -7.14037e-01  7.06577e-01 -1.35162e-01  1.61686e-01  3.23902e-01\n",
      "  7.36539e-01 -3.83345e-01  9.87832e-01  7.60081e-01 -1.02329e+00\n",
      "  7.80382e-01  1.62895e+00 -7.10545e-01  1.33486e+00 -6.61392e-01\n",
      "  8.13686e-01 -1.92990e+00 -6.19609e-01 -4.13150e-01  6.53877e-01\n",
      " -1.08162e+00  1.12874e+00  7.63219e-01  1.22839e+00 -5.94850e-01\n",
      "  1.28192e+00 -1.41478e+00  6.65448e-01 -1.25858e+00 -9.86739e-01\n",
      " -2.12535e+00  3.55662e-01  1.18502e+00 -1.70069e-02 -2.42189e-01\n",
      " -2.62185e-02  9.94692e-01  1.12020e+00  1.57416e+00  2.40887e-01\n",
      " -1.17507e+00 -1.86473e+00 -4.77115e-01 -1.10528e+00  3.44201e-01\n",
      "  2.08642e-01 -4.86901e-01 -2.65182e-01 -1.09911e+00 -1.32456e-01\n",
      "  5.19941e-01 -3.16353e-01 -7.19484e-02  1.16902e+00 -1.16233e+00\n",
      " -7.18836e-01 -5.43798e-01  1.30741e-01 -1.63862e+00 -9.21343e-01\n",
      "  7.34256e-01  1.43218e+00 -1.16993e+00 -6.52929e-01 -6.62613e-02\n",
      "  2.05411e+00 -6.98668e-01  2.13174e-01 -3.68894e-01 -7.27557e-01\n",
      " -7.95163e-01  6.87426e-01  1.20448e+00 -1.10558e+00  1.88039e+00\n",
      "  4.58563e-01  2.02524e+00 -1.21690e+00 -3.05666e-02 -7.37598e-01\n",
      "  1.56018e+00 -1.25934e+00  1.02480e+00  1.60172e-01 -8.59032e-01\n",
      " -1.53410e+00 -1.74524e+00 -7.15062e-01 -8.26094e-01  2.34163e-01\n",
      " -3.38933e-02  1.74924e+00 -1.99232e-01 -1.21093e-01  8.46716e-01\n",
      "  6.32615e-02 -9.94137e-01  2.98668e-01 -1.37241e-01  1.05548e+00\n",
      " -1.40065e-01 -3.35088e-01  4.69585e-01 -5.66154e-01 -1.44158e+00\n",
      " -2.42579e+00  1.65392e+00  2.04268e-01 -2.62701e-01  2.83517e-01\n",
      "  3.49791e-01  3.75635e-01  2.72270e-01 -3.84404e-01 -9.26576e-01\n",
      " -2.67721e-01  3.40582e-01 -5.19873e-01  2.26648e-01  6.22287e-01\n",
      " -6.86564e-01 -2.62940e-01  1.13989e+00 -1.25972e-01 -6.05221e-01\n",
      " -8.57831e-01  4.79575e-01  2.38986e+00  8.11447e-01  8.77867e-02\n",
      " -4.66564e-01  3.94827e-01 -7.07827e-01 -1.59395e+00  1.65679e+00\n",
      " -7.97810e-01 -6.36669e-01 -6.17378e-01  1.26417e+00  3.02226e-01\n",
      " -4.04244e-01  3.57978e-01  3.42051e-01 -8.42594e-01  4.28527e-01\n",
      " -1.36530e+00  2.62163e-01 -7.13056e-02 -2.99744e-01  2.61430e-01\n",
      "  1.32999e+00  4.44781e-01 -2.00064e+00  8.61431e-01 -5.08851e-01\n",
      " -9.47136e-04  2.26653e-01  9.53111e-01 -1.08094e+00 -8.09972e-01\n",
      "  1.30613e-01  6.54939e-01 -3.00717e-01 -5.77906e-02 -7.30394e-01\n",
      " -1.03059e+00  5.52809e-02  1.12266e+00 -1.56866e-01  7.27695e-01\n",
      " -2.43622e-01 -2.82798e-01 -4.69066e-01  6.20985e-01 -6.19251e-02\n",
      " -6.98585e-01 -5.45807e-01  5.17390e-01  3.05367e-01 -1.23652e+00\n",
      "  6.15306e-01  3.23663e-01 -2.46660e-01  1.01877e+00  9.57300e-01\n",
      " -8.75344e-01 -1.56322e-01  9.77418e-01  8.50543e-01 -2.29776e-01\n",
      " -1.68293e+00 -1.51678e+00 -1.46986e+00 -1.32428e+00 -5.75119e-01\n",
      "  1.42015e+00 -1.32975e+00 -1.27619e+00 -7.10641e-01 -1.74150e-01\n",
      " -5.12085e-01 -3.74152e-01  6.55151e-01  4.97780e-01  1.25646e-01\n",
      "  1.81525e-01  2.10402e-01 -9.94806e-01 -9.47654e-01  3.42012e-01\n",
      "  7.37398e-01  1.00941e-01 -5.94728e-01  4.87311e-01  7.94395e-01\n",
      " -1.57643e-01 -7.53499e-02 -5.82656e-03  7.57572e-01  4.27877e-01\n",
      " -1.10889e+00 -9.71165e-02  4.61079e-01  5.32814e-01  7.83023e-01\n",
      "  9.34128e-02 -5.90264e-01 -6.48516e-01 -3.53244e-01  1.43829e-01\n",
      " -1.16105e+00  7.99479e-01 -1.58559e+00  6.40776e-03 -8.52720e-01\n",
      " -4.71345e-01 -1.27475e+00  1.19758e+00 -1.46220e+00  6.45311e-01\n",
      " -1.61567e+00 -2.21669e+00 -1.84631e-01  2.04030e-01 -1.05056e+00\n",
      "  4.99302e-01  1.98979e+00  2.02882e+00 -1.98242e-01 -5.35845e-01\n",
      "  1.02560e+00 -8.74744e-01 -1.25410e+00 -9.16361e-01  7.93601e-01\n",
      " -4.63081e-02  2.05682e-02  1.40327e+00 -8.49714e-01 -2.54770e-01\n",
      "  3.01907e-01  1.02264e+00  9.17289e-01 -7.88349e-02 -3.61240e-01\n",
      " -3.29735e-01  8.86128e-01 -2.91596e-02 -1.38801e+00 -1.33582e-01\n",
      " -7.31033e-01  5.22187e-01 -4.74468e-01  2.01066e-01 -2.04197e-01\n",
      " -1.31152e+00 -1.05456e+00 -1.43986e+00  1.37300e+00  2.90839e-01\n",
      " -1.64991e+00  7.80627e-01 -1.39542e-01  6.73250e-01  8.24847e-01\n",
      "  7.72130e-03 -2.28900e-01 -9.98809e-01  7.27426e-01  1.14783e+00\n",
      " -4.70420e-01 -1.61085e-01  8.38149e-01  5.13925e-01  4.50302e-01\n",
      "  4.15126e-01 -7.94220e-02  3.29062e-01  7.12619e-01  8.63218e-02\n",
      " -2.58540e-01  2.45783e+00  4.32396e-01 -2.36618e-01  2.66459e+00\n",
      " -1.49178e-02 -8.36452e-01  7.74794e-01  2.62744e-02  9.10469e-01\n",
      "  2.79604e-01 -2.32827e-01 -1.03485e+00 -3.28647e-01 -1.28082e-01\n",
      "  6.89412e-01 -3.54892e-01 -7.95039e-01  1.60790e+00 -1.20788e+00\n",
      "  2.29328e-02  2.11792e-01 -3.50864e-01 -1.17132e+00  8.19083e-02\n",
      "  8.84525e-01  9.27459e-04  9.78274e-01  4.39523e-01  1.12107e+00\n",
      " -5.76338e-01 -2.09804e+00 -1.75605e+00  4.06681e-01 -4.49214e-01\n",
      "  1.94117e+00  3.67836e-02  1.40558e+00  3.06630e-01 -2.98668e-01\n",
      "  5.98784e-01  1.57612e+00  5.99435e-01 -6.31249e-01 -3.27792e-01\n",
      "  2.07249e-01 -1.32342e+00  3.26109e-01  1.28394e+00  1.17376e+00\n",
      " -6.05815e-01  3.19888e-01 -1.22624e-01 -3.90768e-01  8.15609e-01\n",
      " -7.42707e-01 -1.50748e+00 -6.34003e-01 -1.68493e+00 -8.90094e-02\n",
      "  5.05348e-01  2.56010e-01  5.20818e-01 -4.74334e-02  7.51518e-01\n",
      "  8.60504e-01  6.88494e-01 -4.51883e-01 -5.80047e-01  8.13950e-01\n",
      " -6.29695e-01 -3.35038e-01  1.63144e+00 -5.45187e-02 -9.90534e-01\n",
      "  4.02913e-01 -4.13266e-01  8.30070e-01 -1.15717e+00 -3.23461e-01\n",
      "  1.12182e+00  9.42347e-02  5.17931e-02 -4.88780e-02  1.15740e-01\n",
      "  7.57772e-01 -8.08891e-01 -1.36496e+00  1.21128e+00 -7.08990e-01\n",
      " -1.06548e+00 -9.05298e-01  1.76191e-01 -5.39067e-01  5.50955e-02\n",
      "  1.13100e+00 -9.68806e-01 -1.96759e+00  5.65675e-01 -1.48448e+00\n",
      "  7.65622e-01 -5.57557e-01  1.45967e+00  8.04025e-01 -7.56505e-01\n",
      "  6.04726e-01 -9.13742e-01 -1.35109e+00  1.27222e+00 -1.40548e+00\n",
      " -1.20553e+00  3.32405e-01  7.97338e-01 -6.76461e-01  1.59284e-01\n",
      "  1.82774e-01  1.61732e+00  3.23671e-01  5.92351e-01 -1.89096e-01\n",
      "  1.16221e+00 -5.11328e-01  1.41924e+00 -2.92870e-01 -1.47530e+00\n",
      " -4.57860e-02 -2.25914e-01 -2.60646e+00 -1.46936e+00  8.82188e-01\n",
      " -5.70194e-01 -2.04626e-01 -4.62442e-01  1.90386e-01  2.41632e+00\n",
      "  1.46012e+00 -1.25528e+00  3.93152e-02  6.33274e-01  2.34069e+00\n",
      "  1.04646e+00  2.39405e-02  1.33739e+00 -1.14516e+00 -6.13192e-01\n",
      " -2.15497e-01  2.77480e-01  2.11262e+00 -1.68710e-01 -8.49806e-01\n",
      "  3.84763e-01  2.67352e-01  6.45098e-01  7.93227e-01 -1.11270e+00\n",
      " -2.90375e-01  1.46280e+00  3.16217e-02  3.14213e-01 -3.56958e-01\n",
      "  1.45064e-01 -4.11381e-01  1.30166e+00 -6.40050e-01 -4.21571e-01\n",
      " -6.79153e-01 -1.72727e+00  4.38057e-01 -2.37011e-01 -3.27633e-01\n",
      " -1.34156e+00  6.16985e-01  3.24525e-01 -9.43381e-02 -1.52133e-01\n",
      "  9.38779e-01  1.11127e+00 -2.70984e-01  1.15787e+00 -1.83142e+00\n",
      " -6.65230e-01  1.29982e+00 -1.02951e-01 -2.80206e-01  1.61894e+00\n",
      "  1.31596e+00  7.19133e-01  1.27977e+00  5.97676e-01  5.00076e-01\n",
      "  1.30035e+00  5.84443e-01 -8.57038e-01 -5.93224e-01 -1.70696e+00\n",
      "  2.14872e-01  1.09289e-01  1.01995e+00 -5.85625e-02  1.00112e+00\n",
      "  8.55322e-01  5.49349e-01  3.64661e-01  1.70931e-01 -7.00614e-01\n",
      " -4.74571e-01  7.78665e-01  1.85175e-01  8.15014e-01 -2.78570e-01\n",
      "  7.93978e-01  1.11442e+00  1.68445e-01  1.28990e+00  1.43389e+00\n",
      "  1.56992e+00 -1.24413e+00 -2.06985e-01  6.04909e-01  9.78277e-01\n",
      "  5.02553e-01 -2.17406e+00  6.50831e-01  1.23329e+00 -6.94124e-01\n",
      " -1.25751e-01 -2.00922e+00  1.32335e+00  1.10717e+00 -1.78406e-01\n",
      " -1.14541e+00 -4.74002e-01  8.82175e-01  1.03016e+00 -5.24106e-02\n",
      "  1.05976e+00  2.37920e+00 -4.71978e-01 -7.70636e-01 -3.83897e-02\n",
      "  1.58322e+00 -9.86129e-01 -7.75442e-01  4.23153e-01 -1.19582e+00\n",
      " -8.20832e-01 -2.97079e-01  2.06965e-01  9.67887e-01 -9.87357e-01\n",
      " -1.75488e-01  9.23915e-01  1.02336e+00  8.20728e-01  6.57360e-01\n",
      "  8.31117e-01  1.16674e+00  8.63958e-01 -1.19514e-01  6.98323e-01\n",
      "  4.16089e-01  3.79138e-01 -1.81309e+00  1.39497e+00 -1.41432e+00\n",
      " -8.51947e-01  1.60641e+00  1.82160e+00  3.29895e-01  2.32140e+00\n",
      " -4.67825e-01 -2.80974e-01  5.61860e-01 -3.48649e-01 -3.48038e-01\n",
      "  8.91704e-01  7.99045e-01 -1.60108e+00  5.46833e-01  1.07565e+00\n",
      "  6.39830e-01 -9.76226e-01 -1.53927e-01  3.04363e-01 -1.50161e+00\n",
      "  2.02558e-01  2.07312e+00  1.13683e+00  2.60186e+00  4.68272e-01\n",
      " -6.73859e-01 -1.33269e+00 -1.47245e-01 -5.88209e-01 -2.56960e+00\n",
      " -5.51105e-01  9.99563e-01  4.54202e-01  7.57185e-01 -6.65839e-01\n",
      "  1.83125e-01 -8.46554e-01  7.39350e-01 -1.41461e+00 -1.18910e+00\n",
      "  1.44880e+00  5.90215e-01 -6.13387e-02  2.57226e-01 -1.39565e-01\n",
      " -8.08130e-01  5.19773e-01 -4.64605e-01  1.97887e+00  3.79358e-01\n",
      "  8.71653e-02 -1.79651e+00  6.25602e-01  6.40407e-01 -1.06689e+00\n",
      " -1.19266e+00 -4.82627e-02 -2.54392e-01  8.02129e-01  1.50657e+00\n",
      " -2.67389e-01 -2.43140e-01  9.37567e-01 -5.03480e-01  6.24441e-01\n",
      "  5.21551e-01  3.20014e-01  5.46990e-01 -2.11069e+00  5.92799e-01\n",
      "  2.75732e-01  3.32949e-01  8.86365e-01 -1.52394e+00 -5.93480e-01\n",
      " -7.81652e-01  1.65519e+00 -4.96061e-01 -3.55491e-01  5.57081e-02\n",
      "  2.74653e-01  4.88106e-02  1.17777e-01 -4.43576e-01  1.60010e-01\n",
      " -2.00956e+00 -2.01835e-01  8.16452e-01 -1.91145e+00 -7.39882e-01\n",
      " -1.12159e+00  2.72072e-01  5.80345e-01  1.81084e+00 -2.81809e-01\n",
      "  9.42702e-01 -2.28456e+00  7.71775e-01 -1.00169e+00  3.42624e-01\n",
      "  3.10034e-01  2.39687e-01 -3.99006e-01  3.22731e-01 -1.13746e+00\n",
      " -8.27528e-01  7.69165e-01 -1.08190e+00  1.47860e+00  6.06291e-01\n",
      " -4.80654e-01  4.22977e-01  1.10685e-01  1.70249e+00 -1.51259e+00\n",
      " -1.79014e+00  6.71239e-01 -3.15019e-01 -1.29592e+00 -4.90026e-01\n",
      "  5.65219e-01 -6.98906e-01 -9.98725e-02 -3.32194e-01 -6.35267e-01\n",
      "  2.87381e+00 -1.90799e+00 -1.12616e+00  6.20813e-01 -1.40384e+00\n",
      " -1.58843e+00 -3.07246e-02  1.46799e-01 -1.32984e+00 -7.73531e-03]\n"
     ]
    }
   ],
   "source": [
    "print(model_1_samp.stan_variable(\"beta1\"))"
   ]
  },
  {
   "cell_type": "code",
   "execution_count": 180,
   "metadata": {},
   "outputs": [],
   "source": [
    "yields_pred_prior = model_1_samp.stan_variable(\"kid_score\")\n",
    "yields_pred_prior_means = np.mean(yields_pred_prior, axis=0)"
   ]
  },
  {
   "cell_type": "code",
   "execution_count": 181,
   "metadata": {},
   "outputs": [
    {
     "name": "stdout",
     "output_type": "stream",
     "text": [
      "[  226.86221443   206.14540335   227.2541642    180.99226776\n",
      "   191.3537381    220.79058265   246.1778126    204.31284673\n",
      "  -143.50636785   197.79683256  -342.78736565   194.38454705\n",
      "   201.36118525   211.91465109   236.11939064   203.70609429\n",
      "   219.19066534   212.9907036    255.69390298   269.26831104\n",
      "   230.6358091    290.92970575   173.11931222  -637.41420629\n",
      "   180.70391719   276.36215771   269.63839545   199.05344206\n",
      "   176.74390055   223.00754164   241.85726666   241.7300766\n",
      "   191.46100894   176.23555119   206.53553348   262.11144072\n",
      "   205.16606575   227.20699766   187.40701436   182.30545285\n",
      "   226.5417266    252.48370902   180.82554775   357.8738042\n",
      "   206.47376932   231.59330877   162.75327681   177.54541514\n",
      "   197.24283907   202.24576097   218.90945347   246.12900248\n",
      "   217.63691919   196.40608278 -1004.98712027   141.15669982\n",
      "   195.96617794   170.00607875   186.84170027   226.29797975\n",
      "   251.93402917   218.07343254   248.70251096   225.29822437\n",
      "   220.05081881   193.97228579   201.2673806    104.8475375\n",
      "   196.5662189    323.05343305   177.6390142    260.19736994\n",
      "   245.28997514   209.18575043   185.04208113   178.63758722\n",
      "   213.77832841   187.30276805    93.13469866   194.58571502\n",
      "   184.07107242   192.48704574   243.99887131   236.53109982\n",
      "   189.3688443    193.85706435   252.49043499   731.00221193\n",
      "   235.6628617    240.73935889    77.0080105    192.43032966\n",
      "  2231.37980442 -2017.83210763   241.47266905   179.01821297\n",
      "   173.2549599    182.1746934    216.54734603   151.85511619\n",
      "   221.07831904   197.68111229   226.12182118   164.58166466\n",
      "   185.06368038   240.34234128   195.68304803   182.45913093\n",
      "  -438.1574687    220.12536726   240.17653379   188.17428588\n",
      "   200.34266286   178.22230539   214.104577     203.06959212\n",
      "   192.81828956   218.18198995   217.87060085   208.82003093\n",
      "   104.16318165   406.03418196   199.1301072    269.48779601\n",
      "   230.66578619   205.51342974   135.05834527   163.29171295\n",
      "   202.85069023   192.24166849   173.29859888   401.76214395\n",
      "   269.42657016   225.01466537   186.99394036   241.04544885\n",
      "   171.01207586   202.80072567   333.39060489   201.62953471\n",
      "   228.48777018   172.36524603   235.62765391   265.95744386\n",
      "   254.49257531   221.31603497   243.08817277   530.51377871\n",
      "   189.88382116   164.48095058   264.81809459   249.02358397\n",
      "   241.88700682 -1109.89770012    81.84704173   164.49588542\n",
      "   217.52550181   202.81686893   207.31661008   202.35045894\n",
      "   189.24893007   235.39985923   247.62964097   242.28623236\n",
      "   224.41847563   189.46803115   194.47243898   245.47597938\n",
      "   221.39918243   218.30058627   239.98937603   253.38270269\n",
      "   151.70831366   168.21706703   185.01470296   208.9654566\n",
      "   225.26397891   102.25775631   183.29596441   327.76116741\n",
      "   196.75332094   189.63683169   162.55040323   202.83379737\n",
      "   208.1106415    211.56588404  -180.71802475   223.81208086\n",
      "   190.24663544   134.15240924   189.58350431    11.13362361\n",
      "   395.44973098   194.3479394    209.30390623   210.97551264\n",
      "   220.97589771   221.50616099   211.88685134   230.88915775\n",
      "   157.67604773   219.21224342   217.94511076   226.91386082\n",
      "   204.31262807   163.98910901   193.87321613   195.01741189\n",
      "   216.5391837    208.21576488   210.90370883   251.07775621\n",
      "   225.04379074   213.65433199   267.29960107   643.10157194\n",
      "   203.71769101   200.27319366   231.31135814   255.61917222\n",
      "   171.46396971   177.46549602   318.20588574   206.49129767\n",
      "   254.59396247   405.44938496   228.87423092   218.79957165\n",
      "   179.20137103   221.71356678   171.16113257   188.68412533\n",
      "   240.68344561   231.37541986   209.1343544    197.91610475\n",
      "   227.83614872   233.57201475   244.72276059   207.14898748\n",
      "   234.08711646   203.228172     202.33435141   140.19583895\n",
      "    93.76768406   571.32545562   174.9775786    278.53847628\n",
      "   188.91872343   183.78225872  -661.22663749   150.281976\n",
      "   239.89182614   259.55062565   215.51408589   222.57079698\n",
      "   207.43967903   182.04974345   156.47935336   200.6036378\n",
      "   214.7944897    233.40129006   226.55508629   169.31459624\n",
      "   224.50367887   212.16375111   184.17435998    89.4149918\n",
      "   173.24811147   182.54987613   302.27845362   228.34026705\n",
      "   225.5729892    200.09850392   194.67539988   175.34516515\n",
      "   184.29085436   253.78848449   234.67779806   195.1592834\n",
      "   206.55339471   208.78440022   230.91364015   180.18301279\n",
      "   -38.97962806   186.12349635   202.23183182   188.40396091\n",
      "   159.3490814    169.96641264   172.33301153   184.22356957\n",
      "   168.71696573   225.90293851   182.48561942   201.97659617\n",
      "   157.74095458   163.24581151   159.35115203   137.46741953\n",
      "   192.28161034   217.30130577   221.56229971   181.75358455\n",
      "   169.35570695   212.85120521   209.91099406   304.91392569\n",
      "   183.7207804    193.80725472   165.20896996   198.1982106\n",
      "   185.26462415   493.12484194   308.59867861   207.81463096\n",
      "   198.13740241   182.38404375   198.35315488   211.48726557\n",
      "   101.72093234   192.39154538   185.15493702   186.61771793\n",
      "   229.80293795   245.99325766   206.7438939    207.36697796\n",
      "   133.65046817   231.91733679   205.35507723   249.90956235\n",
      "   203.55720974   259.76128751   170.50696464   165.39652084\n",
      "   208.01722879   185.42899001   170.16412691   175.75545608\n",
      "   186.83439973   171.39776373   194.20873844   193.09174806\n",
      "   195.61972333   176.39552519   218.19895365   230.06393962\n",
      "   212.56302573   211.11269775   190.39899394   200.76396589\n",
      "    76.24301269   178.32698958   176.27129394   198.95387852\n",
      "   234.56871416   248.88779142   209.92185122   178.54461805\n",
      "   307.57546868   217.16419555   141.54233002   243.72275043\n",
      "   182.15103361   174.59379961   191.764009     138.9599787\n",
      "   173.43458684   193.92276214   186.36112238   184.89348865\n",
      "   185.59765722   193.60506323   184.12520996   284.11947754\n",
      "   192.46832167   234.54738877   353.92953325   175.53118908\n",
      "   185.79475269   178.01242035   206.62807762   195.7644979\n",
      "   199.06018453   206.50383033   206.10814542   189.69066692\n",
      "   179.89734156   138.07378687   205.504455     159.64860766\n",
      "   211.36058096   190.63056483  2816.20102385   171.20024395\n",
      "   223.87808067   294.97881877   241.73071443   192.08814498\n",
      "   179.83670623   222.20394456   117.19731507   261.79849183\n",
      "   176.62740258   181.10903097   216.53765072   230.30671798\n",
      "   217.40443005   180.99110196   234.80489077   202.70998751\n",
      "   207.90086219   237.50981739   235.01636188   192.78500006\n",
      "   201.47495962   189.26537561   169.31055663   174.78807513\n",
      "   205.20962107   194.34942835   175.43346541   237.59713226\n",
      "   150.6467959    213.36083502   251.55126514   176.34766017\n",
      "   167.66048385   175.37798828   176.8275351    192.84870094\n",
      "   156.38709876   167.67291944]\n"
     ]
    }
   ],
   "source": [
    "print(yields_pred_prior_means)"
   ]
  },
  {
   "cell_type": "code",
   "execution_count": 182,
   "metadata": {},
   "outputs": [
    {
     "name": "stdout",
     "output_type": "stream",
     "text": [
      "                 Mean   MCSE  StdDev     5%  50%    95%   N_Eff  N_Eff/s  \\\n",
      "name                                                                       \n",
      "lp__              0.0    NaN     0.0    0.0  0.0    0.0     NaN      NaN   \n",
      "beta0            60.0   12.0   390.0    0.0  0.0  180.0  1000.0   4100.0   \n",
      "beta1             1.4    1.0    32.0   -2.7  0.0    3.2  1000.0   4000.0   \n",
      "sigma             9.7    2.3    74.0    0.0  0.0   28.0  1000.0   4000.0   \n",
      "kid_score[1]    227.0  123.0  3892.0 -335.0  0.0  627.0  1003.0   3981.0   \n",
      "...               ...    ...     ...    ...  ...    ...     ...      ...   \n",
      "kid_score[430]  175.0   87.0  2742.0 -233.0  0.0  476.0   996.0   3953.0   \n",
      "kid_score[431]  177.0   95.0  3011.0 -260.0  0.0  505.0  1000.0   3970.0   \n",
      "kid_score[432]  193.0   96.0  3051.0 -266.0  0.0  536.0  1003.0   3981.0   \n",
      "kid_score[433]  156.0  109.0  3414.0 -259.0  0.0  560.0   988.0   3923.0   \n",
      "kid_score[434]  168.0   94.0  2958.0 -246.0  0.0  470.0   998.0   3962.0   \n",
      "\n",
      "                R_hat  \n",
      "name                   \n",
      "lp__              NaN  \n",
      "beta0             1.0  \n",
      "beta1             1.0  \n",
      "sigma             1.0  \n",
      "kid_score[1]      1.0  \n",
      "...               ...  \n",
      "kid_score[430]    1.0  \n",
      "kid_score[431]    1.0  \n",
      "kid_score[432]    1.0  \n",
      "kid_score[433]    1.0  \n",
      "kid_score[434]    1.0  \n",
      "\n",
      "[438 rows x 9 columns]\n"
     ]
    }
   ],
   "source": [
    "print(model_1_samp.summary())"
   ]
  },
  {
   "cell_type": "code",
   "execution_count": 183,
   "metadata": {},
   "outputs": [
    {
     "data": {
      "image/png": "[encoded data removed]",
      "text/plain": [
       "<Figure size 432x288 with 1 Axes>"
      ]
     },
     "metadata": {
      "needs_background": "light"
     },
     "output_type": "display_data"
    }
   ],
   "source": [
    "plt.hist(yields_pred_prior_means, bins=30, density=True)\n",
    "plt.title('Prior Predictive Distribution of kid_score')\n",
    "plt.xlabel('kid_score')\n",
    "plt.ylabel('Density')\n",
    "plt.show()"
   ]
  },
  {
   "cell_type": "code",
   "execution_count": 168,
   "metadata": {},
   "outputs": [
    {
     "data": {
      "image/png": "[encoded data removed]",
      "text/plain": [
       "<Figure size 432x288 with 1 Axes>"
      ]
     },
     "metadata": {
      "needs_background": "light"
     },
     "output_type": "display_data"
    }
   ],
   "source": [
    "plt.bar(df[\"mom_iq\"],yields_pred_prior_means, label=\"predictions\")\n",
    "plt.bar(df[\"mom_iq\"],df[\"kid_score\"], label=\"data\", alpha =0.4)\n",
    "plt.title(\"comparison\")\n",
    "plt.ylabel(\"fatal accidents\")\n",
    "plt.xlabel(\"miles flown\")\n",
    "plt.legend()\n",
    "plt.show()"
   ]
  },
  {
   "cell_type": "code",
   "execution_count": 199,
   "metadata": {},
   "outputs": [
    {
     "name": "stdout",
     "output_type": "stream",
     "text": [
      "[ 65  98  85  83 115  98  69 106 102  95  91  58  84  78 102 110 102  99\n",
      " 105 101 102 115 100  87  99  96  72  78  77  98  69 130 109 106  92 100\n",
      " 107  86  90 110 107 113  65 102 103 111  42 100  67  92 100 110  56 107\n",
      "  97  56  95  78  76  86  79  81  79  79  56  52  63  80  87  88  92 100\n",
      "  94 117 102 107  99  73  56  78  94 110 109  86  92  91 123 102 105 114\n",
      "  96  66 104 108  84  83  83  92 109  95  93 114 106  87  65  95  61  73\n",
      " 112 113  49 105 122  96  97  94 117 136  85 116 106  99  94  89 119 112\n",
      " 104  92  86  69  45  57  94 104  89 144  52 102 106  98  97  94 111 100\n",
      " 105  90  98 121 106 121 102  64  99  81  69  84 104 104 107  88  67 103\n",
      "  94 109  94  98 102 104 114  87 102  77 109  94  93  86  97  97  88 103\n",
      "  87  87  90  65 111 109  87  58  87 113  64  78  97  95  75  91  99 108\n",
      "  95 100  85  97 108  90 100  82  94  95 119  98 100 112 136 122 126 116\n",
      "  98  94  93  90  70 110 104  83  99  81 104 109 113  95  74  81  89  93\n",
      " 102  95  85  97  92  78 104 120  83 105  68 104  80 120  94  81 101  61\n",
      "  68 110  89  98 113  50  57  86  83 106 106 104  78  99  91  40  42  69\n",
      "  84  58  42  72  80  58  52 101  63  73  68  60  69  73  75  20  56  49\n",
      "  71  46  54  54  44  74  58  46  76  43  60  58  89  43  94  88  79  87\n",
      "  46  95  92  42  62  52 101  97  85  98  94  90  72  92  75  83  64 101\n",
      "  82  77 101  50  90 103  96  50  47  73  62  77  64  52  61  86  41  83\n",
      "  64  83 116 100  42  74  76  92  98  96  67  84 111  41  68 107  82  89\n",
      "  83  73  74  94  58  76  61  38 100  84  99  86  94  90  50 112  58  87\n",
      "  76  68 110  88  87  54  49  56  79  82  80  60 102  87  42 119  84  86\n",
      " 113  72 104  94  78  80  67 104  96  65  64  95  56  75  91 106  76  90\n",
      " 108  86  85 104  87  41 106  76 100  89  42 102 104  59  93  94  76  50\n",
      "  88  70]\n"
     ]
    }
   ],
   "source": [
    "print(df[\"kid_score\"].values)"
   ]
  },
  {
   "cell_type": "code",
   "execution_count": 206,
   "metadata": {},
   "outputs": [
    {
     "name": "stderr",
     "output_type": "stream",
     "text": [
      "INFO:cmdstanpy:found newer exe file, not recompiling\n",
      "INFO:cmdstanpy:CmdStan start processing\n",
      "chain 1 |\u001b[33m          \u001b[0m| 00:00 StatusERROR:cmdstanpy:Chain [1] error: error during processing Operation not permitted\n",
      "chain 1 |\u001b[33m██████████\u001b[0m| 00:00 Sampling completed"
     ]
    },
    {
     "name": "stdout",
     "output_type": "stream",
     "text": [
      "                                                                                "
     ]
    },
    {
     "name": "stderr",
     "output_type": "stream",
     "text": [
      "\n",
      "INFO:cmdstanpy:CmdStan done processing.\n"
     ]
    },
    {
     "name": "stdout",
     "output_type": "stream",
     "text": [
      "\n"
     ]
    },
    {
     "ename": "RuntimeError",
     "evalue": "Error during sampling:\nCommand and output files:\nRunSet: chains=1, chain_ids=[1], num_processes=1\n cmd (chain 1):\n\t['/home/kidiq/model1', 'id=1', 'random', 'seed=2904', 'data', 'file=/tmp/tmp7k7iz85t/6823fuz4.json', 'output', 'file=/tmp/tmp7k7iz85t/model1-20240703191704.csv', 'refresh=1000', 'method=sample', 'num_samples=1000', 'num_warmup=0', 'algorithm=hmc', 'adapt', 'engaged=1']\n retcodes=[1]\n per-chain output files (showing chain 1 only):\n csv_file:\n\t/tmp/tmp7k7iz85t/model1-20240703191704.csv\n console_msgs (if any):\n\t/tmp/tmp7k7iz85t/model1-20240703191704_0-stdout.txt",
     "output_type": "error",
     "traceback": [
      "\u001b[0;31m---------------------------------------------------------------------------\u001b[0m",
      "\u001b[0;31mRuntimeError\u001b[0m                              Traceback (most recent call last)",
      "Input \u001b[0;32mIn [206]\u001b[0m, in \u001b[0;36m<cell line: 4>\u001b[0;34m()\u001b[0m\n\u001b[1;32m      2\u001b[0m model\u001b[38;5;241m=\u001b[39mCmdStanModel(stan_file\u001b[38;5;241m=\u001b[39m\u001b[38;5;124m'\u001b[39m\u001b[38;5;124mmodel1.stan\u001b[39m\u001b[38;5;124m'\u001b[39m)\n\u001b[1;32m      3\u001b[0m \u001b[38;5;66;03m#sampling\u001b[39;00m\n\u001b[0;32m----> 4\u001b[0m model_1_fit \u001b[38;5;241m=\u001b[39m \u001b[43mmodel\u001b[49m\u001b[38;5;241;43m.\u001b[39;49m\u001b[43msample\u001b[49m\u001b[43m(\u001b[49m\u001b[43mdata\u001b[49m\u001b[43m \u001b[49m\u001b[38;5;241;43m=\u001b[39;49m\u001b[43m \u001b[49m\u001b[43m{\u001b[49m\u001b[38;5;124;43m'\u001b[39;49m\u001b[38;5;124;43mN\u001b[39;49m\u001b[38;5;124;43m'\u001b[39;49m\u001b[43m:\u001b[49m\u001b[43m \u001b[49m\u001b[43mdf\u001b[49m\u001b[38;5;241;43m.\u001b[39;49m\u001b[43mshape\u001b[49m\u001b[43m[\u001b[49m\u001b[38;5;241;43m0\u001b[39;49m\u001b[43m]\u001b[49m\u001b[43m,\u001b[49m\u001b[43m \u001b[49m\u001b[38;5;124;43m'\u001b[39;49m\u001b[38;5;124;43mmom_iq\u001b[39;49m\u001b[38;5;124;43m'\u001b[39;49m\u001b[43m:\u001b[49m\u001b[43m \u001b[49m\u001b[43mdf\u001b[49m\u001b[43m[\u001b[49m\u001b[38;5;124;43m\"\u001b[39;49m\u001b[38;5;124;43mmom_iq\u001b[39;49m\u001b[38;5;124;43m\"\u001b[39;49m\u001b[43m]\u001b[49m\u001b[38;5;241;43m.\u001b[39;49m\u001b[43mvalues\u001b[49m\u001b[43m,\u001b[49m\u001b[43m \u001b[49m\u001b[38;5;124;43m'\u001b[39;49m\u001b[38;5;124;43mkid_score\u001b[39;49m\u001b[38;5;124;43m'\u001b[39;49m\u001b[43m:\u001b[49m\u001b[43m \u001b[49m\u001b[43mdf\u001b[49m\u001b[43m[\u001b[49m\u001b[38;5;124;43m\"\u001b[39;49m\u001b[38;5;124;43mkid_score\u001b[39;49m\u001b[38;5;124;43m\"\u001b[39;49m\u001b[43m]\u001b[49m\u001b[38;5;241;43m.\u001b[39;49m\u001b[43mvalues\u001b[49m\u001b[43m}\u001b[49m\u001b[43m,\u001b[49m\n\u001b[1;32m      5\u001b[0m \u001b[43m                     \u001b[49m\u001b[43miter_sampling\u001b[49m\u001b[38;5;241;43m=\u001b[39;49m\u001b[43mR\u001b[49m\u001b[43m,\u001b[49m\n\u001b[1;32m      6\u001b[0m \u001b[43m                     \u001b[49m\u001b[43miter_warmup\u001b[49m\u001b[38;5;241;43m=\u001b[39;49m\u001b[38;5;241;43m0\u001b[39;49m\u001b[43m,\u001b[49m\n\u001b[1;32m      7\u001b[0m \u001b[43m                     \u001b[49m\u001b[43mchains\u001b[49m\u001b[38;5;241;43m=\u001b[39;49m\u001b[38;5;241;43m1\u001b[39;49m\u001b[43m,\u001b[49m\n\u001b[1;32m      8\u001b[0m \u001b[43m                     \u001b[49m\u001b[43mseed\u001b[49m\u001b[38;5;241;43m=\u001b[39;49m\u001b[38;5;241;43m2904\u001b[39;49m\u001b[43m,\u001b[49m\u001b[43mrefresh\u001b[49m\u001b[38;5;241;43m=\u001b[39;49m\u001b[43mR\u001b[49m\u001b[43m)\u001b[49m\n",
      "File \u001b[0;32m/usr/local/lib/python3.9/site-packages/cmdstanpy/model.py:1089\u001b[0m, in \u001b[0;36mCmdStanModel.sample\u001b[0;34m(self, data, chains, parallel_chains, threads_per_chain, seed, chain_ids, inits, iter_warmup, iter_sampling, save_warmup, thin, max_treedepth, metric, step_size, adapt_engaged, adapt_delta, adapt_init_phase, adapt_metric_window, adapt_step_size, fixed_param, output_dir, sig_figs, save_latent_dynamics, save_profile, show_progress, show_console, refresh, time_fmt, force_one_process_per_chain)\u001b[0m\n\u001b[1;32m   1085\u001b[0m         msg \u001b[38;5;241m=\u001b[39m \u001b[38;5;124m'\u001b[39m\u001b[38;5;124mError during sampling:\u001b[39m\u001b[38;5;130;01m\\n\u001b[39;00m\u001b[38;5;132;01m{}\u001b[39;00m\u001b[38;5;124m'\u001b[39m\u001b[38;5;241m.\u001b[39mformat(runset\u001b[38;5;241m.\u001b[39mget_err_msgs())\n\u001b[1;32m   1086\u001b[0m         msg \u001b[38;5;241m=\u001b[39m \u001b[38;5;124m'\u001b[39m\u001b[38;5;132;01m{}\u001b[39;00m\u001b[38;5;124mCommand and output files:\u001b[39m\u001b[38;5;130;01m\\n\u001b[39;00m\u001b[38;5;132;01m{}\u001b[39;00m\u001b[38;5;124m'\u001b[39m\u001b[38;5;241m.\u001b[39mformat(\n\u001b[1;32m   1087\u001b[0m             msg, runset\u001b[38;5;241m.\u001b[39m\u001b[38;5;21m__repr__\u001b[39m()\n\u001b[1;32m   1088\u001b[0m         )\n\u001b[0;32m-> 1089\u001b[0m         \u001b[38;5;28;01mraise\u001b[39;00m \u001b[38;5;167;01mRuntimeError\u001b[39;00m(msg)\n\u001b[1;32m   1091\u001b[0m     mcmc \u001b[38;5;241m=\u001b[39m CmdStanMCMC(runset)\n\u001b[1;32m   1092\u001b[0m \u001b[38;5;28;01mreturn\u001b[39;00m mcmc\n",
      "\u001b[0;31mRuntimeError\u001b[0m: Error during sampling:\nCommand and output files:\nRunSet: chains=1, chain_ids=[1], num_processes=1\n cmd (chain 1):\n\t['/home/kidiq/model1', 'id=1', 'random', 'seed=2904', 'data', 'file=/tmp/tmp7k7iz85t/6823fuz4.json', 'output', 'file=/tmp/tmp7k7iz85t/model1-20240703191704.csv', 'refresh=1000', 'method=sample', 'num_samples=1000', 'num_warmup=0', 'algorithm=hmc', 'adapt', 'engaged=1']\n retcodes=[1]\n per-chain output files (showing chain 1 only):\n csv_file:\n\t/tmp/tmp7k7iz85t/model1-20240703191704.csv\n console_msgs (if any):\n\t/tmp/tmp7k7iz85t/model1-20240703191704_0-stdout.txt"
     ]
    }
   ],
   "source": [
    "R = 1000\n",
    "model=CmdStanModel(stan_file='model1.stan')\n",
    "#sampling\n",
    "model_1_fit = model.sample(data = {'N': df.shape[0], 'mom_iq': df[\"mom_iq\"].values, 'kid_score': df[\"kid_score\"].values},\n",
    "                     iter_sampling=R,\n",
    "                     iter_warmup=1,\n",
    "                     chains=1,\n",
    "                     seed=2904,refresh=R)"
   ]
  },
  {
   "cell_type": "code",
   "execution_count": 204,
   "metadata": {},
   "outputs": [
    {
     "name": "stdout",
     "output_type": "stream",
     "text": [
      "[-65.969112  -48.5008564 -62.8864148 -54.1134217 -50.3686301 -58.7165726\n",
      " -75.7563197 -68.1701626 -44.2262325 -51.6284944 -48.1018484 -51.5625113\n",
      " -48.3103109 -62.1589769 -54.701558  -65.5937573 -62.3029051 -60.7726415\n",
      " -72.9788017 -52.8810363 -59.8865957 -69.0825807 -53.1929465 -54.3068106\n",
      " -53.0586859 -66.3629438 -53.6952906 -53.2314836 -43.5951436 -62.2502036\n",
      " -59.3768234 -55.3874103 -64.2519961 -59.1282052 -52.4736901 -50.4448956\n",
      " -52.1229011 -58.2259178 -47.3528733 -48.5196069 -55.7471919 -71.0023902\n",
      " -45.274116  -68.5110048 -46.6099944 -68.9769519 -42.8862272 -61.5884034\n",
      " -60.0631541 -54.0077471 -55.6689191 -68.1051725 -51.5345271 -50.1384871\n",
      " -55.3485151 -43.2924035 -52.2730356 -44.6369494 -41.4831599 -59.8613894\n",
      " -60.7033405 -61.8981896 -55.0005596 -55.1073492 -55.3258533 -53.6875186\n",
      " -50.7816459 -47.4050153 -47.4111681 -46.7717535 -48.7545302 -66.4129485\n",
      " -69.5272017 -59.8647093 -49.1081323 -48.2492228 -61.515916  -42.2971076\n",
      " -51.792733  -45.3603279 -46.8004421 -51.8375275 -60.5700324 -69.2297334\n",
      " -48.8427524 -53.9435633 -43.9860086 -60.1406207 -74.4476862 -67.4777058\n",
      " -73.3907725 -49.4802888 -56.1159488 -68.8593128 -69.4772107 -50.2698504\n",
      " -46.0103752 -54.6793689 -58.7805112 -42.6887775 -66.0027707 -56.0786535\n",
      " -54.5880372 -48.0508787 -46.342584  -65.0658643 -49.1587818 -52.3382375\n",
      " -69.6073163 -65.2977335 -60.9886196 -50.2571751 -52.2157554 -49.702201\n",
      " -56.0462069 -54.5030235 -48.758141  -62.6747721 -52.5554567 -57.3821414\n",
      " -53.0797247 -71.8707443 -55.3564833 -50.7732307 -56.6010171 -56.4149978\n",
      " -58.4420625 -50.3184431 -51.3179053 -50.6417787 -45.268815  -38.4261465\n",
      " -69.5853675 -63.0259618 -49.4359006 -72.4405473 -39.2160756 -54.7736775\n",
      " -72.3737114 -53.5907914 -63.0361855 -63.7682905 -74.4653412 -57.9779363\n",
      " -73.1435476 -56.9338038 -54.0269043 -54.5981258 -48.5686723 -65.9074511\n",
      " -61.6402625 -68.8695698 -66.8335568 -62.8451433 -49.780903  -48.1087863\n",
      " -58.3190261 -57.1162996 -56.5092765 -59.9499262 -48.0117326 -63.7466597\n",
      " -68.4826193 -66.8035205 -65.8991286 -50.5564858 -54.0199984 -67.4926895\n",
      " -61.5492348 -63.0552662 -62.6275463 -50.8496615 -66.3557124 -49.0439912\n",
      " -45.2372575 -54.1093633 -62.0174703 -53.0414117 -48.7611463 -65.1303688\n",
      " -52.9477221 -46.0691646 -55.6389372 -54.0134714 -53.8771782 -52.7129472\n",
      " -58.9502858 -54.6417676 -54.0584822 -62.0979922 -50.3709357 -47.8052612\n",
      " -57.6907333 -56.1348084 -53.9642659 -58.1081651 -53.9104116 -55.7413461\n",
      " -50.412415  -63.634979  -46.3644034 -62.9650847 -61.6445871 -58.1459612\n",
      " -52.0786761 -41.7889178 -48.4999013 -61.2148254 -60.2211311 -59.5830136\n",
      " -58.7227211 -57.1335595 -58.6002011 -59.5875431 -72.8200169 -70.1807333\n",
      " -55.0552587 -47.3706501 -64.3368206 -65.53022   -49.0718764 -43.2636997\n",
      " -74.5170123 -55.6948377 -72.3710616 -52.3309442 -64.3767676 -64.3155542\n",
      " -55.181766  -51.2579977 -45.9368383 -47.0661149 -70.4615949 -69.6312112\n",
      " -58.1777851 -57.5138732 -63.7508272 -65.0209147 -55.8356513 -58.8640082\n",
      " -68.9252778 -55.4488029 -53.8837296 -49.8587181 -45.6567111 -45.7753688\n",
      " -42.8756636 -49.6695618 -49.1165903 -42.8025685 -59.514951  -41.5865224\n",
      " -53.0232749 -70.2210978 -61.8807782 -62.1676395 -61.2588086 -40.8036642\n",
      " -44.2294635 -55.8552314 -55.0437035 -61.0873073 -67.2276083 -46.9901107\n",
      " -54.4043935 -55.6811976 -47.7380904 -43.5115282 -43.5066082 -49.4709009\n",
      " -46.4889682 -61.6109775 -61.0129186 -55.0681758 -44.3685656 -43.9353577\n",
      " -44.0996433 -65.6875487 -55.7190753 -49.4203343 -56.3842309 -55.63425\n",
      " -66.3868747 -48.119294  -48.8599558 -45.3290531 -49.8932078 -47.272364\n",
      " -43.6394241 -45.7517107 -42.1101293 -44.6060833 -41.9206174 -48.7336189\n",
      " -43.3065002 -44.5371411 -43.503725  -41.9226145 -44.8709577 -48.4327691\n",
      " -48.3838367 -48.2942994 -64.7727828 -45.4686538 -45.6094194 -57.1273089\n",
      " -58.7508712 -52.9328902 -56.4861721 -53.0156249 -48.1178932 -58.3427876\n",
      " -48.7711332 -59.2680746 -54.7444676 -64.7316431 -51.9171865 -45.9990965\n",
      " -54.747056  -47.2252047 -42.1873012 -46.3061517 -50.346292  -40.5690484\n",
      " -62.7861214 -58.430349  -55.5912109 -53.2351224 -52.6093961 -60.654089\n",
      " -59.5701738 -44.5676722 -50.4251482 -62.9366664 -45.6009043 -63.3142053\n",
      " -53.9740569 -47.3243662 -41.5521017 -43.7628866 -44.7199888 -46.1899806\n",
      " -50.6041792 -48.0978819 -56.0657168 -47.1460671 -53.2163707 -65.8722208\n",
      " -49.8227139 -47.4760929 -49.1218267 -45.6497129 -52.54005   -52.0130012\n",
      " -48.1830631 -50.0423952 -58.7584265 -43.5772893 -54.243694  -48.8823487\n",
      " -51.0286807 -56.4241181 -41.7548407 -64.034169  -43.2933187 -45.358073\n",
      " -48.1704424 -44.9010259 -47.1432091 -48.1807786 -50.1587573 -49.25319\n",
      " -45.6165881 -50.5385877 -46.6309958 -53.7586994 -51.892275  -54.9132094\n",
      " -46.6092558 -44.8973142 -53.6315271 -44.5452608 -46.4568557 -43.0719357\n",
      " -40.7818906 -43.8146482 -63.0883431 -52.8019469 -43.8163495 -43.0942209\n",
      " -53.2326269 -59.2445623 -43.7656918 -54.7635767 -49.4906481 -45.0130773\n",
      " -48.7064424 -71.4670772 -67.8461054 -49.7375011 -50.4944406 -49.9021775\n",
      " -48.096098  -68.7181418 -46.1333286 -45.0361109 -55.3714953 -54.5038858\n",
      " -59.8194736 -48.0734473 -58.0669041 -51.7633038 -58.9452393 -60.0473578\n",
      " -63.6536337 -47.0111484 -52.6107618 -49.0068347 -48.4594605 -40.2075583\n",
      " -49.8737721 -52.3941638 -52.9577012 -71.7115912 -42.3820148 -69.5707185\n",
      " -67.8600937 -43.5995914 -40.52903   -46.0961047 -50.5117394 -51.5563496\n",
      " -52.6612773 -49.5473226]\n"
     ]
    }
   ],
   "source": [
    "yields_pred_prior = model_1_fit.stan_variable(\"kid_score_pred\")\n",
    "yields_pred_prior_means = np.mean(yields_pred_prior, axis=0)\n",
    "\n",
    "print(yields_pred_prior_means)"
   ]
  },
  {
   "cell_type": "code",
   "execution_count": 205,
   "metadata": {},
   "outputs": [
    {
     "name": "stdout",
     "output_type": "stream",
     "text": [
      "[0.648139 0.648139 0.648139 0.648139 0.648139 0.648139 0.648139 0.648139\n",
      " 0.648139 0.648139 0.648139 0.648139 0.648139 0.648139 0.648139 0.648139\n",
      " 0.648139 0.648139 0.648139 0.648139 0.648139 0.648139 0.648139 0.648139\n",
      " 0.648139 0.648139 0.648139 0.648139 0.648139 0.648139 0.648139 0.648139\n",
      " 0.648139 0.648139 0.648139 0.648139 0.648139 0.648139 0.648139 0.648139\n",
      " 0.648139 0.648139 0.648139 0.648139 0.648139 0.648139 0.648139 0.648139\n",
      " 0.648139 0.648139 0.648139 0.648139 0.648139 0.648139 0.648139 0.648139\n",
      " 0.648139 0.648139 0.648139 0.648139 0.648139 0.648139 0.648139 0.648139\n",
      " 0.648139 0.648139 0.648139 0.648139 0.648139 0.648139 0.648139 0.648139\n",
      " 0.648139 0.648139 0.648139 0.648139 0.648139 0.648139 0.648139 0.648139\n",
      " 0.648139 0.648139 0.648139 0.648139 0.648139 0.648139 0.648139 0.648139\n",
      " 0.648139 0.648139 0.648139 0.648139 0.648139 0.648139 0.648139 0.648139\n",
      " 0.648139 0.648139 0.648139 0.648139 0.648139 0.648139 0.648139 0.648139\n",
      " 0.648139 0.648139 0.648139 0.648139 0.648139 0.648139 0.648139 0.648139\n",
      " 0.648139 0.648139 0.648139 0.648139 0.648139 0.648139 0.648139 0.648139\n",
      " 0.648139 0.648139 0.648139 0.648139 0.648139 0.648139 0.648139 0.648139\n",
      " 0.648139 0.648139 0.648139 0.648139 0.648139 0.648139 0.648139 0.648139\n",
      " 0.648139 0.648139 0.648139 0.648139 0.648139 0.648139 0.648139 0.648139\n",
      " 0.648139 0.648139 0.648139 0.648139 0.648139 0.648139 0.648139 0.648139\n",
      " 0.648139 0.648139 0.648139 0.648139 0.648139 0.648139 0.648139 0.648139\n",
      " 0.648139 0.648139 0.648139 0.648139 0.648139 0.648139 0.648139 0.648139\n",
      " 0.648139 0.648139 0.648139 0.648139 0.648139 0.648139 0.648139 0.648139\n",
      " 0.648139 0.648139 0.648139 0.648139 0.648139 0.648139 0.648139 0.648139\n",
      " 0.648139 0.648139 0.648139 0.648139 0.648139 0.648139 0.648139 0.648139\n",
      " 0.648139 0.648139 0.648139 0.648139 0.648139 0.648139 0.648139 0.648139\n",
      " 0.648139 0.648139 0.648139 0.648139 0.648139 0.648139 0.648139 0.648139\n",
      " 0.648139 0.648139 0.648139 0.648139 0.648139 0.648139 0.648139 0.648139\n",
      " 0.648139 0.648139 0.648139 0.648139 0.648139 0.648139 0.648139 0.648139\n",
      " 0.648139 0.648139 0.648139 0.648139 0.648139 0.648139 0.648139 0.648139\n",
      " 0.648139 0.648139 0.648139 0.648139 0.648139 0.648139 0.648139 0.648139\n",
      " 0.648139 0.648139 0.648139 0.648139 0.648139 0.648139 0.648139 0.648139\n",
      " 0.648139 0.648139 0.648139 0.648139 0.648139 0.648139 0.648139 0.648139\n",
      " 0.648139 0.648139 0.648139 0.648139 0.648139 0.648139 0.648139 0.648139\n",
      " 0.648139 0.648139 0.648139 0.648139 0.648139 0.648139 0.648139 0.648139\n",
      " 0.648139 0.648139 0.648139 0.648139 0.648139 0.648139 0.648139 0.648139\n",
      " 0.648139 0.648139 0.648139 0.648139 0.648139 0.648139 0.648139 0.648139\n",
      " 0.648139 0.648139 0.648139 0.648139 0.648139 0.648139 0.648139 0.648139\n",
      " 0.648139 0.648139 0.648139 0.648139 0.648139 0.648139 0.648139 0.648139\n",
      " 0.648139 0.648139 0.648139 0.648139 0.648139 0.648139 0.648139 0.648139\n",
      " 0.648139 0.648139 0.648139 0.648139 0.648139 0.648139 0.648139 0.648139\n",
      " 0.648139 0.648139 0.648139 0.648139 0.648139 0.648139 0.648139 0.648139\n",
      " 0.648139 0.648139 0.648139 0.648139 0.648139 0.648139 0.648139 0.648139\n",
      " 0.648139 0.648139 0.648139 0.648139 0.648139 0.648139 0.648139 0.648139\n",
      " 0.648139 0.648139 0.648139 0.648139 0.648139 0.648139 0.648139 0.648139\n",
      " 0.648139 0.648139 0.648139 0.648139 0.648139 0.648139 0.648139 0.648139\n",
      " 0.648139 0.648139 0.648139 0.648139 0.648139 0.648139 0.648139 0.648139\n",
      " 0.648139 0.648139 0.648139 0.648139 0.648139 0.648139 0.648139 0.648139\n",
      " 0.648139 0.648139 0.648139 0.648139 0.648139 0.648139 0.648139 0.648139\n",
      " 0.648139 0.648139 0.648139 0.648139 0.648139 0.648139 0.648139 0.648139\n",
      " 0.648139 0.648139 0.648139 0.648139 0.648139 0.648139 0.648139 0.648139\n",
      " 0.648139 0.648139 0.648139 0.648139 0.648139 0.648139 0.648139 0.648139\n",
      " 0.648139 0.648139 0.648139 0.648139 0.648139 0.648139 0.648139 0.648139\n",
      " 0.648139 0.648139 0.648139 0.648139 0.648139 0.648139 0.648139 0.648139\n",
      " 0.648139 0.648139 0.648139 0.648139 0.648139 0.648139 0.648139 0.648139\n",
      " 0.648139 0.648139 0.648139 0.648139 0.648139 0.648139 0.648139 0.648139\n",
      " 0.648139 0.648139 0.648139 0.648139 0.648139 0.648139 0.648139 0.648139\n",
      " 0.648139 0.648139 0.648139 0.648139 0.648139 0.648139 0.648139 0.648139\n",
      " 0.648139 0.648139 0.648139 0.648139 0.648139 0.648139 0.648139 0.648139\n",
      " 0.648139 0.648139 0.648139 0.648139 0.648139 0.648139 0.648139 0.648139\n",
      " 0.648139 0.648139 0.648139 0.648139 0.648139 0.648139 0.648139 0.648139\n",
      " 0.648139 0.648139 0.648139 0.648139 0.648139 0.648139 0.648139 0.648139\n",
      " 0.648139 0.648139 0.648139 0.648139 0.648139 0.648139 0.648139 0.648139\n",
      " 0.648139 0.648139 0.648139 0.648139 0.648139 0.648139 0.648139 0.648139\n",
      " 0.648139 0.648139 0.648139 0.648139 0.648139 0.648139 0.648139 0.648139\n",
      " 0.648139 0.648139 0.648139 0.648139 0.648139 0.648139 0.648139 0.648139\n",
      " 0.648139 0.648139 0.648139 0.648139 0.648139 0.648139 0.648139 0.648139\n",
      " 0.648139 0.648139 0.648139 0.648139 0.648139 0.648139 0.648139 0.648139\n",
      " 0.648139 0.648139 0.648139 0.648139 0.648139 0.648139 0.648139 0.648139\n",
      " 0.648139 0.648139 0.648139 0.648139 0.648139 0.648139 0.648139 0.648139\n",
      " 0.648139 0.648139 0.648139 0.648139 0.648139 0.648139 0.648139 0.648139\n",
      " 0.648139 0.648139 0.648139 0.648139 0.648139 0.648139 0.648139 0.648139\n",
      " 0.648139 0.648139 0.648139 0.648139 0.648139 0.648139 0.648139 0.648139\n",
      " 0.648139 0.648139 0.648139 0.648139 0.648139 0.648139 0.648139 0.648139\n",
      " 0.648139 0.648139 0.648139 0.648139 0.648139 0.648139 0.648139 0.648139\n",
      " 0.648139 0.648139 0.648139 0.648139 0.648139 0.648139 0.648139 0.648139\n",
      " 0.648139 0.648139 0.648139 0.648139 0.648139 0.648139 0.648139 0.648139\n",
      " 0.648139 0.648139 0.648139 0.648139 0.648139 0.648139 0.648139 0.648139\n",
      " 0.648139 0.648139 0.648139 0.648139 0.648139 0.648139 0.648139 0.648139\n",
      " 0.648139 0.648139 0.648139 0.648139 0.648139 0.648139 0.648139 0.648139\n",
      " 0.648139 0.648139 0.648139 0.648139 0.648139 0.648139 0.648139 0.648139\n",
      " 0.648139 0.648139 0.648139 0.648139 0.648139 0.648139 0.648139 0.648139\n",
      " 0.648139 0.648139 0.648139 0.648139 0.648139 0.648139 0.648139 0.648139\n",
      " 0.648139 0.648139 0.648139 0.648139 0.648139 0.648139 0.648139 0.648139\n",
      " 0.648139 0.648139 0.648139 0.648139 0.648139 0.648139 0.648139 0.648139\n",
      " 0.648139 0.648139 0.648139 0.648139 0.648139 0.648139 0.648139 0.648139\n",
      " 0.648139 0.648139 0.648139 0.648139 0.648139 0.648139 0.648139 0.648139\n",
      " 0.648139 0.648139 0.648139 0.648139 0.648139 0.648139 0.648139 0.648139\n",
      " 0.648139 0.648139 0.648139 0.648139 0.648139 0.648139 0.648139 0.648139\n",
      " 0.648139 0.648139 0.648139 0.648139 0.648139 0.648139 0.648139 0.648139\n",
      " 0.648139 0.648139 0.648139 0.648139 0.648139 0.648139 0.648139 0.648139\n",
      " 0.648139 0.648139 0.648139 0.648139 0.648139 0.648139 0.648139 0.648139\n",
      " 0.648139 0.648139 0.648139 0.648139 0.648139 0.648139 0.648139 0.648139\n",
      " 0.648139 0.648139 0.648139 0.648139 0.648139 0.648139 0.648139 0.648139\n",
      " 0.648139 0.648139 0.648139 0.648139 0.648139 0.648139 0.648139 0.648139\n",
      " 0.648139 0.648139 0.648139 0.648139 0.648139 0.648139 0.648139 0.648139\n",
      " 0.648139 0.648139 0.648139 0.648139 0.648139 0.648139 0.648139 0.648139\n",
      " 0.648139 0.648139 0.648139 0.648139 0.648139 0.648139 0.648139 0.648139\n",
      " 0.648139 0.648139 0.648139 0.648139 0.648139 0.648139 0.648139 0.648139\n",
      " 0.648139 0.648139 0.648139 0.648139 0.648139 0.648139 0.648139 0.648139\n",
      " 0.648139 0.648139 0.648139 0.648139 0.648139 0.648139 0.648139 0.648139\n",
      " 0.648139 0.648139 0.648139 0.648139 0.648139 0.648139 0.648139 0.648139\n",
      " 0.648139 0.648139 0.648139 0.648139 0.648139 0.648139 0.648139 0.648139\n",
      " 0.648139 0.648139 0.648139 0.648139 0.648139 0.648139 0.648139 0.648139\n",
      " 0.648139 0.648139 0.648139 0.648139 0.648139 0.648139 0.648139 0.648139\n",
      " 0.648139 0.648139 0.648139 0.648139 0.648139 0.648139 0.648139 0.648139\n",
      " 0.648139 0.648139 0.648139 0.648139 0.648139 0.648139 0.648139 0.648139\n",
      " 0.648139 0.648139 0.648139 0.648139 0.648139 0.648139 0.648139 0.648139\n",
      " 0.648139 0.648139 0.648139 0.648139 0.648139 0.648139 0.648139 0.648139\n",
      " 0.648139 0.648139 0.648139 0.648139 0.648139 0.648139 0.648139 0.648139\n",
      " 0.648139 0.648139 0.648139 0.648139 0.648139 0.648139 0.648139 0.648139\n",
      " 0.648139 0.648139 0.648139 0.648139 0.648139 0.648139 0.648139 0.648139\n",
      " 0.648139 0.648139 0.648139 0.648139 0.648139 0.648139 0.648139 0.648139\n",
      " 0.648139 0.648139 0.648139 0.648139 0.648139 0.648139 0.648139 0.648139\n",
      " 0.648139 0.648139 0.648139 0.648139 0.648139 0.648139 0.648139 0.648139\n",
      " 0.648139 0.648139 0.648139 0.648139 0.648139 0.648139 0.648139 0.648139\n",
      " 0.648139 0.648139 0.648139 0.648139 0.648139 0.648139 0.648139 0.648139\n",
      " 0.648139 0.648139 0.648139 0.648139 0.648139 0.648139 0.648139 0.648139\n",
      " 0.648139 0.648139 0.648139 0.648139 0.648139 0.648139 0.648139 0.648139\n",
      " 0.648139 0.648139 0.648139 0.648139 0.648139 0.648139 0.648139 0.648139\n",
      " 0.648139 0.648139 0.648139 0.648139 0.648139 0.648139 0.648139 0.648139\n",
      " 0.648139 0.648139 0.648139 0.648139 0.648139 0.648139 0.648139 0.648139\n",
      " 0.648139 0.648139 0.648139 0.648139 0.648139 0.648139 0.648139 0.648139\n",
      " 0.648139 0.648139 0.648139 0.648139 0.648139 0.648139 0.648139 0.648139\n",
      " 0.648139 0.648139 0.648139 0.648139 0.648139 0.648139 0.648139 0.648139\n",
      " 0.648139 0.648139 0.648139 0.648139 0.648139 0.648139 0.648139 0.648139]\n"
     ]
    }
   ],
   "source": [
    "print(model_1_fit.stan_variable(\"beta0\"))"
   ]
  },
  {
   "cell_type": "code",
   "execution_count": 155,
   "metadata": {},
   "outputs": [
    {
     "data": {
      "image/png": "[encoded data removed]",
      "text/plain": [
       "<Figure size 432x288 with 1 Axes>"
      ]
     },
     "metadata": {
      "needs_background": "light"
     },
     "output_type": "display_data"
    }
   ],
   "source": [
    "plt.hist(yields_pred_prior_means, bins=30, density=True)\n",
    "plt.title('Prior Predictive Distribution of kid_score')\n",
    "plt.xlabel('kid_score')\n",
    "plt.ylabel('Density')\n",
    "plt.show()"
   ]
  }
 ],
 "metadata": {
  "kernelspec": {
   "display_name": "Python 3",
   "language": "python",
   "name": "python3"
  },
  "language_info": {
   "codemirror_mode": {
    "name": "ipython",
    "version": 3
   },
   "file_extension": ".py",
   "mimetype": "text/x-python",
   "name": "python",
   "nbconvert_exporter": "python",
   "pygments_lexer": "ipython3",
   "version": "3.9.11"
  }
 },
 "nbformat": 4,
 "nbformat_minor": 2
}
